{
 "cells": [
  {
   "cell_type": "markdown",
   "metadata": {
    "id": "LZGC7wRfHB6P"
   },
   "source": [
    "https://www.kaggle.com/datasets/pwang001/user-package-information-of-mobile-operators"
   ]
  },
  {
   "cell_type": "code",
   "execution_count": 1,
   "metadata": {
    "id": "R-9WTHuTHB6V"
   },
   "outputs": [],
   "source": [
    "import pandas as pd\n",
    "import numpy as np\n",
    "import matplotlib.pyplot as plt\n",
    "\n",
    "from sklearn import ensemble\n",
    "from sklearn.ensemble import RandomForestClassifier\n",
    "from sklearn.metrics import accuracy_score\n",
    "from sklearn.model_selection import train_test_split\n",
    "\n",
    "import warnings\n",
    "warnings.filterwarnings(\"ignore\")"
   ]
  },
  {
   "cell_type": "code",
   "execution_count": 2,
   "metadata": {
    "colab": {
     "base_uri": "https://localhost:8080/"
    },
    "id": "Fp1AfKhkHB6Z",
    "outputId": "c1aa19d5-0a82-4ed1-e416-a248d2f4884b"
   },
   "outputs": [
    {
     "name": "stderr",
     "output_type": "stream",
     "text": [
      "\"wget\" �� ���� ����७��� ��� ���譥�\n",
      "��������, �ᯮ��塞�� �ணࠬ��� ��� ������ 䠩���.\n",
      "\"wget\" �� ���� ����७��� ��� ���譥�\n",
      "��������, �ᯮ��塞�� �ணࠬ��� ��� ������ 䠩���.\n",
      "\"wget\" �� ���� ����७��� ��� ���譥�\n",
      "��������, �ᯮ��塞�� �ணࠬ��� ��� ������ 䠩���.\n",
      "\"wget\" �� ���� ����७��� ��� ���譥�\n",
      "��������, �ᯮ��塞�� �ணࠬ��� ��� ������ 䠩���.\n"
     ]
    }
   ],
   "source": [
    "!wget https://www.dropbox.com/s/5b6o99k5ko6cr1r/train_1.csv\n",
    "!wget https://www.dropbox.com/s/br8m56fomdxs7lw/train_2.csv\n",
    "!wget https://www.dropbox.com/s/xmw5shslewwfi0n/test_1.csv\n",
    "!wget https://www.dropbox.com/s/uxxc48au1zclpu2/test_2.csv\n",
    "df_train_1 = pd.read_csv('train_1.csv', encoding='utf-8')\n",
    "df_train_2 = pd.read_csv('train_2.csv', encoding='utf-8')\n",
    "df_test_1 = pd.read_csv('test_1.csv', encoding='utf-8')\n",
    "df_test_2 = pd.read_csv('test_2.csv', encoding='utf-8')\n",
    "df = pd.concat([df_train_1, df_train_2, df_test_1, df_test_2])"
   ]
  },
  {
   "cell_type": "code",
   "execution_count": 3,
   "metadata": {
    "colab": {
     "base_uri": "https://localhost:8080/"
    },
    "id": "OE2h-V6SHB6a",
    "outputId": "19063414-d82a-46be-fe40-8e4c8c3e4b01"
   },
   "outputs": [
    {
     "data": {
      "text/plain": [
       "service_type              False\n",
       "is_mix_service            False\n",
       "online_time               False\n",
       "1_total_fee               False\n",
       "2_total_fee               False\n",
       "3_total_fee               False\n",
       "4_total_fee               False\n",
       "month_traffic             False\n",
       "many_over_bill            False\n",
       "contract_type             False\n",
       "contract_time             False\n",
       "is_promise_low_consume    False\n",
       "net_service               False\n",
       "pay_times                 False\n",
       "pay_num                   False\n",
       "last_month_traffic        False\n",
       "local_trafffic_month      False\n",
       "local_caller_time         False\n",
       "service1_caller_time      False\n",
       "service2_caller_time      False\n",
       "gender                    False\n",
       "age                       False\n",
       "complaint_level           False\n",
       "former_complaint_num      False\n",
       "former_complaint_fee      False\n",
       "current_service            True\n",
       "user_id                   False\n",
       "dtype: bool"
      ]
     },
     "execution_count": 3,
     "metadata": {},
     "output_type": "execute_result"
    }
   ],
   "source": [
    "df.isnull().any()"
   ]
  },
  {
   "cell_type": "code",
   "execution_count": 4,
   "metadata": {
    "colab": {
     "base_uri": "https://localhost:8080/"
    },
    "id": "honVPoheHB6c",
    "outputId": "aa60ce66-0678-4016-f9d7-b005581c63c4"
   },
   "outputs": [
    {
     "name": "stdout",
     "output_type": "stream",
     "text": [
      "current_service count: 1479211\n",
      "current_service nulls count: 360566\n",
      "percent of nulls: 24.37556237751071\n"
     ]
    }
   ],
   "source": [
    "allCs = df['current_service'].size\n",
    "nullCs = df['current_service'][df['current_service'].isnull()].size\n",
    "print('current_service count', allCs, sep=': ') \n",
    "print('current_service nulls count', nullCs, sep=': ')\n",
    "print('percent of nulls', nullCs/allCs*100, sep=': ')"
   ]
  },
  {
   "cell_type": "code",
   "execution_count": 5,
   "metadata": {
    "colab": {
     "base_uri": "https://localhost:8080/"
    },
    "id": "eMZvo5Q2HB6d",
    "outputId": "e8d88810-4943-42f9-a100-29c30902f8f0"
   },
   "outputs": [
    {
     "data": {
      "text/plain": [
       "array([99999825., 90063345., 90109916., 89950166., 89950168., 89950167.,\n",
       "       90155946., 99999828., 99999826., 99999827., 99999830.,   999999.,\n",
       "             nan])"
      ]
     },
     "execution_count": 5,
     "metadata": {},
     "output_type": "execute_result"
    }
   ],
   "source": [
    "df['current_service'].unique()"
   ]
  },
  {
   "cell_type": "code",
   "execution_count": 6,
   "metadata": {
    "colab": {
     "base_uri": "https://localhost:8080/"
    },
    "id": "qjVfnoznHB6e",
    "outputId": "5e553e2d-2c8b-4371-afdd-56e399d4383e"
   },
   "outputs": [
    {
     "data": {
      "text/plain": [
       "service_type              False\n",
       "is_mix_service            False\n",
       "online_time               False\n",
       "1_total_fee               False\n",
       "2_total_fee               False\n",
       "3_total_fee               False\n",
       "4_total_fee               False\n",
       "month_traffic             False\n",
       "many_over_bill            False\n",
       "contract_type             False\n",
       "contract_time             False\n",
       "is_promise_low_consume    False\n",
       "net_service               False\n",
       "pay_times                 False\n",
       "pay_num                   False\n",
       "last_month_traffic        False\n",
       "local_trafffic_month      False\n",
       "local_caller_time         False\n",
       "service1_caller_time      False\n",
       "service2_caller_time      False\n",
       "gender                    False\n",
       "age                       False\n",
       "complaint_level           False\n",
       "former_complaint_num      False\n",
       "former_complaint_fee      False\n",
       "user_id                   False\n",
       "dtype: bool"
      ]
     },
     "execution_count": 6,
     "metadata": {},
     "output_type": "execute_result"
    }
   ],
   "source": [
    "del df[\"current_service\"]\n",
    "df.isnull().any()"
   ]
  },
  {
   "cell_type": "code",
   "execution_count": 7,
   "metadata": {
    "colab": {
     "base_uri": "https://localhost:8080/"
    },
    "id": "27f8NC4HHB6f",
    "outputId": "bcf9c2a6-437e-4ba0-fe62-fc14d7a0b664"
   },
   "outputs": [
    {
     "name": "stdout",
     "output_type": "stream",
     "text": [
      "<class 'pandas.core.frame.DataFrame'>\n",
      "Int64Index: 1479211 entries, 0 to 160565\n",
      "Data columns (total 26 columns):\n",
      " #   Column                  Non-Null Count    Dtype  \n",
      "---  ------                  --------------    -----  \n",
      " 0   service_type            1479211 non-null  int64  \n",
      " 1   is_mix_service          1479211 non-null  int64  \n",
      " 2   online_time             1479211 non-null  int64  \n",
      " 3   1_total_fee             1479211 non-null  float64\n",
      " 4   2_total_fee             1479211 non-null  object \n",
      " 5   3_total_fee             1479211 non-null  object \n",
      " 6   4_total_fee             1479211 non-null  float64\n",
      " 7   month_traffic           1479211 non-null  float64\n",
      " 8   many_over_bill          1479211 non-null  int64  \n",
      " 9   contract_type           1479211 non-null  int64  \n",
      " 10  contract_time           1479211 non-null  int64  \n",
      " 11  is_promise_low_consume  1479211 non-null  int64  \n",
      " 12  net_service             1479211 non-null  int64  \n",
      " 13  pay_times               1479211 non-null  int64  \n",
      " 14  pay_num                 1479211 non-null  float64\n",
      " 15  last_month_traffic      1479211 non-null  float64\n",
      " 16  local_trafffic_month    1479211 non-null  float64\n",
      " 17  local_caller_time       1479211 non-null  float64\n",
      " 18  service1_caller_time    1479211 non-null  float64\n",
      " 19  service2_caller_time    1479211 non-null  float64\n",
      " 20  gender                  1479211 non-null  object \n",
      " 21  age                     1479211 non-null  object \n",
      " 22  complaint_level         1479211 non-null  int64  \n",
      " 23  former_complaint_num    1479211 non-null  int64  \n",
      " 24  former_complaint_fee    1479211 non-null  float64\n",
      " 25  user_id                 1479211 non-null  object \n",
      "dtypes: float64(10), int64(11), object(5)\n",
      "memory usage: 304.7+ MB\n"
     ]
    }
   ],
   "source": [
    "df.info()"
   ]
  },
  {
   "attachments": {},
   "cell_type": "markdown",
   "metadata": {
    "id": "-6XWGWvzHB6g"
   },
   "source": [
    "столбцы object:        \n",
    "2_total_fee      \n",
    "3_total_fee             \n",
    "gender         \n",
    "age         \n",
    "user_id         "
   ]
  },
  {
   "cell_type": "code",
   "execution_count": 8,
   "metadata": {
    "id": "cGn5oevNHB6h"
   },
   "outputs": [],
   "source": [
    "# user_id ничего не определяет при классификации\n",
    "del df[\"user_id\"]"
   ]
  },
  {
   "cell_type": "code",
   "execution_count": 9,
   "metadata": {
    "colab": {
     "base_uri": "https://localhost:8080/"
    },
    "id": "6lSmAZbFHB6h",
    "outputId": "27cb6b3a-1386-40e9-a8a3-a5c717a2bbfa"
   },
   "outputs": [
    {
     "name": "stdout",
     "output_type": "stream",
     "text": [
      "2_total_fee count: 1479211\n",
      "2_total_fee float count: 1118763\n",
      "percent of nulls: 75.63241484818596\n"
     ]
    }
   ],
   "source": [
    "allCount = df['2_total_fee'].size\n",
    "floatCount = df['2_total_fee'][df['2_total_fee'].apply(type) == float].size\n",
    "print('2_total_fee count', allCount, sep=': ') \n",
    "print('2_total_fee float count', floatCount, sep=': ')\n",
    "print('percent of nulls', floatCount/allCount*100, sep=': ')"
   ]
  },
  {
   "cell_type": "code",
   "execution_count": 10,
   "metadata": {
    "colab": {
     "base_uri": "https://localhost:8080/"
    },
    "id": "iz2MVkfcHB6i",
    "outputId": "e821e354-f9f6-450c-cfb4-a2690031a7a7"
   },
   "outputs": [
    {
     "name": "stdout",
     "output_type": "stream",
     "text": [
      "2_total_fee count: 1479211\n",
      "2_total_fee nulls count: 15\n",
      "percent of nulls: 0.0010140541139837386\n"
     ]
    }
   ],
   "source": [
    "tf2 = pd.to_numeric(df['2_total_fee'], errors='coerce')\n",
    "\n",
    "allCs = tf2.size\n",
    "nullCs = tf2[tf2.isnull()].size\n",
    "print('2_total_fee count', allCs, sep=': ') \n",
    "print('2_total_fee nulls count', nullCs, sep=': ')\n",
    "print('percent of nulls', nullCs/allCs*100, sep=': ')"
   ]
  },
  {
   "cell_type": "code",
   "execution_count": 11,
   "metadata": {
    "colab": {
     "base_uri": "https://localhost:8080/"
    },
    "id": "G95CQGdvHB6j",
    "outputId": "db73192d-85ae-4230-97a2-5319db092f81"
   },
   "outputs": [],
   "source": [
    "df['2_total_fee'] = tf2\n",
    "df1 = df[pd.notnull(df['2_total_fee'])]"
   ]
  },
  {
   "cell_type": "code",
   "execution_count": 12,
   "metadata": {
    "colab": {
     "base_uri": "https://localhost:8080/"
    },
    "id": "KHr2MOnbHB6k",
    "outputId": "0062b195-e717-434b-9f30-99970d95fee7"
   },
   "outputs": [
    {
     "name": "stdout",
     "output_type": "stream",
     "text": [
      "3_total_fee count: 1479196\n",
      "3_total_fee nulls count: 5\n",
      "percent of nulls: 0.0003380214657151588\n"
     ]
    }
   ],
   "source": [
    "tf3 = pd.to_numeric(df1['3_total_fee'], errors='coerce')\n",
    "\n",
    "allCs = tf3.size\n",
    "nullCs = tf3[tf3.isnull()].size\n",
    "print('3_total_fee count', allCs, sep=': ') \n",
    "print('3_total_fee nulls count', nullCs, sep=': ')\n",
    "print('percent of nulls', nullCs/allCs*100, sep=': ')"
   ]
  },
  {
   "cell_type": "code",
   "execution_count": 13,
   "metadata": {
    "colab": {
     "base_uri": "https://localhost:8080/"
    },
    "id": "qaPnklRLHB6k",
    "outputId": "b63ffc56-1e1b-4f73-d32e-81f9b728e9ec"
   },
   "outputs": [],
   "source": [
    "df1['3_total_fee'] = tf3\n",
    "df2 = df1[pd.notnull(df1['3_total_fee'])]"
   ]
  },
  {
   "cell_type": "code",
   "execution_count": 14,
   "metadata": {
    "colab": {
     "base_uri": "https://localhost:8080/"
    },
    "id": "RPpop4jKHB6l",
    "outputId": "620286c4-5b41-488a-b850-248c6aaa21c3"
   },
   "outputs": [
    {
     "name": "stdout",
     "output_type": "stream",
     "text": [
      "age count: 1479191\n",
      "age nulls count: 2\n",
      "percent of nulls: 0.00013520904332165354\n"
     ]
    }
   ],
   "source": [
    "age = pd.to_numeric(df2['age'], errors='coerce')\n",
    "\n",
    "allCs = age.size\n",
    "nullCs = age[age.isnull()].size\n",
    "print('age count', allCs, sep=': ') \n",
    "print('age nulls count', nullCs, sep=': ')\n",
    "print('percent of nulls', nullCs/allCs*100, sep=': ')"
   ]
  },
  {
   "cell_type": "code",
   "execution_count": 15,
   "metadata": {
    "colab": {
     "base_uri": "https://localhost:8080/"
    },
    "id": "Iu5Z2KasHB6m",
    "outputId": "441252f3-ba81-4248-971b-21e4860a7dfa"
   },
   "outputs": [],
   "source": [
    "df2['age'] = age\n",
    "df3 = df2[pd.notnull(df2['age'])]"
   ]
  },
  {
   "cell_type": "code",
   "execution_count": 16,
   "metadata": {
    "colab": {
     "base_uri": "https://localhost:8080/",
     "height": 300
    },
    "id": "sIkpLiqVHB6m",
    "outputId": "df486fd6-c863-4361-b2e2-939e20c369d5"
   },
   "outputs": [
    {
     "name": "stdout",
     "output_type": "stream",
     "text": [
      "age count: 1479189\n",
      "age nulls count: 0\n",
      "percent of nulls: 0.0\n"
     ]
    }
   ],
   "source": [
    "gender = pd.to_numeric(df3['gender'], errors='coerce')\n",
    "\n",
    "allCs = gender.size\n",
    "nullCs = gender[gender.isnull()].size\n",
    "print('age count', allCs, sep=': ') \n",
    "print('age nulls count', nullCs, sep=': ')\n",
    "print('percent of nulls', nullCs/allCs*100, sep=': ')"
   ]
  },
  {
   "cell_type": "code",
   "execution_count": 17,
   "metadata": {},
   "outputs": [],
   "source": [
    "df3['gender'] = gender\n",
    "df4 = df3[pd.notnull(df3['gender'])]"
   ]
  },
  {
   "cell_type": "code",
   "execution_count": 18,
   "metadata": {},
   "outputs": [
    {
     "name": "stdout",
     "output_type": "stream",
     "text": [
      "<class 'pandas.core.frame.DataFrame'>\n",
      "RangeIndex: 1479189 entries, 0 to 1479188\n",
      "Data columns (total 25 columns):\n",
      " #   Column                  Non-Null Count    Dtype  \n",
      "---  ------                  --------------    -----  \n",
      " 0   service_type            1479189 non-null  int64  \n",
      " 1   is_mix_service          1479189 non-null  int64  \n",
      " 2   online_time             1479189 non-null  int64  \n",
      " 3   1_total_fee             1479189 non-null  float64\n",
      " 4   2_total_fee             1479189 non-null  float64\n",
      " 5   3_total_fee             1479189 non-null  float64\n",
      " 6   4_total_fee             1479189 non-null  float64\n",
      " 7   month_traffic           1479189 non-null  float64\n",
      " 8   many_over_bill          1479189 non-null  int64  \n",
      " 9   contract_type           1479189 non-null  int64  \n",
      " 10  contract_time           1479189 non-null  int64  \n",
      " 11  is_promise_low_consume  1479189 non-null  int64  \n",
      " 12  net_service             1479189 non-null  int64  \n",
      " 13  pay_times               1479189 non-null  int64  \n",
      " 14  pay_num                 1479189 non-null  float64\n",
      " 15  last_month_traffic      1479189 non-null  float64\n",
      " 16  local_trafffic_month    1479189 non-null  float64\n",
      " 17  local_caller_time       1479189 non-null  float64\n",
      " 18  service1_caller_time    1479189 non-null  float64\n",
      " 19  service2_caller_time    1479189 non-null  float64\n",
      " 20  gender                  1479189 non-null  int64  \n",
      " 21  age                     1479189 non-null  float64\n",
      " 22  complaint_level         1479189 non-null  int64  \n",
      " 23  former_complaint_num    1479189 non-null  int64  \n",
      " 24  former_complaint_fee    1479189 non-null  float64\n",
      "dtypes: float64(13), int64(12)\n",
      "memory usage: 282.1 MB\n"
     ]
    }
   ],
   "source": [
    "df4 = df4.reset_index(drop=True)\n",
    "df4.info()"
   ]
  },
  {
   "cell_type": "code",
   "execution_count": 19,
   "metadata": {
    "colab": {
     "base_uri": "https://localhost:8080/"
    },
    "id": "uYMe2Jx0HB6n",
    "outputId": "1929fdcb-22c5-4a9e-8071-2e2036c05529"
   },
   "outputs": [
    {
     "name": "stdout",
     "output_type": "stream",
     "text": [
      "1479211\n",
      "1479189\n",
      "rows removed: 22\n",
      "in percents (%): 0.00148727936717615\n"
     ]
    }
   ],
   "source": [
    "# размеры изначального и обработанного фреймов\n",
    "print(df.shape[0])\n",
    "print(df4.shape[0])\n",
    "print('rows removed', df.shape[0] - df4.shape[0], sep=': ')\n",
    "print('in percents (%)', (df.shape[0] - df4.shape[0]) / df.shape[0] * 100, sep=': ')"
   ]
  },
  {
   "cell_type": "markdown",
   "metadata": {
    "id": "OhyY8mxNHB6n"
   },
   "source": [
    "--------------------------------------------------------------------------------------------------------------------------\n",
    "**************************************************************************************************************************\n",
    "--------------------------------------------------------------------------------------------------------------------------"
   ]
  },
  {
   "cell_type": "code",
   "execution_count": 20,
   "metadata": {
    "id": "fxapVZlEHB6n"
   },
   "outputs": [],
   "source": [
    "x = df4.loc[:, df.columns != 'gender']\n",
    "y = df4['gender']\n",
    "train_points, test_points, train_values, test_values = train_test_split(x, y, random_state=104, test_size=0.25, shuffle=False, stratify=None)"
   ]
  },
  {
   "cell_type": "code",
   "execution_count": 21,
   "metadata": {
    "colab": {
     "base_uri": "https://localhost:8080/"
    },
    "id": "aTowjNsgHB6o",
    "outputId": "679af844-c451-431b-bf37-32c4e163a648"
   },
   "outputs": [
    {
     "name": "stdout",
     "output_type": "stream",
     "text": [
      "88.20950897517022\n"
     ]
    }
   ],
   "source": [
    "rf_model = ensemble.RandomForestClassifier(n_estimators=100)\n",
    "rf_model.fit(train_points, train_values)\n",
    "test_predict_rf = rf_model.predict(test_points)\n",
    "print(accuracy_score(test_values, test_predict_rf) * 100)"
   ]
  }
 ],
 "metadata": {
  "colab": {
   "provenance": []
  },
  "kernelspec": {
   "display_name": "Python 3",
   "language": "python",
   "name": "python3"
  },
  "language_info": {
   "codemirror_mode": {
    "name": "ipython",
    "version": 3
   },
   "file_extension": ".py",
   "mimetype": "text/x-python",
   "name": "python",
   "nbconvert_exporter": "python",
   "pygments_lexer": "ipython3",
   "version": "3.11.2"
  },
  "orig_nbformat": 4,
  "vscode": {
   "interpreter": {
    "hash": "aee8b7b246df8f9039afb4144a1f6fd8d2ca17a180786b69acc140d282b71a49"
   }
  }
 },
 "nbformat": 4,
 "nbformat_minor": 0
}
