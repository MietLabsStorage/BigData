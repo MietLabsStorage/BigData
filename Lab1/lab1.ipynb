{
  "cells": [
    {
      "cell_type": "markdown",
      "metadata": {
        "id": "LZGC7wRfHB6P"
      },
      "source": [
        "https://www.kaggle.com/datasets/pwang001/user-package-information-of-mobile-operators"
      ]
    },
    {
      "cell_type": "code",
      "execution_count": 2,
      "metadata": {
        "id": "R-9WTHuTHB6V"
      },
      "outputs": [
        {
          "ename": "ModuleNotFoundError",
          "evalue": "No module named 'tensorflow.keras'",
          "output_type": "error",
          "traceback": [
            "\u001b[1;31m---------------------------------------------------------------------------\u001b[0m",
            "\u001b[1;31mModuleNotFoundError\u001b[0m                       Traceback (most recent call last)",
            "Cell \u001b[1;32mIn[2], line 11\u001b[0m\n\u001b[0;32m      8\u001b[0m \u001b[39mfrom\u001b[39;00m \u001b[39msklearn\u001b[39;00m\u001b[39m.\u001b[39;00m\u001b[39mmetrics\u001b[39;00m \u001b[39mimport\u001b[39;00m accuracy_score\n\u001b[0;32m      9\u001b[0m \u001b[39mfrom\u001b[39;00m \u001b[39msklearn\u001b[39;00m\u001b[39m.\u001b[39;00m\u001b[39mmodel_selection\u001b[39;00m \u001b[39mimport\u001b[39;00m train_test_split\n\u001b[1;32m---> 11\u001b[0m \u001b[39mfrom\u001b[39;00m \u001b[39mtensorflow\u001b[39;00m\u001b[39m.\u001b[39;00m\u001b[39mkeras\u001b[39;00m\u001b[39m.\u001b[39;00m\u001b[39mutils\u001b[39;00m \u001b[39mimport\u001b[39;00m to_categorical\n\u001b[0;32m     12\u001b[0m \u001b[39mfrom\u001b[39;00m \u001b[39mkeras\u001b[39;00m \u001b[39mimport\u001b[39;00m models\n\u001b[0;32m     13\u001b[0m \u001b[39mfrom\u001b[39;00m \u001b[39mkeras\u001b[39;00m \u001b[39mimport\u001b[39;00m layers\n",
            "\u001b[1;31mModuleNotFoundError\u001b[0m: No module named 'tensorflow.keras'"
          ]
        }
      ],
      "source": [
        "import pandas as pd\n",
        "import numpy as np\n",
        "import matplotlib.pyplot as plt\n",
        "import copy\n",
        "\n",
        "from sklearn import ensemble\n",
        "from sklearn.ensemble import RandomForestClassifier\n",
        "from sklearn.metrics import accuracy_score\n",
        "from sklearn.model_selection import train_test_split\n",
        "\n",
        "from tensorflow.keras.utils import to_categorical\n",
        "from keras import models\n",
        "from keras import layers\n",
        "\n",
        "import warnings\n",
        "warnings.filterwarnings(\"ignore\")"
      ]
    },
    {
      "cell_type": "code",
      "execution_count": 3,
      "metadata": {
        "colab": {
          "base_uri": "https://localhost:8080/"
        },
        "id": "Fp1AfKhkHB6Z",
        "outputId": "c1aa19d5-0a82-4ed1-e416-a248d2f4884b"
      },
      "outputs": [
        {
          "name": "stderr",
          "output_type": "stream",
          "text": [
            "\"wget\" �� ���� ����७��� ��� ���譥�\n",
            "��������, �ᯮ��塞�� �ணࠬ��� ��� ������ 䠩���.\n",
            "\"wget\" �� ���� ����७��� ��� ���譥�\n",
            "��������, �ᯮ��塞�� �ணࠬ��� ��� ������ 䠩���.\n",
            "\"wget\" �� ���� ����७��� ��� ���譥�\n",
            "��������, �ᯮ��塞�� �ணࠬ��� ��� ������ 䠩���.\n",
            "\"wget\" �� ���� ����७��� ��� ���譥�\n",
            "��������, �ᯮ��塞�� �ணࠬ��� ��� ������ 䠩���.\n",
            "C:\\Users\\maksi\\AppData\\Local\\Temp\\ipykernel_16404\\4065723983.py:5: DtypeWarning: Columns (4,5,20,21) have mixed types. Specify dtype option on import or set low_memory=False.\n",
            "  df_train_1 = pd.read_csv('train_1.csv', encoding='utf-8')\n",
            "C:\\Users\\maksi\\AppData\\Local\\Temp\\ipykernel_16404\\4065723983.py:6: DtypeWarning: Columns (4,5) have mixed types. Specify dtype option on import or set low_memory=False.\n",
            "  df_train_2 = pd.read_csv('train_2.csv', encoding='utf-8')\n",
            "C:\\Users\\maksi\\AppData\\Local\\Temp\\ipykernel_16404\\4065723983.py:7: DtypeWarning: Columns (4,5) have mixed types. Specify dtype option on import or set low_memory=False.\n",
            "  df_test_1 = pd.read_csv('test_1.csv', encoding='utf-8')\n",
            "C:\\Users\\maksi\\AppData\\Local\\Temp\\ipykernel_16404\\4065723983.py:8: DtypeWarning: Columns (4) have mixed types. Specify dtype option on import or set low_memory=False.\n",
            "  df_test_2 = pd.read_csv('test_2.csv', encoding='utf-8')\n"
          ]
        }
      ],
      "source": [
        "!wget https://www.dropbox.com/s/5b6o99k5ko6cr1r/train_1.csv\n",
        "!wget https://www.dropbox.com/s/br8m56fomdxs7lw/train_2.csv\n",
        "!wget https://www.dropbox.com/s/xmw5shslewwfi0n/test_1.csv\n",
        "!wget https://www.dropbox.com/s/uxxc48au1zclpu2/test_2.csv\n",
        "df_train_1 = pd.read_csv('train_1.csv', encoding='utf-8')\n",
        "df_train_2 = pd.read_csv('train_2.csv', encoding='utf-8')\n",
        "df_test_1 = pd.read_csv('test_1.csv', encoding='utf-8')\n",
        "df_test_2 = pd.read_csv('test_2.csv', encoding='utf-8')\n",
        "df = pd.concat([df_train_1, df_train_2, df_test_1, df_test_2])"
      ]
    },
    {
      "cell_type": "code",
      "execution_count": 4,
      "metadata": {
        "colab": {
          "base_uri": "https://localhost:8080/"
        },
        "id": "OE2h-V6SHB6a",
        "outputId": "19063414-d82a-46be-fe40-8e4c8c3e4b01"
      },
      "outputs": [
        {
          "data": {
            "text/plain": [
              "service_type              False\n",
              "is_mix_service            False\n",
              "online_time               False\n",
              "1_total_fee               False\n",
              "2_total_fee               False\n",
              "3_total_fee               False\n",
              "4_total_fee               False\n",
              "month_traffic             False\n",
              "many_over_bill            False\n",
              "contract_type             False\n",
              "contract_time             False\n",
              "is_promise_low_consume    False\n",
              "net_service               False\n",
              "pay_times                 False\n",
              "pay_num                   False\n",
              "last_month_traffic        False\n",
              "local_trafffic_month      False\n",
              "local_caller_time         False\n",
              "service1_caller_time      False\n",
              "service2_caller_time      False\n",
              "gender                    False\n",
              "age                       False\n",
              "complaint_level           False\n",
              "former_complaint_num      False\n",
              "former_complaint_fee      False\n",
              "current_service            True\n",
              "user_id                   False\n",
              "dtype: bool"
            ]
          },
          "execution_count": 4,
          "metadata": {},
          "output_type": "execute_result"
        }
      ],
      "source": [
        "df.isnull().any()"
      ]
    },
    {
      "cell_type": "markdown",
      "metadata": {
        "id": "x0yY82MaHB6b"
      },
      "source": [
        "Столбцы с нулами: current_service"
      ]
    },
    {
      "cell_type": "code",
      "execution_count": 5,
      "metadata": {
        "colab": {
          "base_uri": "https://localhost:8080/"
        },
        "id": "honVPoheHB6c",
        "outputId": "aa60ce66-0678-4016-f9d7-b005581c63c4"
      },
      "outputs": [
        {
          "name": "stdout",
          "output_type": "stream",
          "text": [
            "current_service count: 1479211\n",
            "current_service nulls count: 360566\n",
            "percent of nulls: 24.37556237751071\n"
          ]
        }
      ],
      "source": [
        "allCs = df['current_service'].size\n",
        "nullCs = df['current_service'][df['current_service'].isnull()].size\n",
        "print('current_service count', allCs, sep=': ') \n",
        "print('current_service nulls count', nullCs, sep=': ')\n",
        "print('percent of nulls', nullCs/allCs*100, sep=': ')"
      ]
    },
    {
      "cell_type": "code",
      "execution_count": 6,
      "metadata": {
        "colab": {
          "base_uri": "https://localhost:8080/"
        },
        "id": "eMZvo5Q2HB6d",
        "outputId": "e8d88810-4943-42f9-a100-29c30902f8f0"
      },
      "outputs": [
        {
          "data": {
            "text/plain": [
              "array([99999825., 90063345., 90109916., 89950166., 89950168., 89950167.,\n",
              "       90155946., 99999828., 99999826., 99999827., 99999830.,   999999.,\n",
              "             nan])"
            ]
          },
          "execution_count": 6,
          "metadata": {},
          "output_type": "execute_result"
        }
      ],
      "source": [
        "df['current_service'].unique()"
      ]
    },
    {
      "cell_type": "code",
      "execution_count": 7,
      "metadata": {
        "colab": {
          "base_uri": "https://localhost:8080/"
        },
        "id": "qjVfnoznHB6e",
        "outputId": "5e553e2d-2c8b-4371-afdd-56e399d4383e"
      },
      "outputs": [
        {
          "data": {
            "text/plain": [
              "service_type              False\n",
              "is_mix_service            False\n",
              "online_time               False\n",
              "1_total_fee               False\n",
              "2_total_fee               False\n",
              "3_total_fee               False\n",
              "4_total_fee               False\n",
              "month_traffic             False\n",
              "many_over_bill            False\n",
              "contract_type             False\n",
              "contract_time             False\n",
              "is_promise_low_consume    False\n",
              "net_service               False\n",
              "pay_times                 False\n",
              "pay_num                   False\n",
              "last_month_traffic        False\n",
              "local_trafffic_month      False\n",
              "local_caller_time         False\n",
              "service1_caller_time      False\n",
              "service2_caller_time      False\n",
              "gender                    False\n",
              "age                       False\n",
              "complaint_level           False\n",
              "former_complaint_num      False\n",
              "former_complaint_fee      False\n",
              "user_id                   False\n",
              "dtype: bool"
            ]
          },
          "execution_count": 7,
          "metadata": {},
          "output_type": "execute_result"
        }
      ],
      "source": [
        "# current_service - индексы планов а не сами планы, попробуем удалить колонку вместо удаления 25% строк\n",
        "del df[\"current_service\"]\n",
        "df.isnull().any()"
      ]
    },
    {
      "cell_type": "code",
      "execution_count": 8,
      "metadata": {
        "colab": {
          "base_uri": "https://localhost:8080/"
        },
        "id": "27f8NC4HHB6f",
        "outputId": "bcf9c2a6-437e-4ba0-fe62-fc14d7a0b664"
      },
      "outputs": [
        {
          "name": "stdout",
          "output_type": "stream",
          "text": [
            "<class 'pandas.core.frame.DataFrame'>\n",
            "Int64Index: 1479211 entries, 0 to 160565\n",
            "Data columns (total 26 columns):\n",
            " #   Column                  Non-Null Count    Dtype  \n",
            "---  ------                  --------------    -----  \n",
            " 0   service_type            1479211 non-null  int64  \n",
            " 1   is_mix_service          1479211 non-null  int64  \n",
            " 2   online_time             1479211 non-null  int64  \n",
            " 3   1_total_fee             1479211 non-null  float64\n",
            " 4   2_total_fee             1479211 non-null  object \n",
            " 5   3_total_fee             1479211 non-null  object \n",
            " 6   4_total_fee             1479211 non-null  float64\n",
            " 7   month_traffic           1479211 non-null  float64\n",
            " 8   many_over_bill          1479211 non-null  int64  \n",
            " 9   contract_type           1479211 non-null  int64  \n",
            " 10  contract_time           1479211 non-null  int64  \n",
            " 11  is_promise_low_consume  1479211 non-null  int64  \n",
            " 12  net_service             1479211 non-null  int64  \n",
            " 13  pay_times               1479211 non-null  int64  \n",
            " 14  pay_num                 1479211 non-null  float64\n",
            " 15  last_month_traffic      1479211 non-null  float64\n",
            " 16  local_trafffic_month    1479211 non-null  float64\n",
            " 17  local_caller_time       1479211 non-null  float64\n",
            " 18  service1_caller_time    1479211 non-null  float64\n",
            " 19  service2_caller_time    1479211 non-null  float64\n",
            " 20  gender                  1479211 non-null  object \n",
            " 21  age                     1479211 non-null  object \n",
            " 22  complaint_level         1479211 non-null  int64  \n",
            " 23  former_complaint_num    1479211 non-null  int64  \n",
            " 24  former_complaint_fee    1479211 non-null  float64\n",
            " 25  user_id                 1479211 non-null  object \n",
            "dtypes: float64(10), int64(11), object(5)\n",
            "memory usage: 304.7+ MB\n"
          ]
        }
      ],
      "source": [
        "df.info()"
      ]
    },
    {
      "cell_type": "markdown",
      "metadata": {
        "id": "-6XWGWvzHB6g"
      },
      "source": [
        "столбцы object: \n",
        "2_total_fee      \n",
        "3_total_fee             \n",
        "gender\n",
        "age\n",
        "user_id"
      ]
    },
    {
      "cell_type": "code",
      "execution_count": 9,
      "metadata": {
        "id": "cGn5oevNHB6h"
      },
      "outputs": [],
      "source": [
        "# user_id ничего не определяет при классификации\n",
        "del df[\"user_id\"]"
      ]
    },
    {
      "cell_type": "code",
      "execution_count": 10,
      "metadata": {
        "colab": {
          "base_uri": "https://localhost:8080/"
        },
        "id": "6lSmAZbFHB6h",
        "outputId": "27cb6b3a-1386-40e9-a8a3-a5c717a2bbfa"
      },
      "outputs": [
        {
          "name": "stdout",
          "output_type": "stream",
          "text": [
            "2_total_fee count: 1479211\n",
            "2_total_fee float count: 1118763\n",
            "percent of nulls: 75.63241484818596\n"
          ]
        }
      ],
      "source": [
        "allCount = df['2_total_fee'].size\n",
        "floatCount = df['2_total_fee'][df['2_total_fee'].apply(type) == float].size\n",
        "print('2_total_fee count', allCount, sep=': ') \n",
        "print('2_total_fee float count', floatCount, sep=': ')\n",
        "print('percent of nulls', floatCount/allCount*100, sep=': ')"
      ]
    },
    {
      "cell_type": "code",
      "execution_count": 11,
      "metadata": {
        "id": "DOvw1ILMHB6i"
      },
      "outputs": [],
      "source": [
        "tf2 = pd.to_numeric(df['2_total_fee'], errors='coerce')"
      ]
    },
    {
      "cell_type": "code",
      "execution_count": 12,
      "metadata": {
        "colab": {
          "base_uri": "https://localhost:8080/"
        },
        "id": "iz2MVkfcHB6i",
        "outputId": "e821e354-f9f6-450c-cfb4-a2690031a7a7"
      },
      "outputs": [
        {
          "name": "stdout",
          "output_type": "stream",
          "text": [
            "2_total_fee count: 1479211\n",
            "2_total_fee nulls count: 15\n",
            "percent of nulls: 0.0010140541139837386\n"
          ]
        }
      ],
      "source": [
        "allCs = tf2.size\n",
        "nullCs = tf2[tf2.isnull()].size\n",
        "print('2_total_fee count', allCs, sep=': ') \n",
        "print('2_total_fee nulls count', nullCs, sep=': ')\n",
        "print('percent of nulls', nullCs/allCs*100, sep=': ')"
      ]
    },
    {
      "cell_type": "markdown",
      "metadata": {
        "id": "Dg7T61QhHB6j"
      },
      "source": [
        "Преобразовали всё что могли к типу float, непреобразованных - 15 штук << 1%. Можно удалить"
      ]
    },
    {
      "cell_type": "code",
      "execution_count": 13,
      "metadata": {
        "colab": {
          "base_uri": "https://localhost:8080/"
        },
        "id": "G95CQGdvHB6j",
        "outputId": "db73192d-85ae-4230-97a2-5319db092f81"
      },
      "outputs": [
        {
          "name": "stdout",
          "output_type": "stream",
          "text": [
            "<class 'pandas.core.frame.DataFrame'>\n",
            "Int64Index: 1479196 entries, 0 to 160565\n",
            "Data columns (total 25 columns):\n",
            " #   Column                  Non-Null Count    Dtype  \n",
            "---  ------                  --------------    -----  \n",
            " 0   service_type            1479196 non-null  int64  \n",
            " 1   is_mix_service          1479196 non-null  int64  \n",
            " 2   online_time             1479196 non-null  int64  \n",
            " 3   1_total_fee             1479196 non-null  float64\n",
            " 4   2_total_fee             1479196 non-null  float64\n",
            " 5   3_total_fee             1479196 non-null  object \n",
            " 6   4_total_fee             1479196 non-null  float64\n",
            " 7   month_traffic           1479196 non-null  float64\n",
            " 8   many_over_bill          1479196 non-null  int64  \n",
            " 9   contract_type           1479196 non-null  int64  \n",
            " 10  contract_time           1479196 non-null  int64  \n",
            " 11  is_promise_low_consume  1479196 non-null  int64  \n",
            " 12  net_service             1479196 non-null  int64  \n",
            " 13  pay_times               1479196 non-null  int64  \n",
            " 14  pay_num                 1479196 non-null  float64\n",
            " 15  last_month_traffic      1479196 non-null  float64\n",
            " 16  local_trafffic_month    1479196 non-null  float64\n",
            " 17  local_caller_time       1479196 non-null  float64\n",
            " 18  service1_caller_time    1479196 non-null  float64\n",
            " 19  service2_caller_time    1479196 non-null  float64\n",
            " 20  gender                  1479196 non-null  object \n",
            " 21  age                     1479196 non-null  object \n",
            " 22  complaint_level         1479196 non-null  int64  \n",
            " 23  former_complaint_num    1479196 non-null  int64  \n",
            " 24  former_complaint_fee    1479196 non-null  float64\n",
            "dtypes: float64(11), int64(11), object(3)\n",
            "memory usage: 293.4+ MB\n"
          ]
        }
      ],
      "source": [
        "df['2_total_fee'] = tf2\n",
        "df1 = df[pd.notnull(df['2_total_fee'])]\n",
        "df1.info()"
      ]
    },
    {
      "cell_type": "markdown",
      "metadata": {
        "id": "k4-K7oZeHB6j"
      },
      "source": [
        "теперь 3_total_fee"
      ]
    },
    {
      "cell_type": "code",
      "execution_count": 14,
      "metadata": {
        "colab": {
          "base_uri": "https://localhost:8080/"
        },
        "id": "KHr2MOnbHB6k",
        "outputId": "0062b195-e717-434b-9f30-99970d95fee7"
      },
      "outputs": [
        {
          "name": "stdout",
          "output_type": "stream",
          "text": [
            "3_total_fee count: 1479196\n",
            "3_total_fee nulls count: 5\n",
            "percent of nulls: 0.0003380214657151588\n"
          ]
        }
      ],
      "source": [
        "tf3 = pd.to_numeric(df1['3_total_fee'], errors='coerce')\n",
        "allCs = tf3.size\n",
        "nullCs = tf3[tf3.isnull()].size\n",
        "print('3_total_fee count', allCs, sep=': ') \n",
        "print('3_total_fee nulls count', nullCs, sep=': ')\n",
        "print('percent of nulls', nullCs/allCs*100, sep=': ')"
      ]
    },
    {
      "cell_type": "code",
      "execution_count": 16,
      "metadata": {
        "colab": {
          "base_uri": "https://localhost:8080/"
        },
        "id": "qaPnklRLHB6k",
        "outputId": "b63ffc56-1e1b-4f73-d32e-81f9b728e9ec"
      },
      "outputs": [
        {
          "name": "stderr",
          "output_type": "stream",
          "text": [
            "C:\\Users\\maksi\\AppData\\Local\\Temp\\ipykernel_16404\\1470239066.py:1: SettingWithCopyWarning: \n",
            "A value is trying to be set on a copy of a slice from a DataFrame.\n",
            "Try using .loc[row_indexer,col_indexer] = value instead\n",
            "\n",
            "See the caveats in the documentation: https://pandas.pydata.org/pandas-docs/stable/user_guide/indexing.html#returning-a-view-versus-a-copy\n",
            "  df1['3_total_fee'] = tf3\n"
          ]
        },
        {
          "name": "stdout",
          "output_type": "stream",
          "text": [
            "<class 'pandas.core.frame.DataFrame'>\n",
            "Int64Index: 1479191 entries, 0 to 160565\n",
            "Data columns (total 25 columns):\n",
            " #   Column                  Non-Null Count    Dtype  \n",
            "---  ------                  --------------    -----  \n",
            " 0   service_type            1479191 non-null  int64  \n",
            " 1   is_mix_service          1479191 non-null  int64  \n",
            " 2   online_time             1479191 non-null  int64  \n",
            " 3   1_total_fee             1479191 non-null  float64\n",
            " 4   2_total_fee             1479191 non-null  float64\n",
            " 5   3_total_fee             1479191 non-null  float64\n",
            " 6   4_total_fee             1479191 non-null  float64\n",
            " 7   month_traffic           1479191 non-null  float64\n",
            " 8   many_over_bill          1479191 non-null  int64  \n",
            " 9   contract_type           1479191 non-null  int64  \n",
            " 10  contract_time           1479191 non-null  int64  \n",
            " 11  is_promise_low_consume  1479191 non-null  int64  \n",
            " 12  net_service             1479191 non-null  int64  \n",
            " 13  pay_times               1479191 non-null  int64  \n",
            " 14  pay_num                 1479191 non-null  float64\n",
            " 15  last_month_traffic      1479191 non-null  float64\n",
            " 16  local_trafffic_month    1479191 non-null  float64\n",
            " 17  local_caller_time       1479191 non-null  float64\n",
            " 18  service1_caller_time    1479191 non-null  float64\n",
            " 19  service2_caller_time    1479191 non-null  float64\n",
            " 20  gender                  1479191 non-null  object \n",
            " 21  age                     1479191 non-null  object \n",
            " 22  complaint_level         1479191 non-null  int64  \n",
            " 23  former_complaint_num    1479191 non-null  int64  \n",
            " 24  former_complaint_fee    1479191 non-null  float64\n",
            "dtypes: float64(12), int64(11), object(2)\n",
            "memory usage: 293.4+ MB\n"
          ]
        }
      ],
      "source": [
        "df1['3_total_fee'] = tf3\n",
        "df2 = df1[pd.notnull(df1['3_total_fee'])]\n",
        "df2.info()"
      ]
    },
    {
      "cell_type": "markdown",
      "metadata": {
        "id": "XB9D5ogQHB6l"
      },
      "source": [
        "теперь age"
      ]
    },
    {
      "cell_type": "code",
      "execution_count": 18,
      "metadata": {
        "colab": {
          "base_uri": "https://localhost:8080/"
        },
        "id": "RPpop4jKHB6l",
        "outputId": "620286c4-5b41-488a-b850-248c6aaa21c3"
      },
      "outputs": [
        {
          "name": "stdout",
          "output_type": "stream",
          "text": [
            "age count: 1479191\n",
            "age nulls count: 2\n",
            "percent of nulls: 0.00013520904332165354\n"
          ]
        }
      ],
      "source": [
        "age = pd.to_numeric(df2['age'], errors='coerce')\n",
        "allCs = age.size\n",
        "nullCs = age[age.isnull()].size\n",
        "print('age count', allCs, sep=': ') \n",
        "print('age nulls count', nullCs, sep=': ')\n",
        "print('percent of nulls', nullCs/allCs*100, sep=': ')"
      ]
    },
    {
      "cell_type": "code",
      "execution_count": 19,
      "metadata": {
        "colab": {
          "base_uri": "https://localhost:8080/"
        },
        "id": "Iu5Z2KasHB6m",
        "outputId": "441252f3-ba81-4248-971b-21e4860a7dfa"
      },
      "outputs": [
        {
          "name": "stderr",
          "output_type": "stream",
          "text": [
            "C:\\Users\\maksi\\AppData\\Local\\Temp\\ipykernel_16404\\363457328.py:1: SettingWithCopyWarning: \n",
            "A value is trying to be set on a copy of a slice from a DataFrame.\n",
            "Try using .loc[row_indexer,col_indexer] = value instead\n",
            "\n",
            "See the caveats in the documentation: https://pandas.pydata.org/pandas-docs/stable/user_guide/indexing.html#returning-a-view-versus-a-copy\n",
            "  df2['age'] = age\n"
          ]
        },
        {
          "name": "stdout",
          "output_type": "stream",
          "text": [
            "<class 'pandas.core.frame.DataFrame'>\n",
            "Int64Index: 1479189 entries, 0 to 160565\n",
            "Data columns (total 25 columns):\n",
            " #   Column                  Non-Null Count    Dtype  \n",
            "---  ------                  --------------    -----  \n",
            " 0   service_type            1479189 non-null  int64  \n",
            " 1   is_mix_service          1479189 non-null  int64  \n",
            " 2   online_time             1479189 non-null  int64  \n",
            " 3   1_total_fee             1479189 non-null  float64\n",
            " 4   2_total_fee             1479189 non-null  float64\n",
            " 5   3_total_fee             1479189 non-null  float64\n",
            " 6   4_total_fee             1479189 non-null  float64\n",
            " 7   month_traffic           1479189 non-null  float64\n",
            " 8   many_over_bill          1479189 non-null  int64  \n",
            " 9   contract_type           1479189 non-null  int64  \n",
            " 10  contract_time           1479189 non-null  int64  \n",
            " 11  is_promise_low_consume  1479189 non-null  int64  \n",
            " 12  net_service             1479189 non-null  int64  \n",
            " 13  pay_times               1479189 non-null  int64  \n",
            " 14  pay_num                 1479189 non-null  float64\n",
            " 15  last_month_traffic      1479189 non-null  float64\n",
            " 16  local_trafffic_month    1479189 non-null  float64\n",
            " 17  local_caller_time       1479189 non-null  float64\n",
            " 18  service1_caller_time    1479189 non-null  float64\n",
            " 19  service2_caller_time    1479189 non-null  float64\n",
            " 20  gender                  1479189 non-null  object \n",
            " 21  age                     1479189 non-null  float64\n",
            " 22  complaint_level         1479189 non-null  int64  \n",
            " 23  former_complaint_num    1479189 non-null  int64  \n",
            " 24  former_complaint_fee    1479189 non-null  float64\n",
            "dtypes: float64(13), int64(11), object(1)\n",
            "memory usage: 293.4+ MB\n"
          ]
        }
      ],
      "source": [
        "df2['age'] = age\n",
        "df3 = df2[pd.notnull(df2['age'])]\n",
        "df3.info()"
      ]
    },
    {
      "cell_type": "markdown",
      "metadata": {
        "id": "vNxxDtvoHB6m"
      },
      "source": [
        "факторизируем gender "
      ]
    },
    {
      "cell_type": "code",
      "execution_count": 20,
      "metadata": {
        "colab": {
          "base_uri": "https://localhost:8080/",
          "height": 300
        },
        "id": "sIkpLiqVHB6m",
        "outputId": "df486fd6-c863-4361-b2e2-939e20c369d5"
      },
      "outputs": [
        {
          "name": "stderr",
          "output_type": "stream",
          "text": [
            "C:\\Users\\maksi\\AppData\\Local\\Temp\\ipykernel_16404\\1836912096.py:3: SettingWithCopyWarning: \n",
            "A value is trying to be set on a copy of a slice from a DataFrame.\n",
            "Try using .loc[row_indexer,col_indexer] = value instead\n",
            "\n",
            "See the caveats in the documentation: https://pandas.pydata.org/pandas-docs/stable/user_guide/indexing.html#returning-a-view-versus-a-copy\n",
            "  df3[name] = pd.factorize(df3[name])[0]\n"
          ]
        },
        {
          "data": {
            "text/html": [
              "<div>\n",
              "<style scoped>\n",
              "    .dataframe tbody tr th:only-of-type {\n",
              "        vertical-align: middle;\n",
              "    }\n",
              "\n",
              "    .dataframe tbody tr th {\n",
              "        vertical-align: top;\n",
              "    }\n",
              "\n",
              "    .dataframe thead th {\n",
              "        text-align: right;\n",
              "    }\n",
              "</style>\n",
              "<table border=\"1\" class=\"dataframe\">\n",
              "  <thead>\n",
              "    <tr style=\"text-align: right;\">\n",
              "      <th></th>\n",
              "      <th>service_type</th>\n",
              "      <th>is_mix_service</th>\n",
              "      <th>online_time</th>\n",
              "      <th>1_total_fee</th>\n",
              "      <th>2_total_fee</th>\n",
              "      <th>3_total_fee</th>\n",
              "      <th>4_total_fee</th>\n",
              "      <th>month_traffic</th>\n",
              "      <th>many_over_bill</th>\n",
              "      <th>contract_type</th>\n",
              "      <th>...</th>\n",
              "      <th>last_month_traffic</th>\n",
              "      <th>local_trafffic_month</th>\n",
              "      <th>local_caller_time</th>\n",
              "      <th>service1_caller_time</th>\n",
              "      <th>service2_caller_time</th>\n",
              "      <th>gender</th>\n",
              "      <th>age</th>\n",
              "      <th>complaint_level</th>\n",
              "      <th>former_complaint_num</th>\n",
              "      <th>former_complaint_fee</th>\n",
              "    </tr>\n",
              "  </thead>\n",
              "  <tbody>\n",
              "    <tr>\n",
              "      <th>0</th>\n",
              "      <td>4</td>\n",
              "      <td>0</td>\n",
              "      <td>85</td>\n",
              "      <td>295.96</td>\n",
              "      <td>296.20</td>\n",
              "      <td>296.00</td>\n",
              "      <td>296.80</td>\n",
              "      <td>3813.614698</td>\n",
              "      <td>0</td>\n",
              "      <td>1</td>\n",
              "      <td>...</td>\n",
              "      <td>4096.000000</td>\n",
              "      <td>1392.038508</td>\n",
              "      <td>108.100000</td>\n",
              "      <td>0.000000</td>\n",
              "      <td>564.366667</td>\n",
              "      <td>0</td>\n",
              "      <td>31.0</td>\n",
              "      <td>0</td>\n",
              "      <td>0</td>\n",
              "      <td>0.0</td>\n",
              "    </tr>\n",
              "    <tr>\n",
              "      <th>1</th>\n",
              "      <td>1</td>\n",
              "      <td>0</td>\n",
              "      <td>10</td>\n",
              "      <td>265.20</td>\n",
              "      <td>261.20</td>\n",
              "      <td>208.50</td>\n",
              "      <td>174.50</td>\n",
              "      <td>0.000000</td>\n",
              "      <td>1</td>\n",
              "      <td>0</td>\n",
              "      <td>...</td>\n",
              "      <td>0.000000</td>\n",
              "      <td>62852.509718</td>\n",
              "      <td>240.100000</td>\n",
              "      <td>355.166667</td>\n",
              "      <td>0.000000</td>\n",
              "      <td>0</td>\n",
              "      <td>30.0</td>\n",
              "      <td>0</td>\n",
              "      <td>0</td>\n",
              "      <td>0.0</td>\n",
              "    </tr>\n",
              "    <tr>\n",
              "      <th>2</th>\n",
              "      <td>1</td>\n",
              "      <td>0</td>\n",
              "      <td>12</td>\n",
              "      <td>44.50</td>\n",
              "      <td>70.20</td>\n",
              "      <td>69.00</td>\n",
              "      <td>61.40</td>\n",
              "      <td>2598.397406</td>\n",
              "      <td>0</td>\n",
              "      <td>0</td>\n",
              "      <td>...</td>\n",
              "      <td>0.000000</td>\n",
              "      <td>1935.242104</td>\n",
              "      <td>27.666667</td>\n",
              "      <td>0.000000</td>\n",
              "      <td>98.416667</td>\n",
              "      <td>1</td>\n",
              "      <td>25.0</td>\n",
              "      <td>0</td>\n",
              "      <td>0</td>\n",
              "      <td>0.0</td>\n",
              "    </tr>\n",
              "    <tr>\n",
              "      <th>3</th>\n",
              "      <td>4</td>\n",
              "      <td>0</td>\n",
              "      <td>134</td>\n",
              "      <td>87.95</td>\n",
              "      <td>81.40</td>\n",
              "      <td>76.00</td>\n",
              "      <td>88.30</td>\n",
              "      <td>988.440563</td>\n",
              "      <td>0</td>\n",
              "      <td>0</td>\n",
              "      <td>...</td>\n",
              "      <td>37.336425</td>\n",
              "      <td>988.561075</td>\n",
              "      <td>89.900000</td>\n",
              "      <td>74.483333</td>\n",
              "      <td>121.833333</td>\n",
              "      <td>0</td>\n",
              "      <td>44.0</td>\n",
              "      <td>0</td>\n",
              "      <td>0</td>\n",
              "      <td>0.0</td>\n",
              "    </tr>\n",
              "    <tr>\n",
              "      <th>4</th>\n",
              "      <td>4</td>\n",
              "      <td>0</td>\n",
              "      <td>84</td>\n",
              "      <td>317.04</td>\n",
              "      <td>314.08</td>\n",
              "      <td>435.51</td>\n",
              "      <td>413.05</td>\n",
              "      <td>5885.800642</td>\n",
              "      <td>0</td>\n",
              "      <td>1</td>\n",
              "      <td>...</td>\n",
              "      <td>3305.741127</td>\n",
              "      <td>0.000000</td>\n",
              "      <td>0.000000</td>\n",
              "      <td>35.100000</td>\n",
              "      <td>496.733333</td>\n",
              "      <td>0</td>\n",
              "      <td>31.0</td>\n",
              "      <td>2</td>\n",
              "      <td>1</td>\n",
              "      <td>0.0</td>\n",
              "    </tr>\n",
              "  </tbody>\n",
              "</table>\n",
              "<p>5 rows × 25 columns</p>\n",
              "</div>"
            ],
            "text/plain": [
              "   service_type  is_mix_service  online_time  1_total_fee  2_total_fee  \\\n",
              "0             4               0           85       295.96       296.20   \n",
              "1             1               0           10       265.20       261.20   \n",
              "2             1               0           12        44.50        70.20   \n",
              "3             4               0          134        87.95        81.40   \n",
              "4             4               0           84       317.04       314.08   \n",
              "\n",
              "   3_total_fee  4_total_fee  month_traffic  many_over_bill  contract_type  \\\n",
              "0       296.00       296.80    3813.614698               0              1   \n",
              "1       208.50       174.50       0.000000               1              0   \n",
              "2        69.00        61.40    2598.397406               0              0   \n",
              "3        76.00        88.30     988.440563               0              0   \n",
              "4       435.51       413.05    5885.800642               0              1   \n",
              "\n",
              "   ...  last_month_traffic  local_trafffic_month  local_caller_time  \\\n",
              "0  ...         4096.000000           1392.038508         108.100000   \n",
              "1  ...            0.000000          62852.509718         240.100000   \n",
              "2  ...            0.000000           1935.242104          27.666667   \n",
              "3  ...           37.336425            988.561075          89.900000   \n",
              "4  ...         3305.741127              0.000000           0.000000   \n",
              "\n",
              "   service1_caller_time  service2_caller_time  gender   age  complaint_level  \\\n",
              "0              0.000000            564.366667       0  31.0                0   \n",
              "1            355.166667              0.000000       0  30.0                0   \n",
              "2              0.000000             98.416667       1  25.0                0   \n",
              "3             74.483333            121.833333       0  44.0                0   \n",
              "4             35.100000            496.733333       0  31.0                2   \n",
              "\n",
              "   former_complaint_num  former_complaint_fee  \n",
              "0                     0                   0.0  \n",
              "1                     0                   0.0  \n",
              "2                     0                   0.0  \n",
              "3                     0                   0.0  \n",
              "4                     1                   0.0  \n",
              "\n",
              "[5 rows x 25 columns]"
            ]
          },
          "execution_count": 20,
          "metadata": {},
          "output_type": "execute_result"
        }
      ],
      "source": [
        "names = ['gender']\n",
        "for name in names:\n",
        "    df3[name] = pd.factorize(df3[name])[0]\n",
        "df3 = df3.reset_index(drop=True)\n",
        "df3.head()"
      ]
    },
    {
      "cell_type": "code",
      "execution_count": 21,
      "metadata": {
        "colab": {
          "base_uri": "https://localhost:8080/"
        },
        "id": "uYMe2Jx0HB6n",
        "outputId": "1929fdcb-22c5-4a9e-8071-2e2036c05529"
      },
      "outputs": [
        {
          "name": "stdout",
          "output_type": "stream",
          "text": [
            "1479211\n",
            "1479189\n"
          ]
        }
      ],
      "source": [
        "# размеры изначального и обработанного фреймов\n",
        "print(df.shape[0])\n",
        "print(df3.shape[0])"
      ]
    },
    {
      "cell_type": "markdown",
      "metadata": {
        "id": "OhyY8mxNHB6n"
      },
      "source": [
        "--------------------------------------------------------------------------------------------------------------------------\n",
        "**************************************************************************************************************************\n",
        "--------------------------------------------------------------------------------------------------------------------------"
      ]
    },
    {
      "cell_type": "code",
      "execution_count": null,
      "metadata": {
        "id": "fxapVZlEHB6n"
      },
      "outputs": [],
      "source": [
        "x = df3.loc[:, df.columns != 'gender']\n",
        "y = df3['gender']\n",
        "train_points, test_points, train_values, test_values = train_test_split(x, y, random_state=104, test_size=0.25, shuffle=False, stratify=None)"
      ]
    },
    {
      "cell_type": "code",
      "execution_count": null,
      "metadata": {
        "colab": {
          "base_uri": "https://localhost:8080/"
        },
        "id": "aTowjNsgHB6o",
        "outputId": "679af844-c451-431b-bf37-32c4e163a648"
      },
      "outputs": [
        {
          "name": "stdout",
          "output_type": "stream",
          "text": [
            "0.8813243987257908\n"
          ]
        }
      ],
      "source": [
        "rf_model = ensemble.RandomForestClassifier(n_estimators=100)\n",
        "rf_model.fit(train_points, train_values)\n",
        "test_predict_rf = rf_model.predict(test_points)\n",
        "print(accuracy_score(test_values, test_predict_rf))"
      ]
    },
    {
      "cell_type": "markdown",
      "metadata": {
        "id": "nteJQbWXHB6o"
      },
      "source": []
    },
    {
      "cell_type": "markdown",
      "metadata": {
        "id": "3cxHrn22HB6p"
      },
      "source": []
    },
    {
      "cell_type": "code",
      "execution_count": null,
      "metadata": {
        "colab": {
          "base_uri": "https://localhost:8080/"
        },
        "id": "29ytJxMPHB6p",
        "outputId": "87880429-636a-4b34-d920-5b5ed79c730a"
      },
      "outputs": [
        {
          "name": "stdout",
          "output_type": "stream",
          "text": [
            "Epoch 1/10\n",
            "11094/11094 [==============================] - 39s 3ms/step - loss: 0.6742 - accuracy: 0.4239 - val_loss: 0.7276 - val_accuracy: 0.3864\n",
            "Epoch 2/10\n",
            "11094/11094 [==============================] - 42s 4ms/step - loss: 0.6710 - accuracy: 0.4440 - val_loss: 0.7002 - val_accuracy: 0.6144\n",
            "Epoch 3/10\n",
            "11094/11094 [==============================] - 41s 4ms/step - loss: 0.6695 - accuracy: 0.4917 - val_loss: 0.7082 - val_accuracy: 0.5984\n",
            "Epoch 4/10\n",
            "11094/11094 [==============================] - 43s 4ms/step - loss: 0.6694 - accuracy: 0.4870 - val_loss: 0.7365 - val_accuracy: 0.3376\n",
            "Epoch 5/10\n",
            "11094/11094 [==============================] - 40s 4ms/step - loss: 0.6768 - accuracy: 0.3778 - val_loss: 0.7401 - val_accuracy: 0.2935\n",
            "Epoch 6/10\n",
            "11094/11094 [==============================] - 44s 4ms/step - loss: 0.6878 - accuracy: 0.2746 - val_loss: 0.7376 - val_accuracy: 0.2935\n",
            "Epoch 7/10\n",
            "11094/11094 [==============================] - 42s 4ms/step - loss: 0.6879 - accuracy: 0.2746 - val_loss: 0.7344 - val_accuracy: 0.2935\n",
            "Epoch 8/10\n",
            "11094/11094 [==============================] - 41s 4ms/step - loss: 0.6878 - accuracy: 0.2746 - val_loss: 0.7407 - val_accuracy: 0.2935\n",
            "Epoch 9/10\n",
            "11094/11094 [==============================] - 36s 3ms/step - loss: 0.6879 - accuracy: 0.2746 - val_loss: 0.7389 - val_accuracy: 0.2935\n",
            "Epoch 10/10\n",
            "11094/11094 [==============================] - 37s 3ms/step - loss: 0.6878 - accuracy: 0.2746 - val_loss: 0.7389 - val_accuracy: 0.2935\n",
            "Test-Accuracy: 0.4916805624961853\n"
          ]
        }
      ],
      "source": [
        "model = models.Sequential()\n",
        "\n",
        "model.add(layers.Dense(20, activation = \"relu\"))\n",
        "\n",
        "model.add(layers.Dense(18, activation = \"relu\"))\n",
        "model.add(layers.Dense(12, activation = \"tanh\"))\n",
        "model.add(layers.Dense(4, activation = \"relu\"))\n",
        "\n",
        "model.add(layers.Dense(1, activation = \"sigmoid\"))\n",
        "\n",
        "model.compile(\n",
        " optimizer = \"adam\",\n",
        " loss = \"binary_crossentropy\",\n",
        " metrics = [\"accuracy\"]\n",
        ")\n",
        "results = model.fit(\n",
        " train_points, train_values,\n",
        " epochs= 10,\n",
        " batch_size = 100,\n",
        " validation_data = (test_points, test_values)\n",
        ")\n",
        "print(\"Test-Accuracy:\", np.max(results.history[\"accuracy\"]))"
      ]
    },
    {
      "cell_type": "markdown",
      "metadata": {
        "id": "xN5G3BDrajks"
      },
      "source": []
    },
    {
      "cell_type": "markdown",
      "metadata": {
        "id": "QDTv40wsajZm"
      },
      "source": []
    },
    {
      "cell_type": "code",
      "execution_count": null,
      "metadata": {
        "colab": {
          "base_uri": "https://localhost:8080/"
        },
        "id": "3VWVT91nakUO",
        "outputId": "e29abfcd-1bd0-46bf-d35a-c64799cf11b2"
      },
      "outputs": [
        {
          "name": "stdout",
          "output_type": "stream",
          "text": [
            "<class 'pandas.core.frame.DataFrame'>\n",
            "RangeIndex: 1479189 entries, 0 to 1479188\n",
            "Data columns (total 25 columns):\n",
            " #   Column                  Non-Null Count    Dtype  \n",
            "---  ------                  --------------    -----  \n",
            " 0   service_type            1479189 non-null  int64  \n",
            " 1   is_mix_service          1479189 non-null  int64  \n",
            " 2   online_time             1479189 non-null  int64  \n",
            " 3   1_total_fee             1479189 non-null  float64\n",
            " 4   2_total_fee             1479189 non-null  float64\n",
            " 5   3_total_fee             1479189 non-null  float64\n",
            " 6   4_total_fee             1479189 non-null  float64\n",
            " 7   month_traffic           1479189 non-null  float64\n",
            " 8   many_over_bill          1479189 non-null  int64  \n",
            " 9   contract_type           1479189 non-null  int64  \n",
            " 10  contract_time           1479189 non-null  int64  \n",
            " 11  is_promise_low_consume  1479189 non-null  int64  \n",
            " 12  net_service             1479189 non-null  int64  \n",
            " 13  pay_times               1479189 non-null  int64  \n",
            " 14  pay_num                 1479189 non-null  float64\n",
            " 15  last_month_traffic      1479189 non-null  float64\n",
            " 16  local_trafffic_month    1479189 non-null  float64\n",
            " 17  local_caller_time       1479189 non-null  float64\n",
            " 18  service1_caller_time    1479189 non-null  float64\n",
            " 19  service2_caller_time    1479189 non-null  float64\n",
            " 20  gender                  1479189 non-null  int64  \n",
            " 21  age                     1479189 non-null  float64\n",
            " 22  complaint_level         1479189 non-null  int64  \n",
            " 23  former_complaint_num    1479189 non-null  int64  \n",
            " 24  former_complaint_fee    1479189 non-null  float64\n",
            "dtypes: float64(13), int64(12)\n",
            "memory usage: 282.1 MB\n"
          ]
        }
      ],
      "source": [
        "df3.info()"
      ]
    },
    {
      "cell_type": "code",
      "execution_count": null,
      "metadata": {
        "colab": {
          "base_uri": "https://localhost:8080/",
          "height": 249
        },
        "id": "usNsv8G7avT2",
        "outputId": "0163e7bc-8f52-44c2-8f52-62b423ff792c"
      },
      "outputs": [
        {
          "data": {
            "text/html": [
              "\n",
              "  <div id=\"df-5d1b13df-4b5f-4ba8-86be-b4cef4f0d279\">\n",
              "    <div class=\"colab-df-container\">\n",
              "      <div>\n",
              "<style scoped>\n",
              "    .dataframe tbody tr th:only-of-type {\n",
              "        vertical-align: middle;\n",
              "    }\n",
              "\n",
              "    .dataframe tbody tr th {\n",
              "        vertical-align: top;\n",
              "    }\n",
              "\n",
              "    .dataframe thead th {\n",
              "        text-align: right;\n",
              "    }\n",
              "</style>\n",
              "<table border=\"1\" class=\"dataframe\">\n",
              "  <thead>\n",
              "    <tr style=\"text-align: right;\">\n",
              "      <th></th>\n",
              "      <th>service_type</th>\n",
              "      <th>is_mix_service</th>\n",
              "      <th>online_time</th>\n",
              "      <th>1_total_fee</th>\n",
              "      <th>2_total_fee</th>\n",
              "      <th>3_total_fee</th>\n",
              "      <th>4_total_fee</th>\n",
              "      <th>month_traffic</th>\n",
              "      <th>many_over_bill</th>\n",
              "      <th>contract_type</th>\n",
              "      <th>...</th>\n",
              "      <th>last_month_traffic</th>\n",
              "      <th>local_trafffic_month</th>\n",
              "      <th>local_caller_time</th>\n",
              "      <th>service1_caller_time</th>\n",
              "      <th>service2_caller_time</th>\n",
              "      <th>gender</th>\n",
              "      <th>age</th>\n",
              "      <th>complaint_level</th>\n",
              "      <th>former_complaint_num</th>\n",
              "      <th>former_complaint_fee</th>\n",
              "    </tr>\n",
              "  </thead>\n",
              "  <tbody>\n",
              "    <tr>\n",
              "      <th>0</th>\n",
              "      <td>4</td>\n",
              "      <td>0</td>\n",
              "      <td>85</td>\n",
              "      <td>295.96</td>\n",
              "      <td>296.20</td>\n",
              "      <td>296.00</td>\n",
              "      <td>296.80</td>\n",
              "      <td>3813.614698</td>\n",
              "      <td>0</td>\n",
              "      <td>1</td>\n",
              "      <td>...</td>\n",
              "      <td>4096.000000</td>\n",
              "      <td>1392.038508</td>\n",
              "      <td>108.100000</td>\n",
              "      <td>0.000000</td>\n",
              "      <td>564.366667</td>\n",
              "      <td>0</td>\n",
              "      <td>31.0</td>\n",
              "      <td>0</td>\n",
              "      <td>0</td>\n",
              "      <td>0.0</td>\n",
              "    </tr>\n",
              "    <tr>\n",
              "      <th>1</th>\n",
              "      <td>1</td>\n",
              "      <td>0</td>\n",
              "      <td>10</td>\n",
              "      <td>265.20</td>\n",
              "      <td>261.20</td>\n",
              "      <td>208.50</td>\n",
              "      <td>174.50</td>\n",
              "      <td>0.000000</td>\n",
              "      <td>1</td>\n",
              "      <td>0</td>\n",
              "      <td>...</td>\n",
              "      <td>0.000000</td>\n",
              "      <td>62852.509718</td>\n",
              "      <td>240.100000</td>\n",
              "      <td>355.166667</td>\n",
              "      <td>0.000000</td>\n",
              "      <td>0</td>\n",
              "      <td>30.0</td>\n",
              "      <td>0</td>\n",
              "      <td>0</td>\n",
              "      <td>0.0</td>\n",
              "    </tr>\n",
              "    <tr>\n",
              "      <th>2</th>\n",
              "      <td>1</td>\n",
              "      <td>0</td>\n",
              "      <td>12</td>\n",
              "      <td>44.50</td>\n",
              "      <td>70.20</td>\n",
              "      <td>69.00</td>\n",
              "      <td>61.40</td>\n",
              "      <td>2598.397406</td>\n",
              "      <td>0</td>\n",
              "      <td>0</td>\n",
              "      <td>...</td>\n",
              "      <td>0.000000</td>\n",
              "      <td>1935.242104</td>\n",
              "      <td>27.666667</td>\n",
              "      <td>0.000000</td>\n",
              "      <td>98.416667</td>\n",
              "      <td>1</td>\n",
              "      <td>25.0</td>\n",
              "      <td>0</td>\n",
              "      <td>0</td>\n",
              "      <td>0.0</td>\n",
              "    </tr>\n",
              "    <tr>\n",
              "      <th>3</th>\n",
              "      <td>4</td>\n",
              "      <td>0</td>\n",
              "      <td>134</td>\n",
              "      <td>87.95</td>\n",
              "      <td>81.40</td>\n",
              "      <td>76.00</td>\n",
              "      <td>88.30</td>\n",
              "      <td>988.440563</td>\n",
              "      <td>0</td>\n",
              "      <td>0</td>\n",
              "      <td>...</td>\n",
              "      <td>37.336425</td>\n",
              "      <td>988.561075</td>\n",
              "      <td>89.900000</td>\n",
              "      <td>74.483333</td>\n",
              "      <td>121.833333</td>\n",
              "      <td>0</td>\n",
              "      <td>44.0</td>\n",
              "      <td>0</td>\n",
              "      <td>0</td>\n",
              "      <td>0.0</td>\n",
              "    </tr>\n",
              "    <tr>\n",
              "      <th>4</th>\n",
              "      <td>4</td>\n",
              "      <td>0</td>\n",
              "      <td>84</td>\n",
              "      <td>317.04</td>\n",
              "      <td>314.08</td>\n",
              "      <td>435.51</td>\n",
              "      <td>413.05</td>\n",
              "      <td>5885.800642</td>\n",
              "      <td>0</td>\n",
              "      <td>1</td>\n",
              "      <td>...</td>\n",
              "      <td>3305.741127</td>\n",
              "      <td>0.000000</td>\n",
              "      <td>0.000000</td>\n",
              "      <td>35.100000</td>\n",
              "      <td>496.733333</td>\n",
              "      <td>0</td>\n",
              "      <td>31.0</td>\n",
              "      <td>2</td>\n",
              "      <td>1</td>\n",
              "      <td>0.0</td>\n",
              "    </tr>\n",
              "  </tbody>\n",
              "</table>\n",
              "<p>5 rows × 25 columns</p>\n",
              "</div>\n",
              "      <button class=\"colab-df-convert\" onclick=\"convertToInteractive('df-5d1b13df-4b5f-4ba8-86be-b4cef4f0d279')\"\n",
              "              title=\"Convert this dataframe to an interactive table.\"\n",
              "              style=\"display:none;\">\n",
              "        \n",
              "  <svg xmlns=\"http://www.w3.org/2000/svg\" height=\"24px\"viewBox=\"0 0 24 24\"\n",
              "       width=\"24px\">\n",
              "    <path d=\"M0 0h24v24H0V0z\" fill=\"none\"/>\n",
              "    <path d=\"M18.56 5.44l.94 2.06.94-2.06 2.06-.94-2.06-.94-.94-2.06-.94 2.06-2.06.94zm-11 1L8.5 8.5l.94-2.06 2.06-.94-2.06-.94L8.5 2.5l-.94 2.06-2.06.94zm10 10l.94 2.06.94-2.06 2.06-.94-2.06-.94-.94-2.06-.94 2.06-2.06.94z\"/><path d=\"M17.41 7.96l-1.37-1.37c-.4-.4-.92-.59-1.43-.59-.52 0-1.04.2-1.43.59L10.3 9.45l-7.72 7.72c-.78.78-.78 2.05 0 2.83L4 21.41c.39.39.9.59 1.41.59.51 0 1.02-.2 1.41-.59l7.78-7.78 2.81-2.81c.8-.78.8-2.07 0-2.86zM5.41 20L4 18.59l7.72-7.72 1.47 1.35L5.41 20z\"/>\n",
              "  </svg>\n",
              "      </button>\n",
              "      \n",
              "  <style>\n",
              "    .colab-df-container {\n",
              "      display:flex;\n",
              "      flex-wrap:wrap;\n",
              "      gap: 12px;\n",
              "    }\n",
              "\n",
              "    .colab-df-convert {\n",
              "      background-color: #E8F0FE;\n",
              "      border: none;\n",
              "      border-radius: 50%;\n",
              "      cursor: pointer;\n",
              "      display: none;\n",
              "      fill: #1967D2;\n",
              "      height: 32px;\n",
              "      padding: 0 0 0 0;\n",
              "      width: 32px;\n",
              "    }\n",
              "\n",
              "    .colab-df-convert:hover {\n",
              "      background-color: #E2EBFA;\n",
              "      box-shadow: 0px 1px 2px rgba(60, 64, 67, 0.3), 0px 1px 3px 1px rgba(60, 64, 67, 0.15);\n",
              "      fill: #174EA6;\n",
              "    }\n",
              "\n",
              "    [theme=dark] .colab-df-convert {\n",
              "      background-color: #3B4455;\n",
              "      fill: #D2E3FC;\n",
              "    }\n",
              "\n",
              "    [theme=dark] .colab-df-convert:hover {\n",
              "      background-color: #434B5C;\n",
              "      box-shadow: 0px 1px 3px 1px rgba(0, 0, 0, 0.15);\n",
              "      filter: drop-shadow(0px 1px 2px rgba(0, 0, 0, 0.3));\n",
              "      fill: #FFFFFF;\n",
              "    }\n",
              "  </style>\n",
              "\n",
              "      <script>\n",
              "        const buttonEl =\n",
              "          document.querySelector('#df-5d1b13df-4b5f-4ba8-86be-b4cef4f0d279 button.colab-df-convert');\n",
              "        buttonEl.style.display =\n",
              "          google.colab.kernel.accessAllowed ? 'block' : 'none';\n",
              "\n",
              "        async function convertToInteractive(key) {\n",
              "          const element = document.querySelector('#df-5d1b13df-4b5f-4ba8-86be-b4cef4f0d279');\n",
              "          const dataTable =\n",
              "            await google.colab.kernel.invokeFunction('convertToInteractive',\n",
              "                                                     [key], {});\n",
              "          if (!dataTable) return;\n",
              "\n",
              "          const docLinkHtml = 'Like what you see? Visit the ' +\n",
              "            '<a target=\"_blank\" href=https://colab.research.google.com/notebooks/data_table.ipynb>data table notebook</a>'\n",
              "            + ' to learn more about interactive tables.';\n",
              "          element.innerHTML = '';\n",
              "          dataTable['output_type'] = 'display_data';\n",
              "          await google.colab.output.renderOutput(dataTable, element);\n",
              "          const docLink = document.createElement('div');\n",
              "          docLink.innerHTML = docLinkHtml;\n",
              "          element.appendChild(docLink);\n",
              "        }\n",
              "      </script>\n",
              "    </div>\n",
              "  </div>\n",
              "  "
            ],
            "text/plain": [
              "   service_type  is_mix_service  online_time  1_total_fee  2_total_fee  \\\n",
              "0             4               0           85       295.96       296.20   \n",
              "1             1               0           10       265.20       261.20   \n",
              "2             1               0           12        44.50        70.20   \n",
              "3             4               0          134        87.95        81.40   \n",
              "4             4               0           84       317.04       314.08   \n",
              "\n",
              "   3_total_fee  4_total_fee  month_traffic  many_over_bill  contract_type  \\\n",
              "0       296.00       296.80    3813.614698               0              1   \n",
              "1       208.50       174.50       0.000000               1              0   \n",
              "2        69.00        61.40    2598.397406               0              0   \n",
              "3        76.00        88.30     988.440563               0              0   \n",
              "4       435.51       413.05    5885.800642               0              1   \n",
              "\n",
              "   ...  last_month_traffic  local_trafffic_month  local_caller_time  \\\n",
              "0  ...         4096.000000           1392.038508         108.100000   \n",
              "1  ...            0.000000          62852.509718         240.100000   \n",
              "2  ...            0.000000           1935.242104          27.666667   \n",
              "3  ...           37.336425            988.561075          89.900000   \n",
              "4  ...         3305.741127              0.000000           0.000000   \n",
              "\n",
              "   service1_caller_time  service2_caller_time  gender   age  complaint_level  \\\n",
              "0              0.000000            564.366667       0  31.0                0   \n",
              "1            355.166667              0.000000       0  30.0                0   \n",
              "2              0.000000             98.416667       1  25.0                0   \n",
              "3             74.483333            121.833333       0  44.0                0   \n",
              "4             35.100000            496.733333       0  31.0                2   \n",
              "\n",
              "   former_complaint_num  former_complaint_fee  \n",
              "0                     0                   0.0  \n",
              "1                     0                   0.0  \n",
              "2                     0                   0.0  \n",
              "3                     0                   0.0  \n",
              "4                     1                   0.0  \n",
              "\n",
              "[5 rows x 25 columns]"
            ]
          },
          "execution_count": 30,
          "metadata": {},
          "output_type": "execute_result"
        },
        {
          "name": "stdout",
          "output_type": "stream",
          "text": [
            "Warning: Total number of columns (25) exceeds max_columns (20) limiting to first (20) columns.\n"
          ]
        }
      ],
      "source": [
        "df3.head()"
      ]
    },
    {
      "cell_type": "code",
      "execution_count": null,
      "metadata": {
        "id": "r5b_ThzHnZHn"
      },
      "outputs": [],
      "source": [
        "x = df3.loc[:, df.columns != 'gender']\n",
        "y = df3['gender']\n",
        "train_points_1, test_points_1, train_values_1, test_values_1 = train_test_split(x, y, random_state=104, test_size=0.30, shuffle=False, stratify=None)"
      ]
    },
    {
      "cell_type": "code",
      "execution_count": null,
      "metadata": {
        "colab": {
          "base_uri": "https://localhost:8080/"
        },
        "id": "l0HG9xsVnfNE",
        "outputId": "a843a177-f633-4787-94d0-4c9db20e9f49"
      },
      "outputs": [
        {
          "name": "stdout",
          "output_type": "stream",
          "text": [
            "0.8544203246371325\n"
          ]
        }
      ],
      "source": [
        "rf_model = ensemble.RandomForestClassifier(n_estimators=100)\n",
        "rf_model.fit(train_points_1, train_values_1)\n",
        "test_predict_rf = rf_model.predict(test_points_1)\n",
        "print(accuracy_score(test_values_1, test_predict_rf))"
      ]
    },
    {
      "cell_type": "code",
      "execution_count": null,
      "metadata": {
        "colab": {
          "base_uri": "https://localhost:8080/"
        },
        "id": "lNaWQOVZrIAl",
        "outputId": "959200d6-1c45-46a3-8f92-b332d1713b20"
      },
      "outputs": [
        {
          "name": "stdout",
          "output_type": "stream",
          "text": [
            "0.8533454120160358\n"
          ]
        }
      ],
      "source": [
        "rf_model = ensemble.RandomForestClassifier(n_estimators=50)\n",
        "rf_model.fit(train_points_1, train_values_1)\n",
        "test_predict_rf = rf_model.predict(test_points_1)\n",
        "print(accuracy_score(test_values_1, test_predict_rf))"
      ]
    },
    {
      "cell_type": "code",
      "execution_count": null,
      "metadata": {
        "id": "GNYnJOpLtzgE"
      },
      "outputs": [],
      "source": [
        "x = df3.loc[:, df.columns != 'gender']\n",
        "y = df3['gender']\n",
        "train_points_2, test_points_2, train_values_2, test_values_2 = train_test_split(x, y, random_state=104, test_size=0.20, shuffle=False, stratify=None)"
      ]
    },
    {
      "cell_type": "code",
      "execution_count": null,
      "metadata": {
        "colab": {
          "base_uri": "https://localhost:8080/"
        },
        "id": "-VchNVFkt5C2",
        "outputId": "d744bd8a-0fdd-40b5-fa2c-5058c83479f4"
      },
      "outputs": [
        {
          "name": "stdout",
          "output_type": "stream",
          "text": [
            "0.8544068037236596\n"
          ]
        }
      ],
      "source": [
        "rf_model = ensemble.RandomForestClassifier(n_estimators=100)\n",
        "rf_model.fit(train_points_2, train_values_2)\n",
        "test_predict_rf = rf_model.predict(test_points_2)\n",
        "print(accuracy_score(test_values_2, test_predict_rf))"
      ]
    },
    {
      "cell_type": "code",
      "execution_count": 22,
      "metadata": {
        "colab": {
          "base_uri": "https://localhost:8080/",
          "height": 200
        },
        "id": "dR6itwcEw5aj",
        "outputId": "a35dcb2f-c4dc-4cd2-99e0-182407624bd1"
      },
      "outputs": [],
      "source": [
        "x = df3.loc[:, df.columns != 'gender']\n",
        "y = df3['gender']\n",
        "train_points_3, test_points_3, train_values_3, test_values_3 = train_test_split(x, y, random_state=104, test_size=0.15, shuffle=False, stratify=None)"
      ]
    },
    {
      "cell_type": "code",
      "execution_count": 23,
      "metadata": {
        "id": "a3fWioYnw_C6"
      },
      "outputs": [
        {
          "ename": "NameError",
          "evalue": "name 'train_points_1' is not defined",
          "output_type": "error",
          "traceback": [
            "\u001b[1;31m---------------------------------------------------------------------------\u001b[0m",
            "\u001b[1;31mNameError\u001b[0m                                 Traceback (most recent call last)",
            "Cell \u001b[1;32mIn[23], line 2\u001b[0m\n\u001b[0;32m      1\u001b[0m rf_model \u001b[39m=\u001b[39m ensemble\u001b[39m.\u001b[39mRandomForestClassifier(n_estimators\u001b[39m=\u001b[39m\u001b[39m100\u001b[39m)\n\u001b[1;32m----> 2\u001b[0m rf_model\u001b[39m.\u001b[39mfit(train_points_1, train_values_1)\n\u001b[0;32m      3\u001b[0m test_predict_rf \u001b[39m=\u001b[39m rf_model\u001b[39m.\u001b[39mpredict(test_points_1)\n\u001b[0;32m      4\u001b[0m \u001b[39mprint\u001b[39m(accuracy_score(test_values_1, test_predict_rf))\n",
            "\u001b[1;31mNameError\u001b[0m: name 'train_points_1' is not defined"
          ]
        }
      ],
      "source": [
        "rf_model = ensemble.RandomForestClassifier(n_estimators=100)\n",
        "rf_model.fit(train_points_1, train_values_1)\n",
        "test_predict_rf = rf_model.predict(test_points_1)\n",
        "print(accuracy_score(test_values_1, test_predict_rf))"
      ]
    }
  ],
  "metadata": {
    "colab": {
      "provenance": []
    },
    "kernelspec": {
      "display_name": "Python 3",
      "language": "python",
      "name": "python3"
    },
    "language_info": {
      "codemirror_mode": {
        "name": "ipython",
        "version": 3
      },
      "file_extension": ".py",
      "mimetype": "text/x-python",
      "name": "python",
      "nbconvert_exporter": "python",
      "pygments_lexer": "ipython3",
      "version": "3.11.1"
    },
    "orig_nbformat": 4,
    "vscode": {
      "interpreter": {
        "hash": "f5ff168696553f3e2cb115c273c46eeb315c32b0d0536992c4bad2740a7f9469"
      }
    }
  },
  "nbformat": 4,
  "nbformat_minor": 0
}
