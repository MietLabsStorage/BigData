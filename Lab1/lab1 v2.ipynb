{
 "cells": [
  {
   "cell_type": "markdown",
   "metadata": {
    "id": "LZGC7wRfHB6P"
   },
   "source": [
    "https://www.kaggle.com/datasets/pwang001/user-package-information-of-mobile-operators"
   ]
  },
  {
   "cell_type": "code",
   "execution_count": 1,
   "metadata": {
    "id": "R-9WTHuTHB6V"
   },
   "outputs": [],
   "source": [
    "import pandas as pd\n",
    "import numpy as np\n",
    "import matplotlib.pyplot as plt\n",
    "\n",
    "from sklearn import ensemble\n",
    "from sklearn.ensemble import RandomForestClassifier\n",
    "from sklearn.metrics import accuracy_score\n",
    "from sklearn.model_selection import train_test_split\n",
    "\n",
    "import warnings\n",
    "warnings.filterwarnings(\"ignore\")"
   ]
  },
  {
   "cell_type": "code",
   "execution_count": 2,
   "metadata": {
    "colab": {
     "base_uri": "https://localhost:8080/"
    },
    "id": "Fp1AfKhkHB6Z",
    "outputId": "c1aa19d5-0a82-4ed1-e416-a248d2f4884b"
   },
   "outputs": [],
   "source": [
    "#!wget https://www.dropbox.com/s/5b6o99k5ko6cr1r/train_1.csv\n",
    "#!wget https://www.dropbox.com/s/br8m56fomdxs7lw/train_2.csv\n",
    "#!wget https://www.dropbox.com/s/xmw5shslewwfi0n/test_1.csv\n",
    "#!wget https://www.dropbox.com/s/uxxc48au1zclpu2/test_2.csv\n",
    "df_train_1 = pd.read_csv('train_1.csv', encoding='utf-8')\n",
    "df_train_2 = pd.read_csv('train_2.csv', encoding='utf-8')\n",
    "df_test_1 = pd.read_csv('test_1.csv', encoding='utf-8')\n",
    "df_test_2 = pd.read_csv('test_2.csv', encoding='utf-8')\n",
    "df = pd.concat([df_train_1, df_train_2, df_test_1, df_test_2])\n",
    "df_old = df"
   ]
  },
  {
   "cell_type": "code",
   "execution_count": 3,
   "metadata": {
    "colab": {
     "base_uri": "https://localhost:8080/"
    },
    "id": "OE2h-V6SHB6a",
    "outputId": "19063414-d82a-46be-fe40-8e4c8c3e4b01"
   },
   "outputs": [
    {
     "data": {
      "text/plain": [
       "service_type              False\n",
       "is_mix_service            False\n",
       "online_time               False\n",
       "1_total_fee               False\n",
       "2_total_fee               False\n",
       "3_total_fee               False\n",
       "4_total_fee               False\n",
       "month_traffic             False\n",
       "many_over_bill            False\n",
       "contract_type             False\n",
       "contract_time             False\n",
       "is_promise_low_consume    False\n",
       "net_service               False\n",
       "pay_times                 False\n",
       "pay_num                   False\n",
       "last_month_traffic        False\n",
       "local_trafffic_month      False\n",
       "local_caller_time         False\n",
       "service1_caller_time      False\n",
       "service2_caller_time      False\n",
       "gender                    False\n",
       "age                       False\n",
       "complaint_level           False\n",
       "former_complaint_num      False\n",
       "former_complaint_fee      False\n",
       "current_service            True\n",
       "user_id                   False\n",
       "dtype: bool"
      ]
     },
     "execution_count": 3,
     "metadata": {},
     "output_type": "execute_result"
    }
   ],
   "source": [
    "df.isnull().any()"
   ]
  },
  {
   "cell_type": "code",
   "execution_count": 4,
   "metadata": {
    "colab": {
     "base_uri": "https://localhost:8080/"
    },
    "id": "honVPoheHB6c",
    "outputId": "aa60ce66-0678-4016-f9d7-b005581c63c4"
   },
   "outputs": [
    {
     "name": "stdout",
     "output_type": "stream",
     "text": [
      "current_service count: 1479211\n",
      "current_service nulls count: 360566\n",
      "percent of nulls: 24.37556237751071\n"
     ]
    }
   ],
   "source": [
    "allCs = df['current_service'].size\n",
    "nullCs = df['current_service'][df['current_service'].isnull()].size\n",
    "print('current_service count', allCs, sep=': ') \n",
    "print('current_service nulls count', nullCs, sep=': ')\n",
    "print('percent of nulls', nullCs/allCs*100, sep=': ')"
   ]
  },
  {
   "cell_type": "code",
   "execution_count": 5,
   "metadata": {},
   "outputs": [
    {
     "data": {
      "text/plain": [
       "array([99999825., 90063345., 90109916., 89950166., 89950168., 89950167.,\n",
       "       90155946., 99999828., 99999826., 99999827., 99999830.,   999999.,\n",
       "             nan])"
      ]
     },
     "execution_count": 5,
     "metadata": {},
     "output_type": "execute_result"
    }
   ],
   "source": [
    "df['current_service'].unique()"
   ]
  },
  {
   "cell_type": "code",
   "execution_count": 6,
   "metadata": {},
   "outputs": [
    {
     "data": {
      "text/plain": [
       "service_type              False\n",
       "is_mix_service            False\n",
       "online_time               False\n",
       "1_total_fee               False\n",
       "2_total_fee               False\n",
       "3_total_fee               False\n",
       "4_total_fee               False\n",
       "month_traffic             False\n",
       "many_over_bill            False\n",
       "contract_type             False\n",
       "contract_time             False\n",
       "is_promise_low_consume    False\n",
       "net_service               False\n",
       "pay_times                 False\n",
       "pay_num                   False\n",
       "last_month_traffic        False\n",
       "local_trafffic_month      False\n",
       "local_caller_time         False\n",
       "service1_caller_time      False\n",
       "service2_caller_time      False\n",
       "gender                    False\n",
       "age                       False\n",
       "complaint_level           False\n",
       "former_complaint_num      False\n",
       "former_complaint_fee      False\n",
       "user_id                   False\n",
       "dtype: bool"
      ]
     },
     "execution_count": 6,
     "metadata": {},
     "output_type": "execute_result"
    }
   ],
   "source": [
    "del df[\"current_service\"]\n",
    "df.isnull().any()"
   ]
  },
  {
   "cell_type": "code",
   "execution_count": 7,
   "metadata": {},
   "outputs": [
    {
     "name": "stdout",
     "output_type": "stream",
     "text": [
      "<class 'pandas.core.frame.DataFrame'>\n",
      "Int64Index: 1479211 entries, 0 to 160565\n",
      "Data columns (total 26 columns):\n",
      " #   Column                  Non-Null Count    Dtype  \n",
      "---  ------                  --------------    -----  \n",
      " 0   service_type            1479211 non-null  int64  \n",
      " 1   is_mix_service          1479211 non-null  int64  \n",
      " 2   online_time             1479211 non-null  int64  \n",
      " 3   1_total_fee             1479211 non-null  float64\n",
      " 4   2_total_fee             1479211 non-null  object \n",
      " 5   3_total_fee             1479211 non-null  object \n",
      " 6   4_total_fee             1479211 non-null  float64\n",
      " 7   month_traffic           1479211 non-null  float64\n",
      " 8   many_over_bill          1479211 non-null  int64  \n",
      " 9   contract_type           1479211 non-null  int64  \n",
      " 10  contract_time           1479211 non-null  int64  \n",
      " 11  is_promise_low_consume  1479211 non-null  int64  \n",
      " 12  net_service             1479211 non-null  int64  \n",
      " 13  pay_times               1479211 non-null  int64  \n",
      " 14  pay_num                 1479211 non-null  float64\n",
      " 15  last_month_traffic      1479211 non-null  float64\n",
      " 16  local_trafffic_month    1479211 non-null  float64\n",
      " 17  local_caller_time       1479211 non-null  float64\n",
      " 18  service1_caller_time    1479211 non-null  float64\n",
      " 19  service2_caller_time    1479211 non-null  float64\n",
      " 20  gender                  1479211 non-null  object \n",
      " 21  age                     1479211 non-null  object \n",
      " 22  complaint_level         1479211 non-null  int64  \n",
      " 23  former_complaint_num    1479211 non-null  int64  \n",
      " 24  former_complaint_fee    1479211 non-null  float64\n",
      " 25  user_id                 1479211 non-null  object \n",
      "dtypes: float64(10), int64(11), object(5)\n",
      "memory usage: 304.7+ MB\n"
     ]
    }
   ],
   "source": [
    "df.info()"
   ]
  },
  {
   "cell_type": "code",
   "execution_count": 8,
   "metadata": {},
   "outputs": [],
   "source": [
    "# user_id ничего не определяет при классификации\n",
    "del df[\"user_id\"]"
   ]
  },
  {
   "cell_type": "code",
   "execution_count": 9,
   "metadata": {},
   "outputs": [
    {
     "name": "stdout",
     "output_type": "stream",
     "text": [
      "2_total_fee count: 1479211\n",
      "2_total_fee nulls count: 15\n",
      "percent of nulls: 0.0010140541139837386\n"
     ]
    }
   ],
   "source": [
    "tf2 = pd.to_numeric(df['2_total_fee'], errors='coerce')\n",
    "\n",
    "allCs = tf2.size\n",
    "nullCs = tf2[tf2.isnull()].size\n",
    "print('2_total_fee count', allCs, sep=': ') \n",
    "print('2_total_fee nulls count', nullCs, sep=': ')\n",
    "print('percent of nulls', nullCs/allCs*100, sep=': ')"
   ]
  },
  {
   "cell_type": "code",
   "execution_count": 10,
   "metadata": {},
   "outputs": [],
   "source": [
    "df['2_total_fee'] = tf2\n",
    "df = df[pd.notnull(df['2_total_fee'])]"
   ]
  },
  {
   "cell_type": "code",
   "execution_count": 11,
   "metadata": {},
   "outputs": [
    {
     "name": "stdout",
     "output_type": "stream",
     "text": [
      "3_total_fee count: 1479196\n",
      "3_total_fee nulls count: 5\n",
      "percent of nulls: 0.0003380214657151588\n"
     ]
    }
   ],
   "source": [
    "tf3 = pd.to_numeric(df['3_total_fee'], errors='coerce')\n",
    "\n",
    "allCs = tf3.size\n",
    "nullCs = tf3[tf3.isnull()].size\n",
    "print('3_total_fee count', allCs, sep=': ') \n",
    "print('3_total_fee nulls count', nullCs, sep=': ')\n",
    "print('percent of nulls', nullCs/allCs*100, sep=': ')"
   ]
  },
  {
   "cell_type": "code",
   "execution_count": 12,
   "metadata": {},
   "outputs": [],
   "source": [
    "df['3_total_fee'] = tf3\n",
    "df = df[pd.notnull(df['3_total_fee'])]"
   ]
  },
  {
   "cell_type": "code",
   "execution_count": 13,
   "metadata": {},
   "outputs": [
    {
     "name": "stdout",
     "output_type": "stream",
     "text": [
      "age count: 1479191\n",
      "age nulls count: 2\n",
      "percent of nulls: 0.00013520904332165354\n"
     ]
    }
   ],
   "source": [
    "age = pd.to_numeric(df['age'], errors='coerce')\n",
    "\n",
    "allCs = age.size\n",
    "nullCs = age[age.isnull()].size\n",
    "print('age count', allCs, sep=': ') \n",
    "print('age nulls count', nullCs, sep=': ')\n",
    "print('percent of nulls', nullCs/allCs*100, sep=': ')"
   ]
  },
  {
   "cell_type": "code",
   "execution_count": 14,
   "metadata": {},
   "outputs": [],
   "source": [
    "df['age'] = age\n",
    "df = df[pd.notnull(df['age'])]"
   ]
  },
  {
   "cell_type": "code",
   "execution_count": 15,
   "metadata": {},
   "outputs": [
    {
     "name": "stdout",
     "output_type": "stream",
     "text": [
      "gender count: 1479189\n",
      "gender nulls count: 0\n",
      "percent of nulls: 0.0\n",
      "gender zeros count: 28785\n",
      "percent of nulls: 1.9459987871732416\n"
     ]
    }
   ],
   "source": [
    "gender = pd.to_numeric(df['gender'], errors='coerce')\n",
    "\n",
    "allCs = gender.size\n",
    "nullCs = gender[gender.isnull()].size\n",
    "zeroCs = gender[gender == 0].size\n",
    "print('gender count', allCs, sep=': ') \n",
    "print('gender nulls count', nullCs, sep=': ')\n",
    "print('percent of nulls', nullCs/allCs*100, sep=': ')\n",
    "print('gender zeros count', zeroCs, sep=': ')\n",
    "print('percent of nulls', zeroCs/allCs*100, sep=': ')"
   ]
  },
  {
   "cell_type": "code",
   "execution_count": 16,
   "metadata": {},
   "outputs": [],
   "source": [
    "df['gender'] = gender\n",
    "df = df[pd.notnull(df['gender'])]\n",
    "df = df[df['gender'] != 0]"
   ]
  },
  {
   "cell_type": "code",
   "execution_count": 17,
   "metadata": {},
   "outputs": [
    {
     "name": "stdout",
     "output_type": "stream",
     "text": [
      "<class 'pandas.core.frame.DataFrame'>\n",
      "RangeIndex: 1450404 entries, 0 to 1450403\n",
      "Data columns (total 25 columns):\n",
      " #   Column                  Non-Null Count    Dtype  \n",
      "---  ------                  --------------    -----  \n",
      " 0   service_type            1450404 non-null  int64  \n",
      " 1   is_mix_service          1450404 non-null  int64  \n",
      " 2   online_time             1450404 non-null  int64  \n",
      " 3   1_total_fee             1450404 non-null  float64\n",
      " 4   2_total_fee             1450404 non-null  float64\n",
      " 5   3_total_fee             1450404 non-null  float64\n",
      " 6   4_total_fee             1450404 non-null  float64\n",
      " 7   month_traffic           1450404 non-null  float64\n",
      " 8   many_over_bill          1450404 non-null  int64  \n",
      " 9   contract_type           1450404 non-null  int64  \n",
      " 10  contract_time           1450404 non-null  int64  \n",
      " 11  is_promise_low_consume  1450404 non-null  int64  \n",
      " 12  net_service             1450404 non-null  int64  \n",
      " 13  pay_times               1450404 non-null  int64  \n",
      " 14  pay_num                 1450404 non-null  float64\n",
      " 15  last_month_traffic      1450404 non-null  float64\n",
      " 16  local_trafffic_month    1450404 non-null  float64\n",
      " 17  local_caller_time       1450404 non-null  float64\n",
      " 18  service1_caller_time    1450404 non-null  float64\n",
      " 19  service2_caller_time    1450404 non-null  float64\n",
      " 20  gender                  1450404 non-null  int64  \n",
      " 21  age                     1450404 non-null  float64\n",
      " 22  complaint_level         1450404 non-null  int64  \n",
      " 23  former_complaint_num    1450404 non-null  int64  \n",
      " 24  former_complaint_fee    1450404 non-null  float64\n",
      "dtypes: float64(13), int64(12)\n",
      "memory usage: 276.6 MB\n"
     ]
    }
   ],
   "source": [
    "df = df.reset_index(drop=True)\n",
    "df.info()"
   ]
  },
  {
   "cell_type": "code",
   "execution_count": 18,
   "metadata": {},
   "outputs": [
    {
     "name": "stdout",
     "output_type": "stream",
     "text": [
      "1479211\n",
      "1450404\n",
      "rows removed: 28807\n",
      "in percents (%): 1.9474571241019707\n"
     ]
    }
   ],
   "source": [
    "# размеры изначального и обработанного фреймов\n",
    "print(df_old.shape[0])\n",
    "print(df.shape[0])\n",
    "print('rows removed', df_old.shape[0] - df.shape[0], sep=': ')\n",
    "print('in percents (%)', (df_old.shape[0] - df.shape[0]) / df_old.shape[0] * 100, sep=': ')"
   ]
  },
  {
   "cell_type": "code",
   "execution_count": 19,
   "metadata": {},
   "outputs": [],
   "source": [
    "x = df.loc[:, df.columns != 'gender']\n",
    "y = df['gender']\n",
    "train_points, test_points, train_values, test_values = train_test_split(x, y, random_state=104, test_size=0.25, shuffle=False, stratify=None)"
   ]
  },
  {
   "cell_type": "code",
   "execution_count": 20,
   "metadata": {},
   "outputs": [
    {
     "name": "stdout",
     "output_type": "stream",
     "text": [
      "88.34724669816134\n"
     ]
    }
   ],
   "source": [
    "rf_model = ensemble.RandomForestClassifier(n_estimators=100)\n",
    "rf_model.fit(train_points, train_values)\n",
    "test_predict_rf = rf_model.predict(test_points)\n",
    "print(accuracy_score(test_values, test_predict_rf) * 100)"
   ]
  },
  {
   "cell_type": "code",
   "execution_count": 21,
   "metadata": {},
   "outputs": [],
   "source": [
    "filt = df\n",
    "filt = filt[filt['online_time'] <= 153.2]\n",
    "filt = filt[filt['1_total_fee'] <= 407.04]\n",
    "filt = filt[filt['2_total_fee'] <= 466.53]\n",
    "filt = filt[filt['3_total_fee'] <= 414.89]\n",
    "filt = filt[filt['4_total_fee'] <= 413.28]\n",
    "filt = filt[filt['month_traffic'] <= 14303.72]\n",
    "filt = filt[filt['pay_times'] <= 9.72]\n",
    "filt = filt[filt['pay_num'] <= 3071.01]\n",
    "filt = filt[filt['last_month_traffic'] <= 4177.35]\n",
    "filt = filt[filt['local_trafffic_month'] <= 61760.91]\n",
    "filt = filt[filt['local_caller_time'] <= 662.78]\n",
    "filt = filt[filt['service1_caller_time'] <= 407.45]\n",
    "filt = filt[filt['service2_caller_time'] <= 995.47]\n",
    "filt = filt[filt['age'] <= 70.04]\n",
    "filt = filt[filt['age'] > 0]\n",
    "filt = filt[filt['former_complaint_num'] <= 2.4]\n",
    "filt = filt[filt['former_complaint_fee'] <= 8218.7]\n",
    "filt = filt.reset_index(drop=True)"
   ]
  },
  {
   "cell_type": "code",
   "execution_count": 22,
   "metadata": {},
   "outputs": [
    {
     "name": "stdout",
     "output_type": "stream",
     "text": [
      "1479211\n",
      "1324527\n",
      "rows removed: 154684\n",
      "in percents (%): 10.457196437830708\n"
     ]
    }
   ],
   "source": [
    "# размеры изначального и обработанного фреймов\n",
    "print(df_old.shape[0])\n",
    "print(filt.shape[0])\n",
    "print('rows removed', df_old.shape[0] - filt.shape[0], sep=': ')\n",
    "print('in percents (%)', (df_old.shape[0] - filt.shape[0]) / df_old.shape[0] * 100, sep=': ')"
   ]
  },
  {
   "cell_type": "code",
   "execution_count": 23,
   "metadata": {},
   "outputs": [],
   "source": [
    "x = filt.loc[:, filt.columns != 'gender']\n",
    "y = filt['gender']\n",
    "train_points_f, test_points_f, train_values_f, test_values_f = train_test_split(x, y, random_state=104, test_size=0.25, shuffle=False, stratify=None)"
   ]
  },
  {
   "cell_type": "code",
   "execution_count": 24,
   "metadata": {},
   "outputs": [
    {
     "name": "stdout",
     "output_type": "stream",
     "text": [
      "88.39073239674813\n"
     ]
    }
   ],
   "source": [
    "rf_model = ensemble.RandomForestClassifier(n_estimators=100)\n",
    "rf_model.fit(train_points_f, train_values_f)\n",
    "test_predict_rf = rf_model.predict(test_points_f)\n",
    "print(accuracy_score(test_values_f, test_predict_rf) * 100)"
   ]
  }
 ],
 "metadata": {
  "colab": {
   "provenance": []
  },
  "kernelspec": {
   "display_name": "Python 3",
   "language": "python",
   "name": "python3"
  },
  "language_info": {
   "codemirror_mode": {
    "name": "ipython",
    "version": 3
   },
   "file_extension": ".py",
   "mimetype": "text/x-python",
   "name": "python",
   "nbconvert_exporter": "python",
   "pygments_lexer": "ipython3",
   "version": "3.11.1"
  },
  "orig_nbformat": 4,
  "vscode": {
   "interpreter": {
    "hash": "aee8b7b246df8f9039afb4144a1f6fd8d2ca17a180786b69acc140d282b71a49"
   }
  }
 },
 "nbformat": 4,
 "nbformat_minor": 0
}
