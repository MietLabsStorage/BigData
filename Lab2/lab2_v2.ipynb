{
 "cells": [
  {
   "cell_type": "code",
   "execution_count": 192,
   "metadata": {},
   "outputs": [],
   "source": [
    "import pandas as pd\n",
    "import numpy as np\n",
    "import matplotlib.pyplot as plt\n",
    "\n",
    "from sklearn import ensemble\n",
    "from sklearn.ensemble import RandomForestClassifier\n",
    "from sklearn.metrics import accuracy_score\n",
    "from sklearn.metrics import mean_absolute_error\n",
    "from sklearn.model_selection import train_test_split\n",
    "\n",
    "import warnings\n",
    "warnings.filterwarnings(\"ignore\")"
   ]
  },
  {
   "cell_type": "code",
   "execution_count": 193,
   "metadata": {},
   "outputs": [],
   "source": [
    "df = pd.read_csv('nyc-rolling-sales.csv', encoding='utf-8')\n",
    "df_old_size = df.shape[0]"
   ]
  },
  {
   "cell_type": "code",
   "execution_count": 194,
   "metadata": {},
   "outputs": [
    {
     "data": {
      "text/plain": [
       "Unnamed: 0                        False\n",
       "BOROUGH                           False\n",
       "NEIGHBORHOOD                      False\n",
       "BUILDING CLASS CATEGORY           False\n",
       "TAX CLASS AT PRESENT              False\n",
       "BLOCK                             False\n",
       "LOT                               False\n",
       "EASE-MENT                         False\n",
       "BUILDING CLASS AT PRESENT         False\n",
       "ADDRESS                           False\n",
       "APARTMENT NUMBER                  False\n",
       "ZIP CODE                          False\n",
       "RESIDENTIAL UNITS                 False\n",
       "COMMERCIAL UNITS                  False\n",
       "TOTAL UNITS                       False\n",
       "LAND SQUARE FEET                  False\n",
       "GROSS SQUARE FEET                 False\n",
       "YEAR BUILT                        False\n",
       "TAX CLASS AT TIME OF SALE         False\n",
       "BUILDING CLASS AT TIME OF SALE    False\n",
       "SALE PRICE                        False\n",
       "SALE DATE                         False\n",
       "dtype: bool"
      ]
     },
     "execution_count": 194,
     "metadata": {},
     "output_type": "execute_result"
    }
   ],
   "source": [
    "df.isnull().any()"
   ]
  },
  {
   "cell_type": "code",
   "execution_count": 195,
   "metadata": {},
   "outputs": [
    {
     "name": "stdout",
     "output_type": "stream",
     "text": [
      "<class 'pandas.core.frame.DataFrame'>\n",
      "RangeIndex: 84548 entries, 0 to 84547\n",
      "Data columns (total 22 columns):\n",
      " #   Column                          Non-Null Count  Dtype \n",
      "---  ------                          --------------  ----- \n",
      " 0   Unnamed: 0                      84548 non-null  int64 \n",
      " 1   BOROUGH                         84548 non-null  int64 \n",
      " 2   NEIGHBORHOOD                    84548 non-null  object\n",
      " 3   BUILDING CLASS CATEGORY         84548 non-null  object\n",
      " 4   TAX CLASS AT PRESENT            84548 non-null  object\n",
      " 5   BLOCK                           84548 non-null  int64 \n",
      " 6   LOT                             84548 non-null  int64 \n",
      " 7   EASE-MENT                       84548 non-null  object\n",
      " 8   BUILDING CLASS AT PRESENT       84548 non-null  object\n",
      " 9   ADDRESS                         84548 non-null  object\n",
      " 10  APARTMENT NUMBER                84548 non-null  object\n",
      " 11  ZIP CODE                        84548 non-null  int64 \n",
      " 12  RESIDENTIAL UNITS               84548 non-null  int64 \n",
      " 13  COMMERCIAL UNITS                84548 non-null  int64 \n",
      " 14  TOTAL UNITS                     84548 non-null  int64 \n",
      " 15  LAND SQUARE FEET                84548 non-null  object\n",
      " 16  GROSS SQUARE FEET               84548 non-null  object\n",
      " 17  YEAR BUILT                      84548 non-null  int64 \n",
      " 18  TAX CLASS AT TIME OF SALE       84548 non-null  int64 \n",
      " 19  BUILDING CLASS AT TIME OF SALE  84548 non-null  object\n",
      " 20  SALE PRICE                      84548 non-null  object\n",
      " 21  SALE DATE                       84548 non-null  object\n",
      "dtypes: int64(10), object(12)\n",
      "memory usage: 14.2+ MB\n"
     ]
    }
   ],
   "source": [
    "df.info()"
   ]
  },
  {
   "cell_type": "code",
   "execution_count": 196,
   "metadata": {},
   "outputs": [
    {
     "name": "stdout",
     "output_type": "stream",
     "text": [
      "<class 'pandas.core.frame.DataFrame'>\n",
      "Int64Index: 69987 entries, 0 to 84547\n",
      "Data columns (total 22 columns):\n",
      " #   Column                          Non-Null Count  Dtype  \n",
      "---  ------                          --------------  -----  \n",
      " 0   Unnamed: 0                      69987 non-null  int64  \n",
      " 1   BOROUGH                         69987 non-null  int64  \n",
      " 2   NEIGHBORHOOD                    69987 non-null  int64  \n",
      " 3   BUILDING CLASS CATEGORY         69987 non-null  int64  \n",
      " 4   TAX CLASS AT PRESENT            69987 non-null  int64  \n",
      " 5   BLOCK                           69987 non-null  int64  \n",
      " 6   LOT                             69987 non-null  int64  \n",
      " 7   EASE-MENT                       69987 non-null  int64  \n",
      " 8   BUILDING CLASS AT PRESENT       69987 non-null  int64  \n",
      " 9   ADDRESS                         69987 non-null  int64  \n",
      " 10  APARTMENT NUMBER                69987 non-null  int64  \n",
      " 11  ZIP CODE                        69987 non-null  int64  \n",
      " 12  RESIDENTIAL UNITS               69987 non-null  int64  \n",
      " 13  COMMERCIAL UNITS                69987 non-null  int64  \n",
      " 14  TOTAL UNITS                     69987 non-null  int64  \n",
      " 15  LAND SQUARE FEET                69987 non-null  int64  \n",
      " 16  GROSS SQUARE FEET               69987 non-null  int64  \n",
      " 17  YEAR BUILT                      69987 non-null  int64  \n",
      " 18  TAX CLASS AT TIME OF SALE       69987 non-null  int64  \n",
      " 19  BUILDING CLASS AT TIME OF SALE  69987 non-null  int64  \n",
      " 20  SALE PRICE                      69987 non-null  float64\n",
      " 21  SALE DATE                       69987 non-null  float64\n",
      "dtypes: float64(2), int64(20)\n",
      "memory usage: 12.3 MB\n"
     ]
    }
   ],
   "source": [
    "columns = ['NEIGHBORHOOD', 'BUILDING CLASS CATEGORY', 'TAX CLASS AT PRESENT', 'EASE-MENT', 'BUILDING CLASS AT PRESENT', 'ADDRESS', 'APARTMENT NUMBER', 'LAND SQUARE FEET', 'GROSS SQUARE FEET', 'BUILDING CLASS AT TIME OF SALE']\n",
    "\n",
    "for c in columns:\n",
    "    df[c] = pd.factorize(df[c])[0]\n",
    "\n",
    "df['SALE DATE'] = pd.to_numeric(df['SALE PRICE'], errors='coerce')\n",
    "df['SALE PRICE'] = pd.to_numeric(df['SALE PRICE'], errors='coerce')\n",
    "df = df.dropna(0)\n",
    "df.info()"
   ]
  },
  {
   "cell_type": "code",
   "execution_count": 197,
   "metadata": {},
   "outputs": [
    {
     "data": {
      "text/plain": [
       "array([[<Axes: title={'center': 'SALE PRICE'}>]], dtype=object)"
      ]
     },
     "execution_count": 197,
     "metadata": {},
     "output_type": "execute_result"
    },
    {
     "data": {
      "image/png": "[encoded data removed]",
      "text/plain": [
       "<Figure size 640x480 with 1 Axes>"
      ]
     },
     "metadata": {},
     "output_type": "display_data"
    }
   ],
   "source": [
    "df.hist(['SALE PRICE'])"
   ]
  },
  {
   "cell_type": "code",
   "execution_count": 198,
   "metadata": {},
   "outputs": [
    {
     "data": {
      "text/plain": [
       "array([[<Axes: title={'center': 'SALE PRICE'}>]], dtype=object)"
      ]
     },
     "execution_count": 198,
     "metadata": {},
     "output_type": "execute_result"
    },
    {
     "data": {
      "image/png": "[encoded data removed]",
      "text/plain": [
       "<Figure size 640x480 with 1 Axes>"
      ]
     },
     "metadata": {},
     "output_type": "display_data"
    }
   ],
   "source": [
    "df = df[df['SALE PRICE'] < 1.8 * 10**6]\n",
    "df = df[df['SALE PRICE'] != 0]\n",
    "df.hist(['SALE PRICE'])"
   ]
  },
  {
   "cell_type": "code",
   "execution_count": 199,
   "metadata": {},
   "outputs": [
    {
     "name": "stdout",
     "output_type": "stream",
     "text": [
      "<class 'pandas.core.frame.DataFrame'>\n",
      "Int64Index: 52045 entries, 12 to 84547\n",
      "Data columns (total 22 columns):\n",
      " #   Column                          Non-Null Count  Dtype  \n",
      "---  ------                          --------------  -----  \n",
      " 0   Unnamed: 0                      52045 non-null  int64  \n",
      " 1   BOROUGH                         52045 non-null  int64  \n",
      " 2   NEIGHBORHOOD                    52045 non-null  int64  \n",
      " 3   BUILDING CLASS CATEGORY         52045 non-null  int64  \n",
      " 4   TAX CLASS AT PRESENT            52045 non-null  int64  \n",
      " 5   BLOCK                           52045 non-null  int64  \n",
      " 6   LOT                             52045 non-null  int64  \n",
      " 7   EASE-MENT                       52045 non-null  int64  \n",
      " 8   BUILDING CLASS AT PRESENT       52045 non-null  int64  \n",
      " 9   ADDRESS                         52045 non-null  int64  \n",
      " 10  APARTMENT NUMBER                52045 non-null  int64  \n",
      " 11  ZIP CODE                        52045 non-null  int64  \n",
      " 12  RESIDENTIAL UNITS               52045 non-null  int64  \n",
      " 13  COMMERCIAL UNITS                52045 non-null  int64  \n",
      " 14  TOTAL UNITS                     52045 non-null  int64  \n",
      " 15  LAND SQUARE FEET                52045 non-null  int64  \n",
      " 16  GROSS SQUARE FEET               52045 non-null  int64  \n",
      " 17  YEAR BUILT                      52045 non-null  int64  \n",
      " 18  TAX CLASS AT TIME OF SALE       52045 non-null  int64  \n",
      " 19  BUILDING CLASS AT TIME OF SALE  52045 non-null  int64  \n",
      " 20  SALE PRICE                      52045 non-null  float64\n",
      " 21  SALE DATE                       52045 non-null  float64\n",
      "dtypes: float64(2), int64(20)\n",
      "memory usage: 9.1 MB\n"
     ]
    }
   ],
   "source": [
    "df.info()"
   ]
  },
  {
   "cell_type": "code",
   "execution_count": 200,
   "metadata": {},
   "outputs": [],
   "source": [
    "x = df.loc[:, df.columns != 'SALE PRICE']\n",
    "y = df['SALE PRICE']\n",
    "train_points, test_points, train_values, test_values = train_test_split(x, y, random_state=104, test_size=0.25, shuffle=False, stratify=None)"
   ]
  },
  {
   "cell_type": "code",
   "execution_count": 201,
   "metadata": {},
   "outputs": [
    {
     "name": "stdout",
     "output_type": "stream",
     "text": [
      "24.41838226252719\n"
     ]
    }
   ],
   "source": [
    "rf_model = ensemble.RandomForestRegressor(n_estimators=100)\n",
    "rf_model.fit(train_points, train_values)\n",
    "test_predict_rf = rf_model.predict(test_points)\n",
    "print(mean_absolute_error(test_values, test_predict_rf))"
   ]
  },
  {
   "cell_type": "code",
   "execution_count": 203,
   "metadata": {},
   "outputs": [
    {
     "name": "stdout",
     "output_type": "stream",
     "text": [
      "136589.34438823297\n"
     ]
    }
   ],
   "source": [
    "import xgboost as xgb\n",
    "xg_reg = xgb.XGBRegressor(objective = 'reg:squarederror', colsample_bytree = 0.3, learning_rate = 0.1,\n",
    "                max_depth = 5, alpha = 10, n_estimators = 13)\n",
    "xg_reg.fit(train_points, train_values)\n",
    "xgb_predict = xg_reg.predict(test_points)\n",
    "print(mean_absolute_error(test_values, xgb_predict))"
   ]
  }
 ],
 "metadata": {
  "kernelspec": {
   "display_name": "Python 3",
   "language": "python",
   "name": "python3"
  },
  "language_info": {
   "codemirror_mode": {
    "name": "ipython",
    "version": 3
   },
   "file_extension": ".py",
   "mimetype": "text/x-python",
   "name": "python",
   "nbconvert_exporter": "python",
   "pygments_lexer": "ipython3",
   "version": "3.11.2"
  },
  "orig_nbformat": 4,
  "vscode": {
   "interpreter": {
    "hash": "aee8b7b246df8f9039afb4144a1f6fd8d2ca17a180786b69acc140d282b71a49"
   }
  }
 },
 "nbformat": 4,
 "nbformat_minor": 2
}
