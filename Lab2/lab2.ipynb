{
 "cells": [
  {
   "cell_type": "code",
   "execution_count": 337,
   "metadata": {},
   "outputs": [],
   "source": [
    "import pandas as pd\n",
    "import numpy as np\n",
    "import matplotlib.pyplot as plt\n",
    "\n",
    "from sklearn import ensemble\n",
    "from sklearn.ensemble import RandomForestClassifier\n",
    "from sklearn.metrics import accuracy_score\n",
    "from sklearn.metrics import mean_absolute_error\n",
    "from sklearn.model_selection import train_test_split\n",
    "\n",
    "import warnings\n",
    "warnings.filterwarnings(\"ignore\")"
   ]
  },
  {
   "cell_type": "code",
   "execution_count": 338,
   "metadata": {},
   "outputs": [],
   "source": [
    "df = pd.read_csv('nyc-rolling-sales.csv', encoding='utf-8')\n",
    "df_old_size = df.shape[0]"
   ]
  },
  {
   "cell_type": "code",
   "execution_count": 339,
   "metadata": {},
   "outputs": [
    {
     "data": {
      "text/plain": [
       "Unnamed: 0                        False\n",
       "BOROUGH                           False\n",
       "NEIGHBORHOOD                      False\n",
       "BUILDING CLASS CATEGORY           False\n",
       "TAX CLASS AT PRESENT              False\n",
       "BLOCK                             False\n",
       "LOT                               False\n",
       "EASE-MENT                         False\n",
       "BUILDING CLASS AT PRESENT         False\n",
       "ADDRESS                           False\n",
       "APARTMENT NUMBER                  False\n",
       "ZIP CODE                          False\n",
       "RESIDENTIAL UNITS                 False\n",
       "COMMERCIAL UNITS                  False\n",
       "TOTAL UNITS                       False\n",
       "LAND SQUARE FEET                  False\n",
       "GROSS SQUARE FEET                 False\n",
       "YEAR BUILT                        False\n",
       "TAX CLASS AT TIME OF SALE         False\n",
       "BUILDING CLASS AT TIME OF SALE    False\n",
       "SALE PRICE                        False\n",
       "SALE DATE                         False\n",
       "dtype: bool"
      ]
     },
     "execution_count": 339,
     "metadata": {},
     "output_type": "execute_result"
    }
   ],
   "source": [
    "df.isnull().any()"
   ]
  },
  {
   "cell_type": "code",
   "execution_count": 340,
   "metadata": {},
   "outputs": [
    {
     "name": "stdout",
     "output_type": "stream",
     "text": [
      "<class 'pandas.core.frame.DataFrame'>\n",
      "RangeIndex: 84548 entries, 0 to 84547\n",
      "Data columns (total 22 columns):\n",
      " #   Column                          Non-Null Count  Dtype \n",
      "---  ------                          --------------  ----- \n",
      " 0   Unnamed: 0                      84548 non-null  int64 \n",
      " 1   BOROUGH                         84548 non-null  int64 \n",
      " 2   NEIGHBORHOOD                    84548 non-null  object\n",
      " 3   BUILDING CLASS CATEGORY         84548 non-null  object\n",
      " 4   TAX CLASS AT PRESENT            84548 non-null  object\n",
      " 5   BLOCK                           84548 non-null  int64 \n",
      " 6   LOT                             84548 non-null  int64 \n",
      " 7   EASE-MENT                       84548 non-null  object\n",
      " 8   BUILDING CLASS AT PRESENT       84548 non-null  object\n",
      " 9   ADDRESS                         84548 non-null  object\n",
      " 10  APARTMENT NUMBER                84548 non-null  object\n",
      " 11  ZIP CODE                        84548 non-null  int64 \n",
      " 12  RESIDENTIAL UNITS               84548 non-null  int64 \n",
      " 13  COMMERCIAL UNITS                84548 non-null  int64 \n",
      " 14  TOTAL UNITS                     84548 non-null  int64 \n",
      " 15  LAND SQUARE FEET                84548 non-null  object\n",
      " 16  GROSS SQUARE FEET               84548 non-null  object\n",
      " 17  YEAR BUILT                      84548 non-null  int64 \n",
      " 18  TAX CLASS AT TIME OF SALE       84548 non-null  int64 \n",
      " 19  BUILDING CLASS AT TIME OF SALE  84548 non-null  object\n",
      " 20  SALE PRICE                      84548 non-null  object\n",
      " 21  SALE DATE                       84548 non-null  object\n",
      "dtypes: int64(10), object(12)\n",
      "memory usage: 14.2+ MB\n"
     ]
    }
   ],
   "source": [
    "df.info()"
   ]
  },
  {
   "cell_type": "code",
   "execution_count": 341,
   "metadata": {},
   "outputs": [
    {
     "data": {
      "text/plain": [
       "array(['ALPHABET CITY', 'CHELSEA', 'CHINATOWN', 'CIVIC CENTER', 'CLINTON',\n",
       "       'EAST VILLAGE', 'FASHION', 'FINANCIAL', 'FLATIRON', 'GRAMERCY',\n",
       "       'GREENWICH VILLAGE-CENTRAL', 'GREENWICH VILLAGE-WEST',\n",
       "       'HARLEM-CENTRAL', 'HARLEM-EAST', 'HARLEM-UPPER', 'HARLEM-WEST',\n",
       "       'INWOOD', 'JAVITS CENTER', 'KIPS BAY', 'LITTLE ITALY',\n",
       "       'LOWER EAST SIDE', 'MANHATTAN VALLEY', 'MIDTOWN CBD',\n",
       "       'MIDTOWN EAST', 'MIDTOWN WEST', 'MORNINGSIDE HEIGHTS',\n",
       "       'MURRAY HILL', 'ROOSEVELT ISLAND', 'SOHO', 'SOUTHBRIDGE',\n",
       "       'TRIBECA', 'UPPER EAST SIDE (59-79)', 'UPPER EAST SIDE (79-96)',\n",
       "       'UPPER EAST SIDE (96-110)', 'UPPER WEST SIDE (59-79)',\n",
       "       'UPPER WEST SIDE (79-96)', 'UPPER WEST SIDE (96-116)',\n",
       "       'WASHINGTON HEIGHTS LOWER', 'WASHINGTON HEIGHTS UPPER', 'BATHGATE',\n",
       "       'BAYCHESTER', 'BEDFORD PARK/NORWOOD', 'BELMONT', 'BRONX PARK',\n",
       "       'BRONXDALE', 'CASTLE HILL/UNIONPORT', 'CITY ISLAND',\n",
       "       'CITY ISLAND-PELHAM STRIP', 'CO-OP CITY', 'COUNTRY CLUB',\n",
       "       'CROTONA PARK', 'EAST RIVER', 'EAST TREMONT', 'FIELDSTON',\n",
       "       'FORDHAM', 'HIGHBRIDGE/MORRIS HEIGHTS', 'HUNTS POINT',\n",
       "       'KINGSBRIDGE HTS/UNIV HTS', 'KINGSBRIDGE/JEROME PARK',\n",
       "       'MELROSE/CONCOURSE', 'MORRIS PARK/VAN NEST', 'MORRISANIA/LONGWOOD',\n",
       "       'MOTT HAVEN/PORT MORRIS', 'MOUNT HOPE/MOUNT EDEN', 'PARKCHESTER',\n",
       "       'PELHAM BAY', 'PELHAM GARDENS', 'PELHAM PARKWAY NORTH',\n",
       "       'PELHAM PARKWAY SOUTH', 'RIVERDALE', 'SCHUYLERVILLE/PELHAM BAY',\n",
       "       'SOUNDVIEW', 'THROGS NECK', 'VAN CORTLANDT PARK', 'WAKEFIELD',\n",
       "       'WESTCHESTER', 'WILLIAMSBRIDGE', 'WOODLAWN', 'BATH BEACH',\n",
       "       'BAY RIDGE', 'BEDFORD STUYVESANT', 'BENSONHURST', 'BERGEN BEACH',\n",
       "       'BOERUM HILL', 'BOROUGH PARK', 'BRIGHTON BEACH',\n",
       "       'BROOKLYN HEIGHTS', 'BROWNSVILLE', 'BUSH TERMINAL', 'BUSHWICK',\n",
       "       'CANARSIE', 'CARROLL GARDENS', 'CLINTON HILL', 'COBBLE HILL',\n",
       "       'COBBLE HILL-WEST', 'CONEY ISLAND', 'CROWN HEIGHTS',\n",
       "       'CYPRESS HILLS', 'DOWNTOWN-FULTON FERRY', 'DOWNTOWN-FULTON MALL',\n",
       "       'DOWNTOWN-METROTECH', 'DYKER HEIGHTS', 'EAST NEW YORK',\n",
       "       'FLATBUSH-CENTRAL', 'FLATBUSH-EAST', 'FLATBUSH-LEFFERTS GARDEN',\n",
       "       'FLATBUSH-NORTH', 'FLATLANDS', 'FORT GREENE', 'GERRITSEN BEACH',\n",
       "       'GOWANUS', 'GRAVESEND', 'GREENPOINT', 'JAMAICA BAY', 'KENSINGTON',\n",
       "       'MADISON', 'MANHATTAN BEACH', 'MARINE PARK', 'MIDWOOD',\n",
       "       'MILL BASIN', 'NAVY YARD', 'OCEAN HILL', 'OCEAN PARKWAY-NORTH',\n",
       "       'OCEAN PARKWAY-SOUTH', 'OLD MILL BASIN', 'PARK SLOPE',\n",
       "       'PARK SLOPE SOUTH', 'PROSPECT HEIGHTS', 'RED HOOK', 'SEAGATE',\n",
       "       'SHEEPSHEAD BAY', 'SPRING CREEK', 'SUNSET PARK',\n",
       "       'WILLIAMSBURG-CENTRAL', 'WILLIAMSBURG-EAST', 'WILLIAMSBURG-NORTH',\n",
       "       'WILLIAMSBURG-SOUTH', 'WINDSOR TERRACE', 'WYCKOFF HEIGHTS',\n",
       "       'AIRPORT LA GUARDIA', 'ARVERNE', 'ASTORIA', 'BAYSIDE',\n",
       "       'BEECHHURST', 'BELLE HARBOR', 'BELLEROSE', 'BRIARWOOD',\n",
       "       'BROAD CHANNEL', 'CAMBRIA HEIGHTS', 'COLLEGE POINT', 'CORONA',\n",
       "       'DOUGLASTON', 'EAST ELMHURST', 'ELMHURST', 'FAR ROCKAWAY',\n",
       "       'FLORAL PARK', 'FLUSHING MEADOW PARK', 'FLUSHING-NORTH',\n",
       "       'FLUSHING-SOUTH', 'FOREST HILLS', 'FRESH MEADOWS', 'GLEN OAKS',\n",
       "       'GLENDALE', 'HAMMELS', 'HILLCREST', 'HOLLIS', 'HOLLIS HILLS',\n",
       "       'HOLLISWOOD', 'HOWARD BEACH', 'JACKSON HEIGHTS', 'JAMAICA',\n",
       "       'JAMAICA ESTATES', 'JAMAICA HILLS', 'KEW GARDENS', 'LAURELTON',\n",
       "       'LITTLE NECK', 'LONG ISLAND CITY', 'MASPETH', 'MIDDLE VILLAGE',\n",
       "       'NEPONSIT', 'OAKLAND GARDENS', 'OZONE PARK', 'QUEENS VILLAGE',\n",
       "       'REGO PARK', 'RICHMOND HILL', 'RIDGEWOOD', 'ROCKAWAY PARK',\n",
       "       'ROSEDALE', 'SO. JAMAICA-BAISLEY PARK', 'SOUTH JAMAICA',\n",
       "       'SOUTH OZONE PARK', 'SPRINGFIELD GARDENS', 'ST. ALBANS',\n",
       "       'SUNNYSIDE', 'WHITESTONE', 'WOODHAVEN', 'WOODSIDE', 'ANNADALE',\n",
       "       'ARDEN HEIGHTS', 'ARROCHAR', 'ARROCHAR-SHORE ACRES', 'BLOOMFIELD',\n",
       "       'BULLS HEAD', 'CASTLETON CORNERS', 'CLOVE LAKES', 'CONCORD',\n",
       "       'CONCORD-FOX HILLS', 'DONGAN HILLS', 'DONGAN HILLS-COLONY',\n",
       "       'DONGAN HILLS-OLD TOWN', 'ELTINGVILLE', 'EMERSON HILL',\n",
       "       'FRESH KILLS', 'GRANT CITY', 'GRASMERE', 'GREAT KILLS',\n",
       "       'GREAT KILLS-BAY TERRACE', 'GRYMES HILL', 'HUGUENOT', 'LIVINGSTON',\n",
       "       'MANOR HEIGHTS', 'MARINERS HARBOR', 'MIDLAND BEACH',\n",
       "       'NEW BRIGHTON', 'NEW BRIGHTON-ST. GEORGE', 'NEW DORP',\n",
       "       'NEW DORP-BEACH', 'NEW DORP-HEIGHTS', 'NEW SPRINGVILLE', 'OAKWOOD',\n",
       "       'OAKWOOD-BEACH', 'PLEASANT PLAINS', 'PORT IVORY', 'PORT RICHMOND',\n",
       "       'PRINCES BAY', 'RICHMONDTOWN', 'RICHMONDTOWN-LIGHTHS HILL',\n",
       "       'ROSEBANK', 'ROSSVILLE', 'ROSSVILLE-CHARLESTON',\n",
       "       'ROSSVILLE-PORT MOBIL', 'ROSSVILLE-RICHMOND VALLEY', 'SILVER LAKE',\n",
       "       'SOUTH BEACH', 'STAPLETON', 'STAPLETON-CLIFTON', 'TODT HILL',\n",
       "       'TOMPKINSVILLE', 'TOTTENVILLE', 'TRAVIS', 'WEST NEW BRIGHTON',\n",
       "       'WESTERLEIGH', 'WILLOWBROOK', 'WOODROW'], dtype=object)"
      ]
     },
     "execution_count": 341,
     "metadata": {},
     "output_type": "execute_result"
    }
   ],
   "source": [
    "df['NEIGHBORHOOD'].unique()"
   ]
  },
  {
   "cell_type": "code",
   "execution_count": 342,
   "metadata": {},
   "outputs": [],
   "source": [
    "df = df[df['NEIGHBORHOOD'] != ' ']\n",
    "df['NEIGHBORHOOD'] = pd.factorize(df['NEIGHBORHOOD'])[0]"
   ]
  },
  {
   "cell_type": "code",
   "execution_count": 343,
   "metadata": {},
   "outputs": [
    {
     "data": {
      "text/plain": [
       "array(['07 RENTALS - WALKUP APARTMENTS             ',\n",
       "       '08 RENTALS - ELEVATOR APARTMENTS           ',\n",
       "       '09 COOPS - WALKUP APARTMENTS               ',\n",
       "       '10 COOPS - ELEVATOR APARTMENTS             ',\n",
       "       '11A CONDO-RENTALS                           ',\n",
       "       '12 CONDOS - WALKUP APARTMENTS              ',\n",
       "       '13 CONDOS - ELEVATOR APARTMENTS            ',\n",
       "       '14 RENTALS - 4-10 UNIT                     ',\n",
       "       '15 CONDOS - 2-10 UNIT RESIDENTIAL          ',\n",
       "       '16 CONDOS - 2-10 UNIT WITH COMMERCIAL UNIT ',\n",
       "       '17 CONDO COOPS                             ',\n",
       "       '22 STORE BUILDINGS                         ',\n",
       "       '37 RELIGIOUS FACILITIES                    ',\n",
       "       '42 CONDO CULTURAL/MEDICAL/EDUCATIONAL/ETC  ',\n",
       "       '46 CONDO STORE BUILDINGS                   ',\n",
       "       '47 CONDO NON-BUSINESS STORAGE              ',\n",
       "       '01 ONE FAMILY DWELLINGS                    ',\n",
       "       '02 TWO FAMILY DWELLINGS                    ',\n",
       "       '03 THREE FAMILY DWELLINGS                  ',\n",
       "       '04 TAX CLASS 1 CONDOS                      ',\n",
       "       '21 OFFICE BUILDINGS                        ',\n",
       "       '23 LOFT BUILDINGS                          ',\n",
       "       '25 LUXURY HOTELS                           ',\n",
       "       '26 OTHER HOTELS                            ',\n",
       "       '28 COMMERCIAL CONDOS                       ',\n",
       "       '29 COMMERCIAL GARAGES                      ',\n",
       "       '35 INDOOR PUBLIC AND CULTURAL FACILITIES   ',\n",
       "       '38 ASYLUMS AND HOMES                       ',\n",
       "       '43 CONDO OFFICE BUILDINGS                  ',\n",
       "       '44 CONDO PARKING                           ',\n",
       "       '48 CONDO TERRACES/GARDENS/CABANAS          ',\n",
       "       '31 COMMERCIAL VACANT LAND                  ',\n",
       "       '32 HOSPITAL AND HEALTH FACILITIES          ',\n",
       "       '41 TAX CLASS 4 - OTHER                     ',\n",
       "       '18 TAX CLASS 3 - UNTILITY PROPERTIES       ',\n",
       "       '30 WAREHOUSES                              ',\n",
       "       '36 OUTDOOR RECREATIONAL FACILITIES         ',\n",
       "       '49 CONDO WAREHOUSES/FACTORY/INDUS          ',\n",
       "       '34 THEATRES                                ',\n",
       "       '27 FACTORIES                               ',\n",
       "       '40 SELECTED GOVERNMENTAL FACILITIES        ',\n",
       "       '45 CONDO HOTELS                            ',\n",
       "       '33 EDUCATIONAL FACILITIES                  ',\n",
       "       '11 SPECIAL CONDO BILLING LOTS              ',\n",
       "       '05 TAX CLASS 1 VACANT LAND                 ',\n",
       "       '06 TAX CLASS 1 - OTHER                     ',\n",
       "       '39 TRANSPORTATION FACILITIES               '], dtype=object)"
      ]
     },
     "execution_count": 343,
     "metadata": {},
     "output_type": "execute_result"
    }
   ],
   "source": [
    "df['BUILDING CLASS CATEGORY'].unique()"
   ]
  },
  {
   "cell_type": "code",
   "execution_count": 344,
   "metadata": {},
   "outputs": [],
   "source": [
    "df = df[df['BUILDING CLASS CATEGORY'] != ' ']\n",
    "df['BUILDING CLASS CATEGORY'] = pd.factorize(df['BUILDING CLASS CATEGORY'])[0]"
   ]
  },
  {
   "cell_type": "code",
   "execution_count": 345,
   "metadata": {},
   "outputs": [
    {
     "data": {
      "text/plain": [
       "array(['2A', '2', '2B', '2C', ' ', '4', '1', '1C', '3', '1A', '1B'],\n",
       "      dtype=object)"
      ]
     },
     "execution_count": 345,
     "metadata": {},
     "output_type": "execute_result"
    }
   ],
   "source": [
    "df['TAX CLASS AT PRESENT'].unique()"
   ]
  },
  {
   "cell_type": "code",
   "execution_count": 346,
   "metadata": {},
   "outputs": [],
   "source": [
    "df = df[df['TAX CLASS AT PRESENT'] != ' ']\n",
    "#df['TAX CLASS AT PRESENT'] = pd.factorize(df['TAX CLASS AT PRESENT'])[0]\n",
    "\n",
    "def simplify(f):\n",
    "    if '1' in f:\n",
    "        return 1\n",
    "    if '2' in f:\n",
    "        return 2\n",
    "    if '3' in f:\n",
    "        return 3\n",
    "    if '4' in f:\n",
    "        return 4\n",
    "\n",
    "df['TAX CLASS AT PRESENT'] = df['TAX CLASS AT PRESENT'].apply(simplify)"
   ]
  },
  {
   "cell_type": "code",
   "execution_count": 347,
   "metadata": {},
   "outputs": [
    {
     "data": {
      "text/plain": [
       "array(['C2', 'C7', 'C4', 'D5', 'D9', 'D7', 'D1', 'C6', 'D0', 'D4', 'RR',\n",
       "       'R2', 'R4', 'S3', 'S4', 'S5', 'R1', 'R8', 'R9', 'K4', 'M9', 'M3',\n",
       "       'RK', 'RS', 'A9', 'A4', 'B3', 'B1', 'S2', 'C0', 'R6', 'C5', 'C3',\n",
       "       'C1', 'D6', 'S9', 'O2', 'O1', 'O3', 'O5', 'O6', 'K1', 'K2', 'L9',\n",
       "       'L8', 'L1', 'H1', 'H8', 'H3', 'R5', 'G6', 'P7', 'M1', 'N2', 'RB',\n",
       "       'RG', 'RT', 'K9', 'V1', 'GW', 'G2', 'I7', 'M4', 'Z9', 'B9', 'D3',\n",
       "       'G9', 'I9', 'U6', 'O4', 'L3', 'H2', 'E1', 'Z3', 'RW', 'C9', 'J5',\n",
       "       'N9', 'S1', 'A5', 'J8', 'B2', 'C8', 'F5', 'Q1', 'G7', 'G5', 'G4',\n",
       "       'P2', 'Q9', 'Y1', 'RA', 'RP', 'O8', 'HR', 'G1', 'E7', 'I5', 'R3',\n",
       "       'I4', 'H9', 'RH', 'D8', 'HB', 'J4', 'W2', 'P9', 'A7', 'D2', 'S0',\n",
       "       'O7', 'O9', 'W3', 'HS', 'H6', 'J9', 'R0', 'HH', 'W8', 'W6', 'A1',\n",
       "       'K5', 'F1', 'V9', 'A2', 'V0', 'G0', 'F4', 'E9', 'I3', 'W4', 'V3',\n",
       "       'I1', 'A6', 'Q8', 'A3', 'Z0', 'W1', 'U1', 'F2', 'F9', 'GU', 'I6',\n",
       "       'G8', 'P5', 'Y3', 'W9', 'M2', 'G3', 'V6', 'K7', 'K3', 'R7', 'P8',\n",
       "       'K6', 'V2', 'E2', 'Z2', 'T2', 'K8', 'P6', 'A0', 'H4', 'J1', 'CM',\n",
       "       'Z7'], dtype=object)"
      ]
     },
     "execution_count": 347,
     "metadata": {},
     "output_type": "execute_result"
    }
   ],
   "source": [
    "df['BUILDING CLASS AT PRESENT'].unique()"
   ]
  },
  {
   "cell_type": "code",
   "execution_count": 348,
   "metadata": {},
   "outputs": [],
   "source": [
    "df = df[df['BUILDING CLASS AT PRESENT'] != ' ']\n",
    "df['BUILDING CLASS AT PRESENT'] = pd.factorize(df['BUILDING CLASS AT PRESENT'])[0]"
   ]
  },
  {
   "cell_type": "code",
   "execution_count": 349,
   "metadata": {},
   "outputs": [
    {
     "data": {
      "text/plain": [
       "array([' '], dtype=object)"
      ]
     },
     "execution_count": 349,
     "metadata": {},
     "output_type": "execute_result"
    }
   ],
   "source": [
    "df['EASE-MENT'].unique()"
   ]
  },
  {
   "cell_type": "code",
   "execution_count": 350,
   "metadata": {},
   "outputs": [],
   "source": [
    "del df[\"EASE-MENT\"]"
   ]
  },
  {
   "cell_type": "code",
   "execution_count": 351,
   "metadata": {},
   "outputs": [
    {
     "data": {
      "text/plain": [
       "array(['153 AVENUE B', '234 EAST 4TH   STREET', '197 EAST 3RD   STREET',\n",
       "       ..., '49 PITNEY AVENUE', '2730 ARTHUR KILL ROAD',\n",
       "       '155 CLAY PIT ROAD'], dtype=object)"
      ]
     },
     "execution_count": 351,
     "metadata": {},
     "output_type": "execute_result"
    }
   ],
   "source": [
    "df['ADDRESS'].unique()"
   ]
  },
  {
   "cell_type": "code",
   "execution_count": 352,
   "metadata": {},
   "outputs": [],
   "source": [
    "def clear(s):\n",
    "    ns = s.split(' ', 1)\n",
    "    l = len(ns)\n",
    "    return ns[l - 1]\n",
    "\n",
    "df['ADDRESS'] = df['ADDRESS'].apply(clear)"
   ]
  },
  {
   "cell_type": "code",
   "execution_count": 353,
   "metadata": {},
   "outputs": [],
   "source": [
    "df = df[df['ADDRESS'] != ' ']\n",
    "df['ADDRESS'] = pd.factorize(df['ADDRESS'])[0]"
   ]
  },
  {
   "cell_type": "code",
   "execution_count": 354,
   "metadata": {},
   "outputs": [
    {
     "data": {
      "text/plain": [
       "array([' ', 'RES', 'UNIT1', ..., '115', 'MS-B', '363'], dtype=object)"
      ]
     },
     "execution_count": 354,
     "metadata": {},
     "output_type": "execute_result"
    }
   ],
   "source": [
    "df['APARTMENT NUMBER'].unique()"
   ]
  },
  {
   "cell_type": "code",
   "execution_count": 355,
   "metadata": {},
   "outputs": [],
   "source": [
    "del df['APARTMENT NUMBER']"
   ]
  },
  {
   "cell_type": "code",
   "execution_count": 356,
   "metadata": {},
   "outputs": [
    {
     "data": {
      "text/plain": [
       "array(['1633', '4616', '2212', ..., '11088', '208033', '10796'],\n",
       "      dtype=object)"
      ]
     },
     "execution_count": 356,
     "metadata": {},
     "output_type": "execute_result"
    }
   ],
   "source": [
    "df['LAND SQUARE FEET'].unique()"
   ]
  },
  {
   "cell_type": "code",
   "execution_count": 357,
   "metadata": {},
   "outputs": [
    {
     "name": "stdout",
     "output_type": "stream",
     "text": [
      "count: 83810\n",
      "nulls count: 25866\n",
      "percent of nulls: 30.862665553036628\n"
     ]
    }
   ],
   "source": [
    "col = pd.to_numeric(df['LAND SQUARE FEET'], errors='coerce')\n",
    "allCs = col.size\n",
    "nullCs = col[col.isnull()].size\n",
    "print('count', allCs, sep=': ') \n",
    "print('nulls count', nullCs, sep=': ')\n",
    "print('percent of nulls', nullCs/allCs*100, sep=': ')"
   ]
  },
  {
   "cell_type": "code",
   "execution_count": 358,
   "metadata": {},
   "outputs": [],
   "source": [
    "del df['LAND SQUARE FEET']"
   ]
  },
  {
   "cell_type": "code",
   "execution_count": 359,
   "metadata": {},
   "outputs": [
    {
     "data": {
      "text/plain": [
       "array(['6440', '18690', '7803', ..., '977', '2683', '64117'], dtype=object)"
      ]
     },
     "execution_count": 359,
     "metadata": {},
     "output_type": "execute_result"
    }
   ],
   "source": [
    "df['GROSS SQUARE FEET'].unique()"
   ]
  },
  {
   "cell_type": "code",
   "execution_count": 360,
   "metadata": {},
   "outputs": [
    {
     "name": "stdout",
     "output_type": "stream",
     "text": [
      "count: 83810\n",
      "nulls count: 27226\n",
      "percent of nulls: 32.48538360577496\n"
     ]
    }
   ],
   "source": [
    "col = pd.to_numeric(df['GROSS SQUARE FEET'], errors='coerce')\n",
    "allCs = col.size\n",
    "nullCs = col[col.isnull()].size\n",
    "print('count', allCs, sep=': ') \n",
    "print('nulls count', nullCs, sep=': ')\n",
    "print('percent of nulls', nullCs/allCs*100, sep=': ')"
   ]
  },
  {
   "cell_type": "code",
   "execution_count": 361,
   "metadata": {},
   "outputs": [],
   "source": [
    "del df['GROSS SQUARE FEET']"
   ]
  },
  {
   "cell_type": "code",
   "execution_count": 362,
   "metadata": {},
   "outputs": [
    {
     "data": {
      "text/plain": [
       "array(['C2', 'C7', 'C4', 'D5', 'D9', 'D7', 'D1', 'C6', 'D0', 'D4', 'RR',\n",
       "       'R2', 'R4', 'S3', 'S4', 'S5', 'R1', 'R8', 'R9', 'K4', 'M9', 'M3',\n",
       "       'RK', 'RS', 'A9', 'A4', 'B3', 'B1', 'S2', 'C0', 'R6', 'C5', 'C3',\n",
       "       'C1', 'D6', 'S9', 'O2', 'O1', 'O3', 'O5', 'O6', 'K1', 'K2', 'L9',\n",
       "       'L8', 'L1', 'H1', 'H8', 'H3', 'R5', 'G9', 'G6', 'P7', 'M1', 'N2',\n",
       "       'RB', 'RG', 'RT', 'K9', 'V1', 'GW', 'G2', 'I7', 'M4', 'Z9', 'B9',\n",
       "       'D3', 'I9', 'U6', 'O4', 'L3', 'H2', 'E1', 'Z3', 'Q1', 'RW', 'C9',\n",
       "       'J5', 'N9', 'S1', 'A5', 'J8', 'B2', 'C8', 'F5', 'G7', 'G5', 'G4',\n",
       "       'P2', 'Q9', 'Y1', 'RA', 'RP', 'O8', 'HR', 'G1', 'E7', 'I5', 'R3',\n",
       "       'I4', 'H9', 'RH', 'D8', 'HB', 'J4', 'W2', 'P9', 'A7', 'D2', 'S0',\n",
       "       'O7', 'O9', 'W3', 'HS', 'H6', 'J9', 'R0', 'HH', 'W8', 'W6', 'A1',\n",
       "       'K5', 'F1', 'V9', 'A2', 'V0', 'G0', 'F4', 'E9', 'I3', 'W4', 'V3',\n",
       "       'I1', 'A6', 'Q8', 'A3', 'Z0', 'W1', 'U1', 'F2', 'F9', 'GU', 'I6',\n",
       "       'G8', 'P5', 'Y3', 'W9', 'M2', 'G3', 'V6', 'K7', 'K3', 'H4', 'R7',\n",
       "       'P8', 'K6', 'V2', 'E2', 'Z2', 'T2', 'K8', 'P6', 'A0', 'J1', 'CM',\n",
       "       'Z7'], dtype=object)"
      ]
     },
     "execution_count": 362,
     "metadata": {},
     "output_type": "execute_result"
    }
   ],
   "source": [
    "df['BUILDING CLASS AT TIME OF SALE'].unique()"
   ]
  },
  {
   "cell_type": "code",
   "execution_count": 363,
   "metadata": {},
   "outputs": [],
   "source": [
    "df['BUILDING CLASS AT TIME OF SALE'] = pd.factorize(df['BUILDING CLASS AT TIME OF SALE'])[0]"
   ]
  },
  {
   "cell_type": "code",
   "execution_count": 364,
   "metadata": {},
   "outputs": [
    {
     "data": {
      "text/plain": [
       "array(['6625000', ' -  ', '3936272', ..., '408092', '11693337', '69300'],\n",
       "      dtype=object)"
      ]
     },
     "execution_count": 364,
     "metadata": {},
     "output_type": "execute_result"
    }
   ],
   "source": [
    "df['SALE PRICE'].unique()"
   ]
  },
  {
   "cell_type": "code",
   "execution_count": 365,
   "metadata": {},
   "outputs": [
    {
     "name": "stdout",
     "output_type": "stream",
     "text": [
      "count: 83810\n",
      "nulls count: 14496\n",
      "percent of nulls: 17.296265362128622\n"
     ]
    }
   ],
   "source": [
    "col = pd.to_numeric(df['SALE PRICE'], errors='coerce')\n",
    "allCs = col.size\n",
    "nullCs = col[col.isnull()].size\n",
    "print('count', allCs, sep=': ') \n",
    "print('nulls count', nullCs, sep=': ')\n",
    "print('percent of nulls', nullCs/allCs*100, sep=': ')"
   ]
  },
  {
   "cell_type": "code",
   "execution_count": 366,
   "metadata": {},
   "outputs": [],
   "source": [
    "df['SALE PRICE'] = col\n",
    "df = df[pd.notnull(df['SALE PRICE'])]\n",
    "df = df[df['SALE PRICE'] != 0]"
   ]
  },
  {
   "cell_type": "code",
   "execution_count": 367,
   "metadata": {},
   "outputs": [
    {
     "data": {
      "text/plain": [
       "array([ 6625000.,  3936272.,  8000000., ...,   408092., 11693337.,\n",
       "          69300.])"
      ]
     },
     "execution_count": 367,
     "metadata": {},
     "output_type": "execute_result"
    }
   ],
   "source": [
    "df['SALE PRICE'].unique()"
   ]
  },
  {
   "cell_type": "code",
   "execution_count": 368,
   "metadata": {},
   "outputs": [
    {
     "data": {
      "text/plain": [
       "array([[<Axes: title={'center': 'SALE PRICE'}>]], dtype=object)"
      ]
     },
     "execution_count": 368,
     "metadata": {},
     "output_type": "execute_result"
    },
    {
     "data": {
      "image/png": "[encoded data removed]",
      "text/plain": [
       "<Figure size 640x480 with 1 Axes>"
      ]
     },
     "metadata": {},
     "output_type": "display_data"
    }
   ],
   "source": [
    "df.hist(['SALE PRICE'])"
   ]
  },
  {
   "cell_type": "code",
   "execution_count": 369,
   "metadata": {},
   "outputs": [
    {
     "data": {
      "text/plain": [
       "array([[<Axes: title={'center': 'SALE PRICE'}>]], dtype=object)"
      ]
     },
     "execution_count": 369,
     "metadata": {},
     "output_type": "execute_result"
    },
    {
     "data": {
      "image/png": "[encoded data removed]",
      "text/plain": [
       "<Figure size 640x480 with 1 Axes>"
      ]
     },
     "metadata": {},
     "output_type": "display_data"
    }
   ],
   "source": [
    "df = df[df['SALE PRICE'] < 1.8 * 10**8]\n",
    "df.hist(['SALE PRICE'])"
   ]
  },
  {
   "cell_type": "code",
   "execution_count": 370,
   "metadata": {},
   "outputs": [
    {
     "data": {
      "text/plain": [
       "array(['2017-07-19 00:00:00', '2016-09-23 00:00:00',\n",
       "       '2016-11-17 00:00:00', '2016-11-07 00:00:00',\n",
       "       '2016-10-17 00:00:00', '2016-09-06 00:00:00',\n",
       "       '2017-03-10 00:00:00', '2017-04-28 00:00:00',\n",
       "       '2017-06-09 00:00:00', '2017-07-14 00:00:00',\n",
       "       '2017-03-16 00:00:00', '2016-09-01 00:00:00',\n",
       "       '2017-08-17 00:00:00', '2017-08-30 00:00:00',\n",
       "       '2017-06-21 00:00:00', '2017-01-30 00:00:00',\n",
       "       '2017-07-07 00:00:00', '2017-08-04 00:00:00',\n",
       "       '2017-01-09 00:00:00', '2017-04-18 00:00:00',\n",
       "       '2017-08-28 00:00:00', '2017-05-10 00:00:00',\n",
       "       '2016-12-02 00:00:00', '2017-01-31 00:00:00',\n",
       "       '2017-06-28 00:00:00', '2017-08-24 00:00:00',\n",
       "       '2017-06-27 00:00:00', '2017-03-17 00:00:00',\n",
       "       '2017-06-14 00:00:00', '2017-01-17 00:00:00',\n",
       "       '2017-01-11 00:00:00', '2017-04-21 00:00:00',\n",
       "       '2017-06-29 00:00:00', '2016-10-05 00:00:00',\n",
       "       '2017-02-02 00:00:00', '2017-04-13 00:00:00',\n",
       "       '2017-06-06 00:00:00', '2017-07-17 00:00:00',\n",
       "       '2016-12-06 00:00:00', '2017-07-13 00:00:00',\n",
       "       '2017-05-17 00:00:00', '2017-05-31 00:00:00',\n",
       "       '2017-07-12 00:00:00', '2017-01-19 00:00:00',\n",
       "       '2016-12-14 00:00:00', '2017-05-03 00:00:00',\n",
       "       '2016-09-29 00:00:00', '2017-08-07 00:00:00',\n",
       "       '2017-01-20 00:00:00', '2017-02-23 00:00:00',\n",
       "       '2016-09-12 00:00:00', '2017-08-09 00:00:00',\n",
       "       '2017-04-07 00:00:00', '2017-05-11 00:00:00',\n",
       "       '2016-10-13 00:00:00', '2016-10-19 00:00:00',\n",
       "       '2016-12-30 00:00:00', '2016-09-21 00:00:00',\n",
       "       '2016-11-03 00:00:00', '2016-09-07 00:00:00',\n",
       "       '2017-03-31 00:00:00', '2017-02-14 00:00:00',\n",
       "       '2017-02-01 00:00:00', '2017-05-08 00:00:00',\n",
       "       '2017-08-14 00:00:00', '2017-06-23 00:00:00',\n",
       "       '2017-03-27 00:00:00', '2017-07-06 00:00:00',\n",
       "       '2017-06-12 00:00:00', '2017-06-22 00:00:00',\n",
       "       '2017-02-17 00:00:00', '2016-12-23 00:00:00',\n",
       "       '2017-07-24 00:00:00', '2016-12-08 00:00:00',\n",
       "       '2017-04-25 00:00:00', '2016-12-13 00:00:00',\n",
       "       '2017-01-12 00:00:00', '2016-12-07 00:00:00',\n",
       "       '2017-03-03 00:00:00', '2017-01-25 00:00:00',\n",
       "       '2016-12-19 00:00:00', '2016-12-16 00:00:00',\n",
       "       '2016-12-09 00:00:00', '2016-12-29 00:00:00',\n",
       "       '2017-01-13 00:00:00', '2017-02-24 00:00:00',\n",
       "       '2016-12-21 00:00:00', '2017-03-30 00:00:00',\n",
       "       '2017-04-14 00:00:00', '2017-05-22 00:00:00',\n",
       "       '2017-05-19 00:00:00', '2017-02-08 00:00:00',\n",
       "       '2016-11-08 00:00:00', '2017-03-02 00:00:00',\n",
       "       '2017-01-05 00:00:00', '2016-10-11 00:00:00',\n",
       "       '2016-11-15 00:00:00', '2017-04-03 00:00:00',\n",
       "       '2016-11-28 00:00:00', '2016-11-14 00:00:00',\n",
       "       '2017-04-20 00:00:00', '2017-05-05 00:00:00',\n",
       "       '2017-07-18 00:00:00', '2017-05-15 00:00:00',\n",
       "       '2017-07-31 00:00:00', '2017-06-07 00:00:00',\n",
       "       '2016-11-02 00:00:00', '2017-04-19 00:00:00',\n",
       "       '2017-07-11 00:00:00', '2016-09-28 00:00:00',\n",
       "       '2017-04-17 00:00:00', '2016-09-08 00:00:00',\n",
       "       '2016-10-26 00:00:00', '2017-02-06 00:00:00',\n",
       "       '2017-03-23 00:00:00', '2017-08-31 00:00:00',\n",
       "       '2016-11-10 00:00:00', '2016-12-05 00:00:00',\n",
       "       '2016-11-29 00:00:00', '2016-10-28 00:00:00',\n",
       "       '2016-11-21 00:00:00', '2017-01-27 00:00:00',\n",
       "       '2016-09-26 00:00:00', '2017-02-21 00:00:00',\n",
       "       '2016-10-06 00:00:00', '2017-08-25 00:00:00',\n",
       "       '2016-11-30 00:00:00', '2017-03-01 00:00:00',\n",
       "       '2016-10-31 00:00:00', '2016-11-16 00:00:00',\n",
       "       '2016-11-18 00:00:00', '2017-06-19 00:00:00',\n",
       "       '2017-04-10 00:00:00', '2016-11-23 00:00:00',\n",
       "       '2016-12-27 00:00:00', '2017-05-12 00:00:00',\n",
       "       '2017-02-15 00:00:00', '2017-07-10 00:00:00',\n",
       "       '2017-03-06 00:00:00', '2017-06-30 00:00:00',\n",
       "       '2017-07-26 00:00:00', '2017-03-22 00:00:00',\n",
       "       '2017-03-08 00:00:00', '2016-09-14 00:00:00',\n",
       "       '2017-04-26 00:00:00', '2016-09-27 00:00:00',\n",
       "       '2017-04-27 00:00:00', '2016-12-01 00:00:00',\n",
       "       '2017-01-23 00:00:00', '2016-11-04 00:00:00',\n",
       "       '2016-10-07 00:00:00', '2017-06-05 00:00:00',\n",
       "       '2017-05-23 00:00:00', '2017-01-26 00:00:00',\n",
       "       '2016-12-28 00:00:00', '2017-05-02 00:00:00',\n",
       "       '2017-03-07 00:00:00', '2017-05-01 00:00:00',\n",
       "       '2016-10-14 00:00:00', '2016-12-15 00:00:00',\n",
       "       '2016-11-01 00:00:00', '2016-09-15 00:00:00',\n",
       "       '2016-10-01 00:00:00', '2016-10-24 00:00:00',\n",
       "       '2016-11-11 00:00:00', '2017-02-09 00:00:00',\n",
       "       '2016-10-20 00:00:00', '2017-07-25 00:00:00',\n",
       "       '2017-03-15 00:00:00', '2016-09-16 00:00:00',\n",
       "       '2017-03-29 00:00:00', '2017-06-26 00:00:00',\n",
       "       '2017-06-20 00:00:00', '2016-10-18 00:00:00',\n",
       "       '2016-12-22 00:00:00', '2017-02-16 00:00:00',\n",
       "       '2017-07-27 00:00:00', '2016-09-09 00:00:00',\n",
       "       '2016-11-09 00:00:00', '2017-05-04 00:00:00',\n",
       "       '2017-06-13 00:00:00', '2017-02-10 00:00:00',\n",
       "       '2017-03-20 00:00:00', '2017-03-28 00:00:00',\n",
       "       '2017-04-24 00:00:00', '2017-02-28 00:00:00',\n",
       "       '2017-04-11 00:00:00', '2017-07-20 00:00:00',\n",
       "       '2016-10-25 00:00:00', '2017-05-25 00:00:00',\n",
       "       '2017-08-21 00:00:00', '2017-08-29 00:00:00',\n",
       "       '2017-01-06 00:00:00', '2017-08-01 00:00:00',\n",
       "       '2017-06-08 00:00:00', '2017-08-23 00:00:00',\n",
       "       '2017-06-02 00:00:00', '2017-05-24 00:00:00',\n",
       "       '2017-06-16 00:00:00', '2016-11-22 00:00:00',\n",
       "       '2016-09-13 00:00:00', '2017-03-13 00:00:00',\n",
       "       '2017-01-03 00:00:00', '2017-01-18 00:00:00',\n",
       "       '2017-05-18 00:00:00', '2017-05-30 00:00:00',\n",
       "       '2017-01-10 00:00:00', '2017-08-11 00:00:00',\n",
       "       '2017-06-15 00:00:00', '2017-08-22 00:00:00',\n",
       "       '2017-02-03 00:00:00', '2017-04-06 00:00:00',\n",
       "       '2017-02-07 00:00:00', '2017-05-26 00:00:00',\n",
       "       '2017-08-10 00:00:00', '2017-01-24 00:00:00',\n",
       "       '2017-08-18 00:00:00', '2017-02-13 00:00:00',\n",
       "       '2016-09-30 00:00:00', '2017-04-12 00:00:00',\n",
       "       '2017-05-09 00:00:00', '2017-02-27 00:00:00',\n",
       "       '2017-06-01 00:00:00', '2016-10-03 00:00:00',\n",
       "       '2017-08-15 00:00:00', '2017-08-03 00:00:00',\n",
       "       '2016-09-22 00:00:00', '2017-07-28 00:00:00',\n",
       "       '2016-09-20 00:00:00', '2017-01-04 00:00:00',\n",
       "       '2017-03-21 00:00:00', '2017-08-08 00:00:00',\n",
       "       '2017-07-05 00:00:00', '2017-08-02 00:00:00',\n",
       "       '2017-04-05 00:00:00', '2016-10-27 00:00:00',\n",
       "       '2017-02-22 00:00:00', '2016-12-20 00:00:00',\n",
       "       '2017-03-09 00:00:00', '2017-07-21 00:00:00',\n",
       "       '2016-12-12 00:00:00', '2017-04-04 00:00:00',\n",
       "       '2017-03-24 00:00:00', '2017-01-07 00:00:00',\n",
       "       '2017-05-16 00:00:00', '2016-09-19 00:00:00',\n",
       "       '2017-08-16 00:00:00', '2016-10-21 00:00:00',\n",
       "       '2017-02-20 00:00:00', '2016-10-04 00:00:00',\n",
       "       '2016-09-02 00:00:00', '2017-01-02 00:00:00',\n",
       "       '2016-10-12 00:00:00', '2017-04-29 00:00:00',\n",
       "       '2017-03-14 00:00:00', '2016-09-17 00:00:00',\n",
       "       '2017-07-03 00:00:00', '2016-11-27 00:00:00',\n",
       "       '2017-06-24 00:00:00', '2017-01-21 00:00:00',\n",
       "       '2016-10-10 00:00:00', '2017-05-20 00:00:00',\n",
       "       '2017-04-30 00:00:00', '2017-05-21 00:00:00',\n",
       "       '2016-10-15 00:00:00', '2016-11-25 00:00:00',\n",
       "       '2016-10-30 00:00:00', '2017-01-01 00:00:00',\n",
       "       '2017-02-26 00:00:00', '2016-12-31 00:00:00',\n",
       "       '2016-11-12 00:00:00', '2017-08-27 00:00:00',\n",
       "       '2016-11-26 00:00:00', '2017-01-14 00:00:00',\n",
       "       '2017-04-15 00:00:00', '2017-05-06 00:00:00',\n",
       "       '2017-08-26 00:00:00', '2017-05-27 00:00:00',\n",
       "       '2016-12-26 00:00:00', '2016-12-10 00:00:00',\n",
       "       '2017-01-29 00:00:00', '2016-11-19 00:00:00',\n",
       "       '2017-04-08 00:00:00', '2016-09-10 00:00:00',\n",
       "       '2017-01-16 00:00:00', '2017-07-29 00:00:00',\n",
       "       '2017-06-17 00:00:00', '2017-05-13 00:00:00',\n",
       "       '2017-05-28 00:00:00', '2017-06-11 00:00:00',\n",
       "       '2017-07-08 00:00:00', '2017-07-01 00:00:00',\n",
       "       '2016-10-02 00:00:00', '2017-02-25 00:00:00',\n",
       "       '2016-11-06 00:00:00', '2017-03-11 00:00:00',\n",
       "       '2017-04-22 00:00:00', '2017-01-15 00:00:00',\n",
       "       '2016-10-23 00:00:00', '2016-10-08 00:00:00',\n",
       "       '2017-06-25 00:00:00', '2017-04-01 00:00:00',\n",
       "       '2017-03-04 00:00:00', '2017-02-18 00:00:00',\n",
       "       '2016-09-18 00:00:00', '2017-06-10 00:00:00',\n",
       "       '2017-07-15 00:00:00', '2016-12-17 00:00:00',\n",
       "       '2017-05-29 00:00:00', '2016-11-24 00:00:00',\n",
       "       '2016-09-24 00:00:00', '2017-03-18 00:00:00',\n",
       "       '2017-04-02 00:00:00', '2017-04-09 00:00:00',\n",
       "       '2017-01-28 00:00:00', '2017-03-26 00:00:00',\n",
       "       '2017-03-05 00:00:00', '2017-04-16 00:00:00',\n",
       "       '2016-10-29 00:00:00', '2017-05-14 00:00:00',\n",
       "       '2017-08-12 00:00:00', '2017-07-23 00:00:00',\n",
       "       '2016-10-22 00:00:00', '2017-06-03 00:00:00',\n",
       "       '2017-05-07 00:00:00', '2016-11-05 00:00:00',\n",
       "       '2017-02-19 00:00:00', '2017-03-19 00:00:00',\n",
       "       '2017-08-19 00:00:00', '2016-10-16 00:00:00',\n",
       "       '2017-06-18 00:00:00', '2016-12-03 00:00:00',\n",
       "       '2017-07-09 00:00:00', '2016-09-03 00:00:00',\n",
       "       '2017-08-05 00:00:00', '2016-12-11 00:00:00',\n",
       "       '2016-11-20 00:00:00', '2017-02-12 00:00:00',\n",
       "       '2016-12-24 00:00:00', '2016-10-09 00:00:00',\n",
       "       '2017-06-04 00:00:00', '2016-09-05 00:00:00'], dtype=object)"
      ]
     },
     "execution_count": 370,
     "metadata": {},
     "output_type": "execute_result"
    }
   ],
   "source": [
    "df['SALE DATE'].unique()"
   ]
  },
  {
   "cell_type": "code",
   "execution_count": 371,
   "metadata": {},
   "outputs": [
    {
     "data": {
      "text/plain": [
       "\"\\ncol = pd.to_datetime(df['SALE DATE'], errors='coerce')\\nallCs = col.size\\nnullCs = col[col.isnull()].size\\nprint('count', allCs, sep=': ') \\nprint('nulls count', nullCs, sep=': ')\\nprint('percent of nulls', nullCs/allCs*100, sep=': ')\\n\""
      ]
     },
     "execution_count": 371,
     "metadata": {},
     "output_type": "execute_result"
    }
   ],
   "source": [
    "\"\"\"\n",
    "col = pd.to_datetime(df['SALE DATE'], errors='coerce')\n",
    "allCs = col.size\n",
    "nullCs = col[col.isnull()].size\n",
    "print('count', allCs, sep=': ') \n",
    "print('nulls count', nullCs, sep=': ')\n",
    "print('percent of nulls', nullCs/allCs*100, sep=': ')\n",
    "\"\"\""
   ]
  },
  {
   "cell_type": "code",
   "execution_count": 372,
   "metadata": {},
   "outputs": [],
   "source": [
    "\"\"\"\n",
    "from datetime import date\n",
    "from datetime import datetime\n",
    "def simplify(f):\n",
    "    return (date.today() - datetime.strptime(f, \"%Y-%m-%d\").date()).days\n",
    "\n",
    "df['SALE DATE'] = col.astype('string').apply(simplify)\n",
    "df = df[pd.notnull(df['SALE DATE'])]\n",
    "\"\"\"\n",
    "\n",
    "del df['SALE DATE']"
   ]
  },
  {
   "cell_type": "code",
   "execution_count": 373,
   "metadata": {},
   "outputs": [
    {
     "name": "stdout",
     "output_type": "stream",
     "text": [
      "rows removed: 25397\n",
      "rows now: 59151\n"
     ]
    }
   ],
   "source": [
    "df_size = df.shape[0]\n",
    "print('rows removed', df_old_size - df_size, sep=': ')\n",
    "print('rows now', df_size, sep=': ')"
   ]
  },
  {
   "cell_type": "code",
   "execution_count": 374,
   "metadata": {},
   "outputs": [
    {
     "name": "stdout",
     "output_type": "stream",
     "text": [
      "<class 'pandas.core.frame.DataFrame'>\n",
      "Int64Index: 59151 entries, 0 to 84547\n",
      "Data columns (total 17 columns):\n",
      " #   Column                          Non-Null Count  Dtype  \n",
      "---  ------                          --------------  -----  \n",
      " 0   Unnamed: 0                      59151 non-null  int64  \n",
      " 1   BOROUGH                         59151 non-null  int64  \n",
      " 2   NEIGHBORHOOD                    59151 non-null  int64  \n",
      " 3   BUILDING CLASS CATEGORY         59151 non-null  int64  \n",
      " 4   TAX CLASS AT PRESENT            59151 non-null  int64  \n",
      " 5   BLOCK                           59151 non-null  int64  \n",
      " 6   LOT                             59151 non-null  int64  \n",
      " 7   BUILDING CLASS AT PRESENT       59151 non-null  int64  \n",
      " 8   ADDRESS                         59151 non-null  int64  \n",
      " 9   ZIP CODE                        59151 non-null  int64  \n",
      " 10  RESIDENTIAL UNITS               59151 non-null  int64  \n",
      " 11  COMMERCIAL UNITS                59151 non-null  int64  \n",
      " 12  TOTAL UNITS                     59151 non-null  int64  \n",
      " 13  YEAR BUILT                      59151 non-null  int64  \n",
      " 14  TAX CLASS AT TIME OF SALE       59151 non-null  int64  \n",
      " 15  BUILDING CLASS AT TIME OF SALE  59151 non-null  int64  \n",
      " 16  SALE PRICE                      59151 non-null  float64\n",
      "dtypes: float64(1), int64(16)\n",
      "memory usage: 8.1 MB\n"
     ]
    }
   ],
   "source": [
    "df.info()"
   ]
  },
  {
   "cell_type": "code",
   "execution_count": 375,
   "metadata": {},
   "outputs": [],
   "source": [
    "x = df.loc[:, df.columns != 'SALE PRICE']\n",
    "y = df['SALE PRICE']\n",
    "train_points, test_points, train_values, test_values = train_test_split(x, y, random_state=104, test_size=0.1, shuffle=False, stratify=None)"
   ]
  },
  {
   "cell_type": "code",
   "execution_count": 376,
   "metadata": {},
   "outputs": [
    {
     "name": "stdout",
     "output_type": "stream",
     "text": [
      "850976.1353803246\n"
     ]
    }
   ],
   "source": [
    "rf_model = ensemble.RandomForestRegressor(n_estimators=100)\n",
    "rf_model.fit(train_points, train_values)\n",
    "test_predict_rf = rf_model.predict(test_points)\n",
    "print(mean_absolute_error(test_values, test_predict_rf))"
   ]
  },
  {
   "cell_type": "code",
   "execution_count": 377,
   "metadata": {},
   "outputs": [],
   "source": [
    "x = df.loc[:, df.columns != 'SALE PRICE']\n",
    "y = df['SALE PRICE']\n",
    "train_points, test_points, train_values, test_values = train_test_split(x, y, random_state=104, test_size=0.23, shuffle=False, stratify=None)"
   ]
  },
  {
   "cell_type": "code",
   "execution_count": 378,
   "metadata": {},
   "outputs": [
    {
     "name": "stdout",
     "output_type": "stream",
     "text": [
      "400453.93963156926\n"
     ]
    }
   ],
   "source": [
    "import xgboost as xgb\n",
    "xg_reg = xgb.XGBRegressor(objective = 'reg:squarederror', colsample_bytree = 0.3, learning_rate = 0.1,\n",
    "                max_depth = 5, alpha = 10, n_estimators = 13)\n",
    "xg_reg.fit(train_points, train_values)\n",
    "xgb_predict = xg_reg.predict(test_points)\n",
    "print(mean_absolute_error(test_values, xgb_predict))"
   ]
  }
 ],
 "metadata": {
  "kernelspec": {
   "display_name": "Python 3",
   "language": "python",
   "name": "python3"
  },
  "language_info": {
   "codemirror_mode": {
    "name": "ipython",
    "version": 3
   },
   "file_extension": ".py",
   "mimetype": "text/x-python",
   "name": "python",
   "nbconvert_exporter": "python",
   "pygments_lexer": "ipython3",
   "version": "3.11.2"
  },
  "orig_nbformat": 4,
  "vscode": {
   "interpreter": {
    "hash": "aee8b7b246df8f9039afb4144a1f6fd8d2ca17a180786b69acc140d282b71a49"
   }
  }
 },
 "nbformat": 4,
 "nbformat_minor": 2
}
