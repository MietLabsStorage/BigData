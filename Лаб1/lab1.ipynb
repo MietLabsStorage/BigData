{
 "cells": [
  {
   "attachments": {},
   "cell_type": "markdown",
   "metadata": {},
   "source": [
    "https://www.kaggle.com/datasets/pwang001/user-package-information-of-mobile-operators"
   ]
  },
  {
   "cell_type": "code",
   "execution_count": 81,
   "metadata": {},
   "outputs": [],
   "source": [
    "import pandas as pd\n",
    "import numpy as np\n",
    "import matplotlib.pyplot as plt\n",
    "import copy\n",
    "\n",
    "from sklearn import ensemble\n",
    "from sklearn.ensemble import RandomForestClassifier\n",
    "from sklearn.metrics import accuracy_score\n",
    "from sklearn.model_selection import train_test_split\n",
    "\n",
    "#from tensorflow.keras.utils import to_categorical\n",
    "#from keras import models\n",
    "#from keras import layers\n",
    "\n",
    "import warnings\n",
    "warnings.filterwarnings(\"ignore\")"
   ]
  },
  {
   "cell_type": "code",
   "execution_count": 82,
   "metadata": {
    "collapsed": false
   },
   "outputs": [],
   "source": [
    "df_train_1 = pd.read_csv('train_1.csv', encoding='utf-8')\n",
    "df_train_2 = pd.read_csv('train_2.csv', encoding='utf-8')\n",
    "df_test_1 = pd.read_csv('test_1.csv', encoding='utf-8')\n",
    "df_test_2 = pd.read_csv('test_2.csv', encoding='utf-8')\n",
    "df = pd.concat([df_train_1, df_train_2, df_test_1, df_test_2])"
   ]
  },
  {
   "cell_type": "code",
   "execution_count": 83,
   "metadata": {
    "collapsed": false
   },
   "outputs": [
    {
     "data": {
      "text/plain": [
       "service_type              False\n",
       "is_mix_service            False\n",
       "online_time               False\n",
       "1_total_fee               False\n",
       "2_total_fee               False\n",
       "3_total_fee               False\n",
       "4_total_fee               False\n",
       "month_traffic             False\n",
       "many_over_bill            False\n",
       "contract_type             False\n",
       "contract_time             False\n",
       "is_promise_low_consume    False\n",
       "net_service               False\n",
       "pay_times                 False\n",
       "pay_num                   False\n",
       "last_month_traffic        False\n",
       "local_trafffic_month      False\n",
       "local_caller_time         False\n",
       "service1_caller_time      False\n",
       "service2_caller_time      False\n",
       "gender                    False\n",
       "age                       False\n",
       "complaint_level           False\n",
       "former_complaint_num      False\n",
       "former_complaint_fee      False\n",
       "current_service            True\n",
       "user_id                   False\n",
       "dtype: bool"
      ]
     },
     "execution_count": 83,
     "metadata": {},
     "output_type": "execute_result"
    }
   ],
   "source": [
    "df.isnull().any()"
   ]
  },
  {
   "attachments": {},
   "cell_type": "markdown",
   "metadata": {},
   "source": [
    "Столбцы с нулами: current_service"
   ]
  },
  {
   "cell_type": "code",
   "execution_count": 85,
   "metadata": {},
   "outputs": [
    {
     "name": "stdout",
     "output_type": "stream",
     "text": [
      "current_service count: 1479211\n",
      "current_service nulls count: 360566\n",
      "percent of nulls: 24.37556237751071\n"
     ]
    }
   ],
   "source": [
    "allCs = df['current_service'].size\n",
    "nullCs = df['current_service'][df['current_service'].isnull()].size\n",
    "print('current_service count', allCs, sep=': ') \n",
    "print('current_service nulls count', nullCs, sep=': ')\n",
    "print('percent of nulls', nullCs/allCs*100, sep=': ')"
   ]
  },
  {
   "cell_type": "code",
   "execution_count": 86,
   "metadata": {},
   "outputs": [
    {
     "data": {
      "text/plain": [
       "array([99999825., 90063345., 90109916., 89950166., 89950168., 89950167.,\n",
       "       90155946., 99999828., 99999826., 99999827., 99999830.,   999999.,\n",
       "             nan])"
      ]
     },
     "execution_count": 86,
     "metadata": {},
     "output_type": "execute_result"
    }
   ],
   "source": [
    "df['current_service'].unique()"
   ]
  },
  {
   "cell_type": "code",
   "execution_count": 87,
   "metadata": {},
   "outputs": [
    {
     "data": {
      "text/plain": [
       "service_type              False\n",
       "is_mix_service            False\n",
       "online_time               False\n",
       "1_total_fee               False\n",
       "2_total_fee               False\n",
       "3_total_fee               False\n",
       "4_total_fee               False\n",
       "month_traffic             False\n",
       "many_over_bill            False\n",
       "contract_type             False\n",
       "contract_time             False\n",
       "is_promise_low_consume    False\n",
       "net_service               False\n",
       "pay_times                 False\n",
       "pay_num                   False\n",
       "last_month_traffic        False\n",
       "local_trafffic_month      False\n",
       "local_caller_time         False\n",
       "service1_caller_time      False\n",
       "service2_caller_time      False\n",
       "gender                    False\n",
       "age                       False\n",
       "complaint_level           False\n",
       "former_complaint_num      False\n",
       "former_complaint_fee      False\n",
       "user_id                   False\n",
       "dtype: bool"
      ]
     },
     "execution_count": 87,
     "metadata": {},
     "output_type": "execute_result"
    }
   ],
   "source": [
    "# current_service - индексы планов а не сами планы, попробуем удалить колонку вместо удаления 25% строк\n",
    "del df[\"current_service\"]\n",
    "df.isnull().any()"
   ]
  },
  {
   "cell_type": "code",
   "execution_count": 88,
   "metadata": {
    "collapsed": false
   },
   "outputs": [
    {
     "name": "stdout",
     "output_type": "stream",
     "text": [
      "<class 'pandas.core.frame.DataFrame'>\n",
      "Int64Index: 1479211 entries, 0 to 160565\n",
      "Data columns (total 26 columns):\n",
      " #   Column                  Non-Null Count    Dtype  \n",
      "---  ------                  --------------    -----  \n",
      " 0   service_type            1479211 non-null  int64  \n",
      " 1   is_mix_service          1479211 non-null  int64  \n",
      " 2   online_time             1479211 non-null  int64  \n",
      " 3   1_total_fee             1479211 non-null  float64\n",
      " 4   2_total_fee             1479211 non-null  object \n",
      " 5   3_total_fee             1479211 non-null  object \n",
      " 6   4_total_fee             1479211 non-null  float64\n",
      " 7   month_traffic           1479211 non-null  float64\n",
      " 8   many_over_bill          1479211 non-null  int64  \n",
      " 9   contract_type           1479211 non-null  int64  \n",
      " 10  contract_time           1479211 non-null  int64  \n",
      " 11  is_promise_low_consume  1479211 non-null  int64  \n",
      " 12  net_service             1479211 non-null  int64  \n",
      " 13  pay_times               1479211 non-null  int64  \n",
      " 14  pay_num                 1479211 non-null  float64\n",
      " 15  last_month_traffic      1479211 non-null  float64\n",
      " 16  local_trafffic_month    1479211 non-null  float64\n",
      " 17  local_caller_time       1479211 non-null  float64\n",
      " 18  service1_caller_time    1479211 non-null  float64\n",
      " 19  service2_caller_time    1479211 non-null  float64\n",
      " 20  gender                  1479211 non-null  object \n",
      " 21  age                     1479211 non-null  object \n",
      " 22  complaint_level         1479211 non-null  int64  \n",
      " 23  former_complaint_num    1479211 non-null  int64  \n",
      " 24  former_complaint_fee    1479211 non-null  float64\n",
      " 25  user_id                 1479211 non-null  object \n",
      "dtypes: float64(10), int64(11), object(5)\n",
      "memory usage: 304.7+ MB\n"
     ]
    }
   ],
   "source": [
    "df.info()"
   ]
  },
  {
   "attachments": {},
   "cell_type": "markdown",
   "metadata": {},
   "source": [
    "столбцы object: \n",
    "2_total_fee      \n",
    "3_total_fee             \n",
    "gender\n",
    "age\n",
    "user_id"
   ]
  },
  {
   "cell_type": "code",
   "execution_count": 89,
   "metadata": {},
   "outputs": [],
   "source": [
    "# user_id ничего не определяет при классификации\n",
    "del df[\"user_id\"]"
   ]
  },
  {
   "cell_type": "code",
   "execution_count": 93,
   "metadata": {},
   "outputs": [
    {
     "name": "stdout",
     "output_type": "stream",
     "text": [
      "2_total_fee count: 1479211\n",
      "2_total_fee float count: 1118763\n",
      "percent of nulls: 75.63241484818596\n"
     ]
    }
   ],
   "source": [
    "allCount = df['2_total_fee'].size\n",
    "floatCount = df['2_total_fee'][df['2_total_fee'].apply(type) == float].size\n",
    "print('2_total_fee count', allCount, sep=': ') \n",
    "print('2_total_fee float count', floatCount, sep=': ')\n",
    "print('percent of nulls', floatCount/allCount*100, sep=': ')"
   ]
  },
  {
   "cell_type": "code",
   "execution_count": 106,
   "metadata": {
    "collapsed": false
   },
   "outputs": [],
   "source": [
    "tf2 = pd.to_numeric(df['2_total_fee'], errors='coerce')"
   ]
  },
  {
   "cell_type": "code",
   "execution_count": 107,
   "metadata": {},
   "outputs": [
    {
     "name": "stdout",
     "output_type": "stream",
     "text": [
      "2_total_fee count: 1479211\n",
      "2_total_fee nulls count: 15\n",
      "percent of nulls: 0.0010140541139837386\n"
     ]
    }
   ],
   "source": [
    "allCs = tf2.size\n",
    "nullCs = tf2[tf2.isnull()].size\n",
    "print('2_total_fee count', allCs, sep=': ') \n",
    "print('2_total_fee nulls count', nullCs, sep=': ')\n",
    "print('percent of nulls', nullCs/allCs*100, sep=': ')"
   ]
  },
  {
   "attachments": {},
   "cell_type": "markdown",
   "metadata": {},
   "source": [
    "Преобразовали всё что могли к типу float, непреобразованных - 15 штук << 1%. Можно удалить"
   ]
  },
  {
   "cell_type": "code",
   "execution_count": 108,
   "metadata": {},
   "outputs": [
    {
     "name": "stdout",
     "output_type": "stream",
     "text": [
      "<class 'pandas.core.frame.DataFrame'>\n",
      "Int64Index: 1479196 entries, 0 to 160565\n",
      "Data columns (total 25 columns):\n",
      " #   Column                  Non-Null Count    Dtype  \n",
      "---  ------                  --------------    -----  \n",
      " 0   service_type            1479196 non-null  int64  \n",
      " 1   is_mix_service          1479196 non-null  int64  \n",
      " 2   online_time             1479196 non-null  int64  \n",
      " 3   1_total_fee             1479196 non-null  float64\n",
      " 4   2_total_fee             1479196 non-null  float64\n",
      " 5   3_total_fee             1479196 non-null  object \n",
      " 6   4_total_fee             1479196 non-null  float64\n",
      " 7   month_traffic           1479196 non-null  float64\n",
      " 8   many_over_bill          1479196 non-null  int64  \n",
      " 9   contract_type           1479196 non-null  int64  \n",
      " 10  contract_time           1479196 non-null  int64  \n",
      " 11  is_promise_low_consume  1479196 non-null  int64  \n",
      " 12  net_service             1479196 non-null  int64  \n",
      " 13  pay_times               1479196 non-null  int64  \n",
      " 14  pay_num                 1479196 non-null  float64\n",
      " 15  last_month_traffic      1479196 non-null  float64\n",
      " 16  local_trafffic_month    1479196 non-null  float64\n",
      " 17  local_caller_time       1479196 non-null  float64\n",
      " 18  service1_caller_time    1479196 non-null  float64\n",
      " 19  service2_caller_time    1479196 non-null  float64\n",
      " 20  gender                  1479196 non-null  object \n",
      " 21  age                     1479196 non-null  object \n",
      " 22  complaint_level         1479196 non-null  int64  \n",
      " 23  former_complaint_num    1479196 non-null  int64  \n",
      " 24  former_complaint_fee    1479196 non-null  float64\n",
      "dtypes: float64(11), int64(11), object(3)\n",
      "memory usage: 293.4+ MB\n"
     ]
    }
   ],
   "source": [
    "df['2_total_fee'] = tf2\n",
    "df1 = df[pd.notnull(df['2_total_fee'])]\n",
    "df1.info()"
   ]
  },
  {
   "attachments": {},
   "cell_type": "markdown",
   "metadata": {},
   "source": [
    "теперь 3_total_fee"
   ]
  },
  {
   "cell_type": "code",
   "execution_count": 109,
   "metadata": {},
   "outputs": [
    {
     "name": "stdout",
     "output_type": "stream",
     "text": [
      "3_total_fee count: 1479196\n",
      "3_total_fee nulls count: 5\n",
      "percent of nulls: 0.0003380214657151588\n"
     ]
    }
   ],
   "source": [
    "tf3 = pd.to_numeric(df1['3_total_fee'], errors='coerce')\n",
    "allCs = tf3.size\n",
    "nullCs = tf3[tf3.isnull()].size\n",
    "print('3_total_fee count', allCs, sep=': ') \n",
    "print('3_total_fee nulls count', nullCs, sep=': ')\n",
    "print('percent of nulls', nullCs/allCs*100, sep=': ')"
   ]
  },
  {
   "cell_type": "code",
   "execution_count": 112,
   "metadata": {},
   "outputs": [
    {
     "name": "stdout",
     "output_type": "stream",
     "text": [
      "<class 'pandas.core.frame.DataFrame'>\n",
      "Int64Index: 1479191 entries, 0 to 160565\n",
      "Data columns (total 25 columns):\n",
      " #   Column                  Non-Null Count    Dtype  \n",
      "---  ------                  --------------    -----  \n",
      " 0   service_type            1479191 non-null  int64  \n",
      " 1   is_mix_service          1479191 non-null  int64  \n",
      " 2   online_time             1479191 non-null  int64  \n",
      " 3   1_total_fee             1479191 non-null  float64\n",
      " 4   2_total_fee             1479191 non-null  float64\n",
      " 5   3_total_fee             1479191 non-null  float64\n",
      " 6   4_total_fee             1479191 non-null  float64\n",
      " 7   month_traffic           1479191 non-null  float64\n",
      " 8   many_over_bill          1479191 non-null  int64  \n",
      " 9   contract_type           1479191 non-null  int64  \n",
      " 10  contract_time           1479191 non-null  int64  \n",
      " 11  is_promise_low_consume  1479191 non-null  int64  \n",
      " 12  net_service             1479191 non-null  int64  \n",
      " 13  pay_times               1479191 non-null  int64  \n",
      " 14  pay_num                 1479191 non-null  float64\n",
      " 15  last_month_traffic      1479191 non-null  float64\n",
      " 16  local_trafffic_month    1479191 non-null  float64\n",
      " 17  local_caller_time       1479191 non-null  float64\n",
      " 18  service1_caller_time    1479191 non-null  float64\n",
      " 19  service2_caller_time    1479191 non-null  float64\n",
      " 20  gender                  1479191 non-null  object \n",
      " 21  age                     1479191 non-null  object \n",
      " 22  complaint_level         1479191 non-null  int64  \n",
      " 23  former_complaint_num    1479191 non-null  int64  \n",
      " 24  former_complaint_fee    1479191 non-null  float64\n",
      "dtypes: float64(12), int64(11), object(2)\n",
      "memory usage: 293.4+ MB\n"
     ]
    }
   ],
   "source": [
    "df1['3_total_fee'] = tf3\n",
    "df2 = df1[pd.notnull(df1['3_total_fee'])]\n",
    "df2.info()"
   ]
  },
  {
   "attachments": {},
   "cell_type": "markdown",
   "metadata": {},
   "source": [
    "теперь age"
   ]
  },
  {
   "cell_type": "code",
   "execution_count": 114,
   "metadata": {},
   "outputs": [
    {
     "name": "stdout",
     "output_type": "stream",
     "text": [
      "age count: 1479191\n",
      "age nulls count: 2\n",
      "percent of nulls: 0.00013520904332165354\n"
     ]
    }
   ],
   "source": [
    "age = pd.to_numeric(df2['age'], errors='coerce')\n",
    "allCs = age.size\n",
    "nullCs = age[age.isnull()].size\n",
    "print('age count', allCs, sep=': ') \n",
    "print('age nulls count', nullCs, sep=': ')\n",
    "print('percent of nulls', nullCs/allCs*100, sep=': ')"
   ]
  },
  {
   "cell_type": "code",
   "execution_count": 115,
   "metadata": {},
   "outputs": [
    {
     "name": "stdout",
     "output_type": "stream",
     "text": [
      "<class 'pandas.core.frame.DataFrame'>\n",
      "Int64Index: 1479189 entries, 0 to 160565\n",
      "Data columns (total 25 columns):\n",
      " #   Column                  Non-Null Count    Dtype  \n",
      "---  ------                  --------------    -----  \n",
      " 0   service_type            1479189 non-null  int64  \n",
      " 1   is_mix_service          1479189 non-null  int64  \n",
      " 2   online_time             1479189 non-null  int64  \n",
      " 3   1_total_fee             1479189 non-null  float64\n",
      " 4   2_total_fee             1479189 non-null  float64\n",
      " 5   3_total_fee             1479189 non-null  float64\n",
      " 6   4_total_fee             1479189 non-null  float64\n",
      " 7   month_traffic           1479189 non-null  float64\n",
      " 8   many_over_bill          1479189 non-null  int64  \n",
      " 9   contract_type           1479189 non-null  int64  \n",
      " 10  contract_time           1479189 non-null  int64  \n",
      " 11  is_promise_low_consume  1479189 non-null  int64  \n",
      " 12  net_service             1479189 non-null  int64  \n",
      " 13  pay_times               1479189 non-null  int64  \n",
      " 14  pay_num                 1479189 non-null  float64\n",
      " 15  last_month_traffic      1479189 non-null  float64\n",
      " 16  local_trafffic_month    1479189 non-null  float64\n",
      " 17  local_caller_time       1479189 non-null  float64\n",
      " 18  service1_caller_time    1479189 non-null  float64\n",
      " 19  service2_caller_time    1479189 non-null  float64\n",
      " 20  gender                  1479189 non-null  object \n",
      " 21  age                     1479189 non-null  float64\n",
      " 22  complaint_level         1479189 non-null  int64  \n",
      " 23  former_complaint_num    1479189 non-null  int64  \n",
      " 24  former_complaint_fee    1479189 non-null  float64\n",
      "dtypes: float64(13), int64(11), object(1)\n",
      "memory usage: 293.4+ MB\n"
     ]
    }
   ],
   "source": [
    "df2['age'] = age\n",
    "df3 = df2[pd.notnull(df2['age'])]\n",
    "df3.info()"
   ]
  },
  {
   "attachments": {},
   "cell_type": "markdown",
   "metadata": {},
   "source": [
    "факторизируем gender "
   ]
  },
  {
   "cell_type": "code",
   "execution_count": 116,
   "metadata": {},
   "outputs": [
    {
     "data": {
      "text/html": [
       "<div>\n",
       "<style scoped>\n",
       "    .dataframe tbody tr th:only-of-type {\n",
       "        vertical-align: middle;\n",
       "    }\n",
       "\n",
       "    .dataframe tbody tr th {\n",
       "        vertical-align: top;\n",
       "    }\n",
       "\n",
       "    .dataframe thead th {\n",
       "        text-align: right;\n",
       "    }\n",
       "</style>\n",
       "<table border=\"1\" class=\"dataframe\">\n",
       "  <thead>\n",
       "    <tr style=\"text-align: right;\">\n",
       "      <th></th>\n",
       "      <th>service_type</th>\n",
       "      <th>is_mix_service</th>\n",
       "      <th>online_time</th>\n",
       "      <th>1_total_fee</th>\n",
       "      <th>2_total_fee</th>\n",
       "      <th>3_total_fee</th>\n",
       "      <th>4_total_fee</th>\n",
       "      <th>month_traffic</th>\n",
       "      <th>many_over_bill</th>\n",
       "      <th>contract_type</th>\n",
       "      <th>...</th>\n",
       "      <th>last_month_traffic</th>\n",
       "      <th>local_trafffic_month</th>\n",
       "      <th>local_caller_time</th>\n",
       "      <th>service1_caller_time</th>\n",
       "      <th>service2_caller_time</th>\n",
       "      <th>gender</th>\n",
       "      <th>age</th>\n",
       "      <th>complaint_level</th>\n",
       "      <th>former_complaint_num</th>\n",
       "      <th>former_complaint_fee</th>\n",
       "    </tr>\n",
       "  </thead>\n",
       "  <tbody>\n",
       "    <tr>\n",
       "      <th>0</th>\n",
       "      <td>4</td>\n",
       "      <td>0</td>\n",
       "      <td>85</td>\n",
       "      <td>295.96</td>\n",
       "      <td>296.20</td>\n",
       "      <td>296.00</td>\n",
       "      <td>296.80</td>\n",
       "      <td>3813.614698</td>\n",
       "      <td>0</td>\n",
       "      <td>1</td>\n",
       "      <td>...</td>\n",
       "      <td>4096.000000</td>\n",
       "      <td>1392.038508</td>\n",
       "      <td>108.100000</td>\n",
       "      <td>0.000000</td>\n",
       "      <td>564.366667</td>\n",
       "      <td>0</td>\n",
       "      <td>31.0</td>\n",
       "      <td>0</td>\n",
       "      <td>0</td>\n",
       "      <td>0.0</td>\n",
       "    </tr>\n",
       "    <tr>\n",
       "      <th>1</th>\n",
       "      <td>1</td>\n",
       "      <td>0</td>\n",
       "      <td>10</td>\n",
       "      <td>265.20</td>\n",
       "      <td>261.20</td>\n",
       "      <td>208.50</td>\n",
       "      <td>174.50</td>\n",
       "      <td>0.000000</td>\n",
       "      <td>1</td>\n",
       "      <td>0</td>\n",
       "      <td>...</td>\n",
       "      <td>0.000000</td>\n",
       "      <td>62852.509718</td>\n",
       "      <td>240.100000</td>\n",
       "      <td>355.166667</td>\n",
       "      <td>0.000000</td>\n",
       "      <td>0</td>\n",
       "      <td>30.0</td>\n",
       "      <td>0</td>\n",
       "      <td>0</td>\n",
       "      <td>0.0</td>\n",
       "    </tr>\n",
       "    <tr>\n",
       "      <th>2</th>\n",
       "      <td>1</td>\n",
       "      <td>0</td>\n",
       "      <td>12</td>\n",
       "      <td>44.50</td>\n",
       "      <td>70.20</td>\n",
       "      <td>69.00</td>\n",
       "      <td>61.40</td>\n",
       "      <td>2598.397406</td>\n",
       "      <td>0</td>\n",
       "      <td>0</td>\n",
       "      <td>...</td>\n",
       "      <td>0.000000</td>\n",
       "      <td>1935.242104</td>\n",
       "      <td>27.666667</td>\n",
       "      <td>0.000000</td>\n",
       "      <td>98.416667</td>\n",
       "      <td>1</td>\n",
       "      <td>25.0</td>\n",
       "      <td>0</td>\n",
       "      <td>0</td>\n",
       "      <td>0.0</td>\n",
       "    </tr>\n",
       "    <tr>\n",
       "      <th>3</th>\n",
       "      <td>4</td>\n",
       "      <td>0</td>\n",
       "      <td>134</td>\n",
       "      <td>87.95</td>\n",
       "      <td>81.40</td>\n",
       "      <td>76.00</td>\n",
       "      <td>88.30</td>\n",
       "      <td>988.440563</td>\n",
       "      <td>0</td>\n",
       "      <td>0</td>\n",
       "      <td>...</td>\n",
       "      <td>37.336425</td>\n",
       "      <td>988.561075</td>\n",
       "      <td>89.900000</td>\n",
       "      <td>74.483333</td>\n",
       "      <td>121.833333</td>\n",
       "      <td>0</td>\n",
       "      <td>44.0</td>\n",
       "      <td>0</td>\n",
       "      <td>0</td>\n",
       "      <td>0.0</td>\n",
       "    </tr>\n",
       "    <tr>\n",
       "      <th>4</th>\n",
       "      <td>4</td>\n",
       "      <td>0</td>\n",
       "      <td>84</td>\n",
       "      <td>317.04</td>\n",
       "      <td>314.08</td>\n",
       "      <td>435.51</td>\n",
       "      <td>413.05</td>\n",
       "      <td>5885.800642</td>\n",
       "      <td>0</td>\n",
       "      <td>1</td>\n",
       "      <td>...</td>\n",
       "      <td>3305.741127</td>\n",
       "      <td>0.000000</td>\n",
       "      <td>0.000000</td>\n",
       "      <td>35.100000</td>\n",
       "      <td>496.733333</td>\n",
       "      <td>0</td>\n",
       "      <td>31.0</td>\n",
       "      <td>2</td>\n",
       "      <td>1</td>\n",
       "      <td>0.0</td>\n",
       "    </tr>\n",
       "  </tbody>\n",
       "</table>\n",
       "<p>5 rows × 25 columns</p>\n",
       "</div>"
      ],
      "text/plain": [
       "   service_type  is_mix_service  online_time  1_total_fee  2_total_fee  \\\n",
       "0             4               0           85       295.96       296.20   \n",
       "1             1               0           10       265.20       261.20   \n",
       "2             1               0           12        44.50        70.20   \n",
       "3             4               0          134        87.95        81.40   \n",
       "4             4               0           84       317.04       314.08   \n",
       "\n",
       "   3_total_fee  4_total_fee  month_traffic  many_over_bill  contract_type  \\\n",
       "0       296.00       296.80    3813.614698               0              1   \n",
       "1       208.50       174.50       0.000000               1              0   \n",
       "2        69.00        61.40    2598.397406               0              0   \n",
       "3        76.00        88.30     988.440563               0              0   \n",
       "4       435.51       413.05    5885.800642               0              1   \n",
       "\n",
       "   ...  last_month_traffic  local_trafffic_month  local_caller_time  \\\n",
       "0  ...         4096.000000           1392.038508         108.100000   \n",
       "1  ...            0.000000          62852.509718         240.100000   \n",
       "2  ...            0.000000           1935.242104          27.666667   \n",
       "3  ...           37.336425            988.561075          89.900000   \n",
       "4  ...         3305.741127              0.000000           0.000000   \n",
       "\n",
       "   service1_caller_time  service2_caller_time  gender   age  complaint_level  \\\n",
       "0              0.000000            564.366667       0  31.0                0   \n",
       "1            355.166667              0.000000       0  30.0                0   \n",
       "2              0.000000             98.416667       1  25.0                0   \n",
       "3             74.483333            121.833333       0  44.0                0   \n",
       "4             35.100000            496.733333       0  31.0                2   \n",
       "\n",
       "   former_complaint_num  former_complaint_fee  \n",
       "0                     0                   0.0  \n",
       "1                     0                   0.0  \n",
       "2                     0                   0.0  \n",
       "3                     0                   0.0  \n",
       "4                     1                   0.0  \n",
       "\n",
       "[5 rows x 25 columns]"
      ]
     },
     "execution_count": 116,
     "metadata": {},
     "output_type": "execute_result"
    }
   ],
   "source": [
    "names = ['gender']\n",
    "for name in names:\n",
    "    df3[name] = pd.factorize(df3[name])[0]\n",
    "df3 = df3.reset_index(drop=True)\n",
    "df3.head()"
   ]
  },
  {
   "cell_type": "code",
   "execution_count": 118,
   "metadata": {},
   "outputs": [
    {
     "name": "stdout",
     "output_type": "stream",
     "text": [
      "1479211\n",
      "1479189\n"
     ]
    }
   ],
   "source": [
    "# размеры изначального и обработанного фреймов\n",
    "print(df.shape[0])\n",
    "print(df3.shape[0])"
   ]
  },
  {
   "attachments": {},
   "cell_type": "markdown",
   "metadata": {},
   "source": [
    "--------------------------------------------------------------------------------------------------------------------------\n",
    "**************************************************************************************************************************\n",
    "--------------------------------------------------------------------------------------------------------------------------"
   ]
  },
  {
   "cell_type": "code",
   "execution_count": 130,
   "metadata": {},
   "outputs": [],
   "source": [
    "x = df3.loc[:, df.columns != 'gender']\n",
    "y = df3['gender']\n",
    "train_points, test_points, train_values, test_values = train_test_split(x, y, random_state=104, test_size=0.25, shuffle=False, stratify=None)"
   ]
  },
  {
   "cell_type": "code",
   "execution_count": 131,
   "metadata": {},
   "outputs": [
    {
     "name": "stdout",
     "output_type": "stream",
     "text": [
      "0.8817678840880697\n"
     ]
    }
   ],
   "source": [
    "rf_model = ensemble.RandomForestClassifier(n_estimators=100)\n",
    "rf_model.fit(train_points, train_values)\n",
    "test_predict_rf = rf_model.predict(test_points)\n",
    "print(accuracy_score(test_values, test_predict_rf))"
   ]
  }
 ],
 "metadata": {
  "kernelspec": {
   "display_name": "Python 3",
   "language": "python",
   "name": "python3"
  },
  "language_info": {
   "codemirror_mode": {
    "name": "ipython",
    "version": 3
   },
   "file_extension": ".py",
   "mimetype": "text/x-python",
   "name": "python",
   "nbconvert_exporter": "python",
   "pygments_lexer": "ipython3",
   "version": "3.11.1"
  },
  "orig_nbformat": 4,
  "vscode": {
   "interpreter": {
    "hash": "f5ff168696553f3e2cb115c273c46eeb315c32b0d0536992c4bad2740a7f9469"
   }
  }
 },
 "nbformat": 4,
 "nbformat_minor": 2
}
